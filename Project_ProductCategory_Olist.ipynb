{
 "cells": [
  {
   "cell_type": "markdown",
   "metadata": {},
   "source": [
    "## 2. Which product category is the best-selling?"
   ]
  },
  {
   "cell_type": "code",
   "execution_count": 1,
   "metadata": {},
   "outputs": [],
   "source": [
    "import numpy as np\n",
    "import pandas as pd\n",
    "import pylab as pl\n",
    "import warnings\n",
    "warnings.filterwarnings(\"ignore\")\n",
    "from sklearn import neighbors \n",
    "from sklearn import tree\n",
    "from sklearn import naive_bayes\n",
    "from sklearn import preprocessing\n",
    "from sklearn import decomposition\n",
    "import matplotlib.pyplot as plt\n",
    "%matplotlib inline"
   ]
  },
  {
   "cell_type": "code",
   "execution_count": 2,
   "metadata": {},
   "outputs": [
    {
     "data": {
      "text/plain": [
       "(111023, 12)"
      ]
     },
     "execution_count": 2,
     "metadata": {},
     "output_type": "execute_result"
    }
   ],
   "source": [
    "data = pd.read_csv(\"Data/purchase_modified.csv\", index_col=0)\n",
    "data.shape"
   ]
  },
  {
   "cell_type": "code",
   "execution_count": 3,
   "metadata": {},
   "outputs": [
    {
     "data": {
      "text/html": [
       "<div>\n",
       "<style scoped>\n",
       "    .dataframe tbody tr th:only-of-type {\n",
       "        vertical-align: middle;\n",
       "    }\n",
       "\n",
       "    .dataframe tbody tr th {\n",
       "        vertical-align: top;\n",
       "    }\n",
       "\n",
       "    .dataframe thead th {\n",
       "        text-align: right;\n",
       "    }\n",
       "</style>\n",
       "<table border=\"1\" class=\"dataframe\">\n",
       "  <thead>\n",
       "    <tr style=\"text-align: right;\">\n",
       "      <th></th>\n",
       "      <th>order_item_id</th>\n",
       "      <th>price</th>\n",
       "      <th>freight_value</th>\n",
       "      <th>product_name_lenght</th>\n",
       "      <th>product_description_lenght</th>\n",
       "      <th>product_photos_qty</th>\n",
       "      <th>product_weight_g</th>\n",
       "      <th>product_length_cm</th>\n",
       "      <th>product_height_cm</th>\n",
       "      <th>product_width_cm</th>\n",
       "      <th>product_category_name_english</th>\n",
       "      <th>order_purchase_timestamp</th>\n",
       "    </tr>\n",
       "  </thead>\n",
       "  <tbody>\n",
       "    <tr>\n",
       "      <th>0</th>\n",
       "      <td>1</td>\n",
       "      <td>58.9</td>\n",
       "      <td>13.29</td>\n",
       "      <td>58.0</td>\n",
       "      <td>598.0</td>\n",
       "      <td>4.0</td>\n",
       "      <td>650.0</td>\n",
       "      <td>28.0</td>\n",
       "      <td>9.0</td>\n",
       "      <td>14.0</td>\n",
       "      <td>cool_stuff</td>\n",
       "      <td>2017-09-13 08:59:02</td>\n",
       "    </tr>\n",
       "    <tr>\n",
       "      <th>1</th>\n",
       "      <td>1</td>\n",
       "      <td>55.9</td>\n",
       "      <td>17.96</td>\n",
       "      <td>58.0</td>\n",
       "      <td>598.0</td>\n",
       "      <td>4.0</td>\n",
       "      <td>650.0</td>\n",
       "      <td>28.0</td>\n",
       "      <td>9.0</td>\n",
       "      <td>14.0</td>\n",
       "      <td>cool_stuff</td>\n",
       "      <td>2017-06-28 11:52:20</td>\n",
       "    </tr>\n",
       "    <tr>\n",
       "      <th>2</th>\n",
       "      <td>1</td>\n",
       "      <td>64.9</td>\n",
       "      <td>18.33</td>\n",
       "      <td>58.0</td>\n",
       "      <td>598.0</td>\n",
       "      <td>4.0</td>\n",
       "      <td>650.0</td>\n",
       "      <td>28.0</td>\n",
       "      <td>9.0</td>\n",
       "      <td>14.0</td>\n",
       "      <td>cool_stuff</td>\n",
       "      <td>2018-05-18 10:25:53</td>\n",
       "    </tr>\n",
       "    <tr>\n",
       "      <th>3</th>\n",
       "      <td>1</td>\n",
       "      <td>58.9</td>\n",
       "      <td>16.17</td>\n",
       "      <td>58.0</td>\n",
       "      <td>598.0</td>\n",
       "      <td>4.0</td>\n",
       "      <td>650.0</td>\n",
       "      <td>28.0</td>\n",
       "      <td>9.0</td>\n",
       "      <td>14.0</td>\n",
       "      <td>cool_stuff</td>\n",
       "      <td>2017-08-01 18:38:42</td>\n",
       "    </tr>\n",
       "    <tr>\n",
       "      <th>4</th>\n",
       "      <td>1</td>\n",
       "      <td>58.9</td>\n",
       "      <td>13.29</td>\n",
       "      <td>58.0</td>\n",
       "      <td>598.0</td>\n",
       "      <td>4.0</td>\n",
       "      <td>650.0</td>\n",
       "      <td>28.0</td>\n",
       "      <td>9.0</td>\n",
       "      <td>14.0</td>\n",
       "      <td>cool_stuff</td>\n",
       "      <td>2017-08-10 21:48:40</td>\n",
       "    </tr>\n",
       "  </tbody>\n",
       "</table>\n",
       "</div>"
      ],
      "text/plain": [
       "   order_item_id  price  freight_value  product_name_lenght  \\\n",
       "0              1   58.9          13.29                 58.0   \n",
       "1              1   55.9          17.96                 58.0   \n",
       "2              1   64.9          18.33                 58.0   \n",
       "3              1   58.9          16.17                 58.0   \n",
       "4              1   58.9          13.29                 58.0   \n",
       "\n",
       "   product_description_lenght  product_photos_qty  product_weight_g  \\\n",
       "0                       598.0                 4.0             650.0   \n",
       "1                       598.0                 4.0             650.0   \n",
       "2                       598.0                 4.0             650.0   \n",
       "3                       598.0                 4.0             650.0   \n",
       "4                       598.0                 4.0             650.0   \n",
       "\n",
       "   product_length_cm  product_height_cm  product_width_cm  \\\n",
       "0               28.0                9.0              14.0   \n",
       "1               28.0                9.0              14.0   \n",
       "2               28.0                9.0              14.0   \n",
       "3               28.0                9.0              14.0   \n",
       "4               28.0                9.0              14.0   \n",
       "\n",
       "  product_category_name_english order_purchase_timestamp  \n",
       "0                    cool_stuff      2017-09-13 08:59:02  \n",
       "1                    cool_stuff      2017-06-28 11:52:20  \n",
       "2                    cool_stuff      2018-05-18 10:25:53  \n",
       "3                    cool_stuff      2017-08-01 18:38:42  \n",
       "4                    cool_stuff      2017-08-10 21:48:40  "
      ]
     },
     "execution_count": 3,
     "metadata": {},
     "output_type": "execute_result"
    }
   ],
   "source": [
    "data.head()"
   ]
  },
  {
   "cell_type": "code",
   "execution_count": 4,
   "metadata": {},
   "outputs": [
    {
     "name": "stdout",
     "output_type": "stream",
     "text": [
      "<class 'pandas.core.frame.DataFrame'>\n",
      "Int64Index: 111023 entries, 0 to 111022\n",
      "Data columns (total 12 columns):\n",
      " #   Column                         Non-Null Count   Dtype  \n",
      "---  ------                         --------------   -----  \n",
      " 0   order_item_id                  111023 non-null  int64  \n",
      " 1   price                          111023 non-null  float64\n",
      " 2   freight_value                  111023 non-null  float64\n",
      " 3   product_name_lenght            111023 non-null  float64\n",
      " 4   product_description_lenght     111023 non-null  float64\n",
      " 5   product_photos_qty             111023 non-null  float64\n",
      " 6   product_weight_g               111022 non-null  float64\n",
      " 7   product_length_cm              111022 non-null  float64\n",
      " 8   product_height_cm              111022 non-null  float64\n",
      " 9   product_width_cm               111022 non-null  float64\n",
      " 10  product_category_name_english  111023 non-null  object \n",
      " 11  order_purchase_timestamp       111023 non-null  object \n",
      "dtypes: float64(9), int64(1), object(2)\n",
      "memory usage: 11.0+ MB\n"
     ]
    }
   ],
   "source": [
    "data.info()"
   ]
  },
  {
   "cell_type": "code",
   "execution_count": 5,
   "metadata": {},
   "outputs": [
    {
     "data": {
      "text/plain": [
       "order_item_id                    0\n",
       "price                            0\n",
       "freight_value                    0\n",
       "product_name_lenght              0\n",
       "product_description_lenght       0\n",
       "product_photos_qty               0\n",
       "product_weight_g                 1\n",
       "product_length_cm                1\n",
       "product_height_cm                1\n",
       "product_width_cm                 1\n",
       "product_category_name_english    0\n",
       "order_purchase_timestamp         0\n",
       "dtype: int64"
      ]
     },
     "execution_count": 5,
     "metadata": {},
     "output_type": "execute_result"
    }
   ],
   "source": [
    "data.isna().sum()"
   ]
  },
  {
   "cell_type": "markdown",
   "metadata": {},
   "source": [
    "#### Managing NaN value with mean computing"
   ]
  },
  {
   "cell_type": "code",
   "execution_count": 6,
   "metadata": {},
   "outputs": [
    {
     "data": {
      "text/html": [
       "<div>\n",
       "<style scoped>\n",
       "    .dataframe tbody tr th:only-of-type {\n",
       "        vertical-align: middle;\n",
       "    }\n",
       "\n",
       "    .dataframe tbody tr th {\n",
       "        vertical-align: top;\n",
       "    }\n",
       "\n",
       "    .dataframe thead th {\n",
       "        text-align: right;\n",
       "    }\n",
       "</style>\n",
       "<table border=\"1\" class=\"dataframe\">\n",
       "  <thead>\n",
       "    <tr style=\"text-align: right;\">\n",
       "      <th></th>\n",
       "      <th>order_item_id</th>\n",
       "      <th>price</th>\n",
       "      <th>freight_value</th>\n",
       "      <th>product_name_lenght</th>\n",
       "      <th>product_description_lenght</th>\n",
       "      <th>product_photos_qty</th>\n",
       "      <th>product_weight_g</th>\n",
       "      <th>product_length_cm</th>\n",
       "      <th>product_height_cm</th>\n",
       "      <th>product_width_cm</th>\n",
       "      <th>product_category_name_english</th>\n",
       "      <th>order_purchase_timestamp</th>\n",
       "    </tr>\n",
       "  </thead>\n",
       "  <tbody>\n",
       "    <tr>\n",
       "      <th>84659</th>\n",
       "      <td>1</td>\n",
       "      <td>1934.0</td>\n",
       "      <td>27.0</td>\n",
       "      <td>60.0</td>\n",
       "      <td>865.0</td>\n",
       "      <td>3.0</td>\n",
       "      <td>NaN</td>\n",
       "      <td>NaN</td>\n",
       "      <td>NaN</td>\n",
       "      <td>NaN</td>\n",
       "      <td>baby</td>\n",
       "      <td>2017-01-29 21:40:02</td>\n",
       "    </tr>\n",
       "  </tbody>\n",
       "</table>\n",
       "</div>"
      ],
      "text/plain": [
       "       order_item_id   price  freight_value  product_name_lenght  \\\n",
       "84659              1  1934.0           27.0                 60.0   \n",
       "\n",
       "       product_description_lenght  product_photos_qty  product_weight_g  \\\n",
       "84659                       865.0                 3.0               NaN   \n",
       "\n",
       "       product_length_cm  product_height_cm  product_width_cm  \\\n",
       "84659                NaN                NaN               NaN   \n",
       "\n",
       "      product_category_name_english order_purchase_timestamp  \n",
       "84659                          baby      2017-01-29 21:40:02  "
      ]
     },
     "execution_count": 6,
     "metadata": {},
     "output_type": "execute_result"
    }
   ],
   "source": [
    "data[data.product_height_cm.isnull()]"
   ]
  },
  {
   "cell_type": "code",
   "execution_count": 7,
   "metadata": {},
   "outputs": [],
   "source": [
    "Compute_mean = data.product_height_cm.mean()\n",
    "data.product_height_cm.fillna(Compute_mean, axis=0, inplace=True)"
   ]
  },
  {
   "cell_type": "code",
   "execution_count": 8,
   "metadata": {},
   "outputs": [
    {
     "data": {
      "text/html": [
       "<div>\n",
       "<style scoped>\n",
       "    .dataframe tbody tr th:only-of-type {\n",
       "        vertical-align: middle;\n",
       "    }\n",
       "\n",
       "    .dataframe tbody tr th {\n",
       "        vertical-align: top;\n",
       "    }\n",
       "\n",
       "    .dataframe thead th {\n",
       "        text-align: right;\n",
       "    }\n",
       "</style>\n",
       "<table border=\"1\" class=\"dataframe\">\n",
       "  <thead>\n",
       "    <tr style=\"text-align: right;\">\n",
       "      <th></th>\n",
       "      <th>order_item_id</th>\n",
       "      <th>price</th>\n",
       "      <th>freight_value</th>\n",
       "      <th>product_name_lenght</th>\n",
       "      <th>product_description_lenght</th>\n",
       "      <th>product_photos_qty</th>\n",
       "      <th>product_weight_g</th>\n",
       "      <th>product_length_cm</th>\n",
       "      <th>product_height_cm</th>\n",
       "      <th>product_width_cm</th>\n",
       "      <th>product_category_name_english</th>\n",
       "      <th>order_purchase_timestamp</th>\n",
       "    </tr>\n",
       "  </thead>\n",
       "  <tbody>\n",
       "    <tr>\n",
       "      <th>84659</th>\n",
       "      <td>1</td>\n",
       "      <td>1934.0</td>\n",
       "      <td>27.0</td>\n",
       "      <td>60.0</td>\n",
       "      <td>865.0</td>\n",
       "      <td>3.0</td>\n",
       "      <td>NaN</td>\n",
       "      <td>NaN</td>\n",
       "      <td>16.624966</td>\n",
       "      <td>NaN</td>\n",
       "      <td>baby</td>\n",
       "      <td>2017-01-29 21:40:02</td>\n",
       "    </tr>\n",
       "  </tbody>\n",
       "</table>\n",
       "</div>"
      ],
      "text/plain": [
       "       order_item_id   price  freight_value  product_name_lenght  \\\n",
       "84659              1  1934.0           27.0                 60.0   \n",
       "\n",
       "       product_description_lenght  product_photos_qty  product_weight_g  \\\n",
       "84659                       865.0                 3.0               NaN   \n",
       "\n",
       "       product_length_cm  product_height_cm  product_width_cm  \\\n",
       "84659                NaN          16.624966               NaN   \n",
       "\n",
       "      product_category_name_english order_purchase_timestamp  \n",
       "84659                          baby      2017-01-29 21:40:02  "
      ]
     },
     "execution_count": 8,
     "metadata": {},
     "output_type": "execute_result"
    }
   ],
   "source": [
    "data[data.product_weight_g.isnull()]"
   ]
  },
  {
   "cell_type": "code",
   "execution_count": 9,
   "metadata": {},
   "outputs": [],
   "source": [
    "Compute_mean = data.product_weight_g.mean()\n",
    "data.product_weight_g.fillna(Compute_mean, axis=0, inplace=True)"
   ]
  },
  {
   "cell_type": "code",
   "execution_count": 10,
   "metadata": {},
   "outputs": [
    {
     "data": {
      "text/html": [
       "<div>\n",
       "<style scoped>\n",
       "    .dataframe tbody tr th:only-of-type {\n",
       "        vertical-align: middle;\n",
       "    }\n",
       "\n",
       "    .dataframe tbody tr th {\n",
       "        vertical-align: top;\n",
       "    }\n",
       "\n",
       "    .dataframe thead th {\n",
       "        text-align: right;\n",
       "    }\n",
       "</style>\n",
       "<table border=\"1\" class=\"dataframe\">\n",
       "  <thead>\n",
       "    <tr style=\"text-align: right;\">\n",
       "      <th></th>\n",
       "      <th>order_item_id</th>\n",
       "      <th>price</th>\n",
       "      <th>freight_value</th>\n",
       "      <th>product_name_lenght</th>\n",
       "      <th>product_description_lenght</th>\n",
       "      <th>product_photos_qty</th>\n",
       "      <th>product_weight_g</th>\n",
       "      <th>product_length_cm</th>\n",
       "      <th>product_height_cm</th>\n",
       "      <th>product_width_cm</th>\n",
       "      <th>product_category_name_english</th>\n",
       "      <th>order_purchase_timestamp</th>\n",
       "    </tr>\n",
       "  </thead>\n",
       "  <tbody>\n",
       "    <tr>\n",
       "      <th>84659</th>\n",
       "      <td>1</td>\n",
       "      <td>1934.0</td>\n",
       "      <td>27.0</td>\n",
       "      <td>60.0</td>\n",
       "      <td>865.0</td>\n",
       "      <td>3.0</td>\n",
       "      <td>2099.897507</td>\n",
       "      <td>NaN</td>\n",
       "      <td>16.624966</td>\n",
       "      <td>NaN</td>\n",
       "      <td>baby</td>\n",
       "      <td>2017-01-29 21:40:02</td>\n",
       "    </tr>\n",
       "  </tbody>\n",
       "</table>\n",
       "</div>"
      ],
      "text/plain": [
       "       order_item_id   price  freight_value  product_name_lenght  \\\n",
       "84659              1  1934.0           27.0                 60.0   \n",
       "\n",
       "       product_description_lenght  product_photos_qty  product_weight_g  \\\n",
       "84659                       865.0                 3.0       2099.897507   \n",
       "\n",
       "       product_length_cm  product_height_cm  product_width_cm  \\\n",
       "84659                NaN          16.624966               NaN   \n",
       "\n",
       "      product_category_name_english order_purchase_timestamp  \n",
       "84659                          baby      2017-01-29 21:40:02  "
      ]
     },
     "execution_count": 10,
     "metadata": {},
     "output_type": "execute_result"
    }
   ],
   "source": [
    "data[data.product_length_cm.isnull()]"
   ]
  },
  {
   "cell_type": "code",
   "execution_count": 11,
   "metadata": {},
   "outputs": [],
   "source": [
    "Compute_mean = data.product_length_cm.mean()\n",
    "data.product_length_cm.fillna(Compute_mean, axis=0, inplace=True)"
   ]
  },
  {
   "cell_type": "code",
   "execution_count": 12,
   "metadata": {},
   "outputs": [
    {
     "data": {
      "text/html": [
       "<div>\n",
       "<style scoped>\n",
       "    .dataframe tbody tr th:only-of-type {\n",
       "        vertical-align: middle;\n",
       "    }\n",
       "\n",
       "    .dataframe tbody tr th {\n",
       "        vertical-align: top;\n",
       "    }\n",
       "\n",
       "    .dataframe thead th {\n",
       "        text-align: right;\n",
       "    }\n",
       "</style>\n",
       "<table border=\"1\" class=\"dataframe\">\n",
       "  <thead>\n",
       "    <tr style=\"text-align: right;\">\n",
       "      <th></th>\n",
       "      <th>order_item_id</th>\n",
       "      <th>price</th>\n",
       "      <th>freight_value</th>\n",
       "      <th>product_name_lenght</th>\n",
       "      <th>product_description_lenght</th>\n",
       "      <th>product_photos_qty</th>\n",
       "      <th>product_weight_g</th>\n",
       "      <th>product_length_cm</th>\n",
       "      <th>product_height_cm</th>\n",
       "      <th>product_width_cm</th>\n",
       "      <th>product_category_name_english</th>\n",
       "      <th>order_purchase_timestamp</th>\n",
       "    </tr>\n",
       "  </thead>\n",
       "  <tbody>\n",
       "    <tr>\n",
       "      <th>84659</th>\n",
       "      <td>1</td>\n",
       "      <td>1934.0</td>\n",
       "      <td>27.0</td>\n",
       "      <td>60.0</td>\n",
       "      <td>865.0</td>\n",
       "      <td>3.0</td>\n",
       "      <td>2099.897507</td>\n",
       "      <td>30.21221</td>\n",
       "      <td>16.624966</td>\n",
       "      <td>NaN</td>\n",
       "      <td>baby</td>\n",
       "      <td>2017-01-29 21:40:02</td>\n",
       "    </tr>\n",
       "  </tbody>\n",
       "</table>\n",
       "</div>"
      ],
      "text/plain": [
       "       order_item_id   price  freight_value  product_name_lenght  \\\n",
       "84659              1  1934.0           27.0                 60.0   \n",
       "\n",
       "       product_description_lenght  product_photos_qty  product_weight_g  \\\n",
       "84659                       865.0                 3.0       2099.897507   \n",
       "\n",
       "       product_length_cm  product_height_cm  product_width_cm  \\\n",
       "84659           30.21221          16.624966               NaN   \n",
       "\n",
       "      product_category_name_english order_purchase_timestamp  \n",
       "84659                          baby      2017-01-29 21:40:02  "
      ]
     },
     "execution_count": 12,
     "metadata": {},
     "output_type": "execute_result"
    }
   ],
   "source": [
    "data[data.product_width_cm.isnull()]"
   ]
  },
  {
   "cell_type": "code",
   "execution_count": 13,
   "metadata": {},
   "outputs": [],
   "source": [
    "compute_mean = data.product_width_cm.mean()\n",
    "data.product_width_cm.fillna(Compute_mean, axis=0, inplace=True)"
   ]
  },
  {
   "cell_type": "code",
   "execution_count": 14,
   "metadata": {},
   "outputs": [
    {
     "data": {
      "text/html": [
       "<div>\n",
       "<style scoped>\n",
       "    .dataframe tbody tr th:only-of-type {\n",
       "        vertical-align: middle;\n",
       "    }\n",
       "\n",
       "    .dataframe tbody tr th {\n",
       "        vertical-align: top;\n",
       "    }\n",
       "\n",
       "    .dataframe thead th {\n",
       "        text-align: right;\n",
       "    }\n",
       "</style>\n",
       "<table border=\"1\" class=\"dataframe\">\n",
       "  <thead>\n",
       "    <tr style=\"text-align: right;\">\n",
       "      <th></th>\n",
       "      <th>count</th>\n",
       "      <th>mean</th>\n",
       "      <th>std</th>\n",
       "      <th>min</th>\n",
       "      <th>25%</th>\n",
       "      <th>50%</th>\n",
       "      <th>75%</th>\n",
       "      <th>max</th>\n",
       "    </tr>\n",
       "  </thead>\n",
       "  <tbody>\n",
       "    <tr>\n",
       "      <th>order_item_id</th>\n",
       "      <td>111023.0</td>\n",
       "      <td>1.198229</td>\n",
       "      <td>0.706931</td>\n",
       "      <td>1.00</td>\n",
       "      <td>1.00</td>\n",
       "      <td>1.00</td>\n",
       "      <td>1.00</td>\n",
       "      <td>21.00</td>\n",
       "    </tr>\n",
       "    <tr>\n",
       "      <th>price</th>\n",
       "      <td>111023.0</td>\n",
       "      <td>120.755104</td>\n",
       "      <td>183.372746</td>\n",
       "      <td>0.85</td>\n",
       "      <td>39.90</td>\n",
       "      <td>74.99</td>\n",
       "      <td>134.90</td>\n",
       "      <td>6735.00</td>\n",
       "    </tr>\n",
       "    <tr>\n",
       "      <th>freight_value</th>\n",
       "      <td>111023.0</td>\n",
       "      <td>20.025548</td>\n",
       "      <td>15.841472</td>\n",
       "      <td>0.00</td>\n",
       "      <td>13.08</td>\n",
       "      <td>16.31</td>\n",
       "      <td>21.18</td>\n",
       "      <td>409.68</td>\n",
       "    </tr>\n",
       "    <tr>\n",
       "      <th>product_name_lenght</th>\n",
       "      <td>111023.0</td>\n",
       "      <td>48.774533</td>\n",
       "      <td>10.025953</td>\n",
       "      <td>5.00</td>\n",
       "      <td>42.00</td>\n",
       "      <td>52.00</td>\n",
       "      <td>57.00</td>\n",
       "      <td>76.00</td>\n",
       "    </tr>\n",
       "    <tr>\n",
       "      <th>product_description_lenght</th>\n",
       "      <td>111023.0</td>\n",
       "      <td>787.871549</td>\n",
       "      <td>652.169930</td>\n",
       "      <td>4.00</td>\n",
       "      <td>348.00</td>\n",
       "      <td>603.00</td>\n",
       "      <td>987.00</td>\n",
       "      <td>3992.00</td>\n",
       "    </tr>\n",
       "    <tr>\n",
       "      <th>product_photos_qty</th>\n",
       "      <td>111023.0</td>\n",
       "      <td>2.209569</td>\n",
       "      <td>1.721428</td>\n",
       "      <td>1.00</td>\n",
       "      <td>1.00</td>\n",
       "      <td>1.00</td>\n",
       "      <td>3.00</td>\n",
       "      <td>20.00</td>\n",
       "    </tr>\n",
       "    <tr>\n",
       "      <th>product_weight_g</th>\n",
       "      <td>111023.0</td>\n",
       "      <td>2099.897507</td>\n",
       "      <td>3754.955812</td>\n",
       "      <td>0.00</td>\n",
       "      <td>300.00</td>\n",
       "      <td>700.00</td>\n",
       "      <td>1800.00</td>\n",
       "      <td>40425.00</td>\n",
       "    </tr>\n",
       "    <tr>\n",
       "      <th>product_length_cm</th>\n",
       "      <td>111023.0</td>\n",
       "      <td>30.212210</td>\n",
       "      <td>16.190400</td>\n",
       "      <td>7.00</td>\n",
       "      <td>18.00</td>\n",
       "      <td>25.00</td>\n",
       "      <td>38.00</td>\n",
       "      <td>105.00</td>\n",
       "    </tr>\n",
       "    <tr>\n",
       "      <th>product_height_cm</th>\n",
       "      <td>111023.0</td>\n",
       "      <td>16.624966</td>\n",
       "      <td>13.468123</td>\n",
       "      <td>2.00</td>\n",
       "      <td>8.00</td>\n",
       "      <td>13.00</td>\n",
       "      <td>20.00</td>\n",
       "      <td>105.00</td>\n",
       "    </tr>\n",
       "    <tr>\n",
       "      <th>product_width_cm</th>\n",
       "      <td>111023.0</td>\n",
       "      <td>23.042236</td>\n",
       "      <td>11.717679</td>\n",
       "      <td>6.00</td>\n",
       "      <td>15.00</td>\n",
       "      <td>20.00</td>\n",
       "      <td>30.00</td>\n",
       "      <td>118.00</td>\n",
       "    </tr>\n",
       "  </tbody>\n",
       "</table>\n",
       "</div>"
      ],
      "text/plain": [
       "                               count         mean          std   min     25%  \\\n",
       "order_item_id               111023.0     1.198229     0.706931  1.00    1.00   \n",
       "price                       111023.0   120.755104   183.372746  0.85   39.90   \n",
       "freight_value               111023.0    20.025548    15.841472  0.00   13.08   \n",
       "product_name_lenght         111023.0    48.774533    10.025953  5.00   42.00   \n",
       "product_description_lenght  111023.0   787.871549   652.169930  4.00  348.00   \n",
       "product_photos_qty          111023.0     2.209569     1.721428  1.00    1.00   \n",
       "product_weight_g            111023.0  2099.897507  3754.955812  0.00  300.00   \n",
       "product_length_cm           111023.0    30.212210    16.190400  7.00   18.00   \n",
       "product_height_cm           111023.0    16.624966    13.468123  2.00    8.00   \n",
       "product_width_cm            111023.0    23.042236    11.717679  6.00   15.00   \n",
       "\n",
       "                               50%      75%       max  \n",
       "order_item_id                 1.00     1.00     21.00  \n",
       "price                        74.99   134.90   6735.00  \n",
       "freight_value                16.31    21.18    409.68  \n",
       "product_name_lenght          52.00    57.00     76.00  \n",
       "product_description_lenght  603.00   987.00   3992.00  \n",
       "product_photos_qty            1.00     3.00     20.00  \n",
       "product_weight_g            700.00  1800.00  40425.00  \n",
       "product_length_cm            25.00    38.00    105.00  \n",
       "product_height_cm            13.00    20.00    105.00  \n",
       "product_width_cm             20.00    30.00    118.00  "
      ]
     },
     "execution_count": 14,
     "metadata": {},
     "output_type": "execute_result"
    }
   ],
   "source": [
    "data.describe().T"
   ]
  },
  {
   "cell_type": "code",
   "execution_count": 15,
   "metadata": {},
   "outputs": [],
   "source": [
    "data['order_purchase_timestamp'] = pd.to_datetime(data['order_purchase_timestamp'], \n",
    " format = '%Y-%m-%d %H:%M:%S', \n",
    " errors = 'coerce')"
   ]
  },
  {
   "cell_type": "code",
   "execution_count": 16,
   "metadata": {},
   "outputs": [],
   "source": [
    "data['purchase_month'] = data['order_purchase_timestamp'].dt.month\n",
    "data['purchase_day'] = data['order_purchase_timestamp'].dt.day\n",
    "data['purchase_year'] = data['order_purchase_timestamp'].dt.year\n",
    "data['purchase_week'] = data['order_purchase_timestamp'].dt.week\n",
    "data['purchase_hour'] = data['order_purchase_timestamp'].dt.hour\n",
    "data['purchase_minute'] = data['order_purchase_timestamp'].dt.minute"
   ]
  },
  {
   "cell_type": "code",
   "execution_count": 17,
   "metadata": {},
   "outputs": [],
   "source": [
    "purchase = data[['order_purchase_timestamp','product_category_name_english','purchase_day', 'purchase_month', 'purchase_year', 'purchase_week', 'purchase_hour', 'purchase_minute' ]]"
   ]
  },
  {
   "cell_type": "code",
   "execution_count": 18,
   "metadata": {},
   "outputs": [
    {
     "data": {
      "text/html": [
       "<div>\n",
       "<style scoped>\n",
       "    .dataframe tbody tr th:only-of-type {\n",
       "        vertical-align: middle;\n",
       "    }\n",
       "\n",
       "    .dataframe tbody tr th {\n",
       "        vertical-align: top;\n",
       "    }\n",
       "\n",
       "    .dataframe thead th {\n",
       "        text-align: right;\n",
       "    }\n",
       "</style>\n",
       "<table border=\"1\" class=\"dataframe\">\n",
       "  <thead>\n",
       "    <tr style=\"text-align: right;\">\n",
       "      <th></th>\n",
       "      <th>order_purchase_timestamp</th>\n",
       "      <th>product_category_name_english</th>\n",
       "      <th>purchase_day</th>\n",
       "      <th>purchase_month</th>\n",
       "      <th>purchase_year</th>\n",
       "      <th>purchase_week</th>\n",
       "      <th>purchase_hour</th>\n",
       "      <th>purchase_minute</th>\n",
       "    </tr>\n",
       "  </thead>\n",
       "  <tbody>\n",
       "    <tr>\n",
       "      <th>0</th>\n",
       "      <td>2017-09-13 08:59:02</td>\n",
       "      <td>cool_stuff</td>\n",
       "      <td>13</td>\n",
       "      <td>9</td>\n",
       "      <td>2017</td>\n",
       "      <td>37</td>\n",
       "      <td>8</td>\n",
       "      <td>59</td>\n",
       "    </tr>\n",
       "    <tr>\n",
       "      <th>1</th>\n",
       "      <td>2017-06-28 11:52:20</td>\n",
       "      <td>cool_stuff</td>\n",
       "      <td>28</td>\n",
       "      <td>6</td>\n",
       "      <td>2017</td>\n",
       "      <td>26</td>\n",
       "      <td>11</td>\n",
       "      <td>52</td>\n",
       "    </tr>\n",
       "    <tr>\n",
       "      <th>2</th>\n",
       "      <td>2018-05-18 10:25:53</td>\n",
       "      <td>cool_stuff</td>\n",
       "      <td>18</td>\n",
       "      <td>5</td>\n",
       "      <td>2018</td>\n",
       "      <td>20</td>\n",
       "      <td>10</td>\n",
       "      <td>25</td>\n",
       "    </tr>\n",
       "    <tr>\n",
       "      <th>3</th>\n",
       "      <td>2017-08-01 18:38:42</td>\n",
       "      <td>cool_stuff</td>\n",
       "      <td>1</td>\n",
       "      <td>8</td>\n",
       "      <td>2017</td>\n",
       "      <td>31</td>\n",
       "      <td>18</td>\n",
       "      <td>38</td>\n",
       "    </tr>\n",
       "    <tr>\n",
       "      <th>4</th>\n",
       "      <td>2017-08-10 21:48:40</td>\n",
       "      <td>cool_stuff</td>\n",
       "      <td>10</td>\n",
       "      <td>8</td>\n",
       "      <td>2017</td>\n",
       "      <td>32</td>\n",
       "      <td>21</td>\n",
       "      <td>48</td>\n",
       "    </tr>\n",
       "    <tr>\n",
       "      <th>5</th>\n",
       "      <td>2017-07-27 15:11:51</td>\n",
       "      <td>cool_stuff</td>\n",
       "      <td>27</td>\n",
       "      <td>7</td>\n",
       "      <td>2017</td>\n",
       "      <td>30</td>\n",
       "      <td>15</td>\n",
       "      <td>11</td>\n",
       "    </tr>\n",
       "    <tr>\n",
       "      <th>6</th>\n",
       "      <td>2018-03-18 21:00:44</td>\n",
       "      <td>cool_stuff</td>\n",
       "      <td>18</td>\n",
       "      <td>3</td>\n",
       "      <td>2018</td>\n",
       "      <td>11</td>\n",
       "      <td>21</td>\n",
       "      <td>0</td>\n",
       "    </tr>\n",
       "    <tr>\n",
       "      <th>7</th>\n",
       "      <td>2017-08-05 16:59:05</td>\n",
       "      <td>cool_stuff</td>\n",
       "      <td>5</td>\n",
       "      <td>8</td>\n",
       "      <td>2017</td>\n",
       "      <td>31</td>\n",
       "      <td>16</td>\n",
       "      <td>59</td>\n",
       "    </tr>\n",
       "    <tr>\n",
       "      <th>8</th>\n",
       "      <td>2017-08-05 16:59:05</td>\n",
       "      <td>cool_stuff</td>\n",
       "      <td>5</td>\n",
       "      <td>8</td>\n",
       "      <td>2017</td>\n",
       "      <td>31</td>\n",
       "      <td>16</td>\n",
       "      <td>59</td>\n",
       "    </tr>\n",
       "    <tr>\n",
       "      <th>9</th>\n",
       "      <td>2017-06-05 12:22:19</td>\n",
       "      <td>cool_stuff</td>\n",
       "      <td>5</td>\n",
       "      <td>6</td>\n",
       "      <td>2017</td>\n",
       "      <td>23</td>\n",
       "      <td>12</td>\n",
       "      <td>22</td>\n",
       "    </tr>\n",
       "  </tbody>\n",
       "</table>\n",
       "</div>"
      ],
      "text/plain": [
       "  order_purchase_timestamp product_category_name_english  purchase_day  \\\n",
       "0      2017-09-13 08:59:02                    cool_stuff            13   \n",
       "1      2017-06-28 11:52:20                    cool_stuff            28   \n",
       "2      2018-05-18 10:25:53                    cool_stuff            18   \n",
       "3      2017-08-01 18:38:42                    cool_stuff             1   \n",
       "4      2017-08-10 21:48:40                    cool_stuff            10   \n",
       "5      2017-07-27 15:11:51                    cool_stuff            27   \n",
       "6      2018-03-18 21:00:44                    cool_stuff            18   \n",
       "7      2017-08-05 16:59:05                    cool_stuff             5   \n",
       "8      2017-08-05 16:59:05                    cool_stuff             5   \n",
       "9      2017-06-05 12:22:19                    cool_stuff             5   \n",
       "\n",
       "   purchase_month  purchase_year  purchase_week  purchase_hour  \\\n",
       "0               9           2017             37              8   \n",
       "1               6           2017             26             11   \n",
       "2               5           2018             20             10   \n",
       "3               8           2017             31             18   \n",
       "4               8           2017             32             21   \n",
       "5               7           2017             30             15   \n",
       "6               3           2018             11             21   \n",
       "7               8           2017             31             16   \n",
       "8               8           2017             31             16   \n",
       "9               6           2017             23             12   \n",
       "\n",
       "   purchase_minute  \n",
       "0               59  \n",
       "1               52  \n",
       "2               25  \n",
       "3               38  \n",
       "4               48  \n",
       "5               11  \n",
       "6                0  \n",
       "7               59  \n",
       "8               59  \n",
       "9               22  "
      ]
     },
     "execution_count": 18,
     "metadata": {},
     "output_type": "execute_result"
    }
   ],
   "source": [
    "purchase.head(10)"
   ]
  },
  {
   "cell_type": "code",
   "execution_count": 19,
   "metadata": {},
   "outputs": [
    {
     "data": {
      "text/plain": [
       "(111023, 8)"
      ]
     },
     "execution_count": 19,
     "metadata": {},
     "output_type": "execute_result"
    }
   ],
   "source": [
    "purchase.shape"
   ]
  },
  {
   "cell_type": "code",
   "execution_count": 20,
   "metadata": {},
   "outputs": [
    {
     "data": {
      "text/html": [
       "<div>\n",
       "<style scoped>\n",
       "    .dataframe tbody tr th:only-of-type {\n",
       "        vertical-align: middle;\n",
       "    }\n",
       "\n",
       "    .dataframe tbody tr th {\n",
       "        vertical-align: top;\n",
       "    }\n",
       "\n",
       "    .dataframe thead th {\n",
       "        text-align: right;\n",
       "    }\n",
       "</style>\n",
       "<table border=\"1\" class=\"dataframe\">\n",
       "  <thead>\n",
       "    <tr style=\"text-align: right;\">\n",
       "      <th></th>\n",
       "      <th>purchase_day</th>\n",
       "      <th>purchase_month</th>\n",
       "      <th>purchase_year</th>\n",
       "      <th>purchase_week</th>\n",
       "      <th>purchase_hour</th>\n",
       "      <th>purchase_minute</th>\n",
       "    </tr>\n",
       "  </thead>\n",
       "  <tbody>\n",
       "    <tr>\n",
       "      <th>count</th>\n",
       "      <td>111023.000000</td>\n",
       "      <td>111023.000000</td>\n",
       "      <td>111023.000000</td>\n",
       "      <td>111023.000000</td>\n",
       "      <td>111023.000000</td>\n",
       "      <td>111023.000000</td>\n",
       "    </tr>\n",
       "    <tr>\n",
       "      <th>mean</th>\n",
       "      <td>15.562451</td>\n",
       "      <td>6.031714</td>\n",
       "      <td>2017.543527</td>\n",
       "      <td>24.360529</td>\n",
       "      <td>14.753907</td>\n",
       "      <td>29.522288</td>\n",
       "    </tr>\n",
       "    <tr>\n",
       "      <th>std</th>\n",
       "      <td>8.663909</td>\n",
       "      <td>3.226001</td>\n",
       "      <td>0.504715</td>\n",
       "      <td>14.026763</td>\n",
       "      <td>5.312506</td>\n",
       "      <td>17.292320</td>\n",
       "    </tr>\n",
       "    <tr>\n",
       "      <th>min</th>\n",
       "      <td>1.000000</td>\n",
       "      <td>1.000000</td>\n",
       "      <td>2016.000000</td>\n",
       "      <td>1.000000</td>\n",
       "      <td>0.000000</td>\n",
       "      <td>0.000000</td>\n",
       "    </tr>\n",
       "    <tr>\n",
       "      <th>25%</th>\n",
       "      <td>8.000000</td>\n",
       "      <td>3.000000</td>\n",
       "      <td>2017.000000</td>\n",
       "      <td>13.000000</td>\n",
       "      <td>11.000000</td>\n",
       "      <td>15.000000</td>\n",
       "    </tr>\n",
       "    <tr>\n",
       "      <th>50%</th>\n",
       "      <td>16.000000</td>\n",
       "      <td>6.000000</td>\n",
       "      <td>2018.000000</td>\n",
       "      <td>24.000000</td>\n",
       "      <td>15.000000</td>\n",
       "      <td>29.000000</td>\n",
       "    </tr>\n",
       "    <tr>\n",
       "      <th>75%</th>\n",
       "      <td>23.000000</td>\n",
       "      <td>8.000000</td>\n",
       "      <td>2018.000000</td>\n",
       "      <td>34.000000</td>\n",
       "      <td>19.000000</td>\n",
       "      <td>45.000000</td>\n",
       "    </tr>\n",
       "    <tr>\n",
       "      <th>max</th>\n",
       "      <td>31.000000</td>\n",
       "      <td>12.000000</td>\n",
       "      <td>2018.000000</td>\n",
       "      <td>52.000000</td>\n",
       "      <td>23.000000</td>\n",
       "      <td>59.000000</td>\n",
       "    </tr>\n",
       "  </tbody>\n",
       "</table>\n",
       "</div>"
      ],
      "text/plain": [
       "        purchase_day  purchase_month  purchase_year  purchase_week  \\\n",
       "count  111023.000000   111023.000000  111023.000000  111023.000000   \n",
       "mean       15.562451        6.031714    2017.543527      24.360529   \n",
       "std         8.663909        3.226001       0.504715      14.026763   \n",
       "min         1.000000        1.000000    2016.000000       1.000000   \n",
       "25%         8.000000        3.000000    2017.000000      13.000000   \n",
       "50%        16.000000        6.000000    2018.000000      24.000000   \n",
       "75%        23.000000        8.000000    2018.000000      34.000000   \n",
       "max        31.000000       12.000000    2018.000000      52.000000   \n",
       "\n",
       "       purchase_hour  purchase_minute  \n",
       "count  111023.000000    111023.000000  \n",
       "mean       14.753907        29.522288  \n",
       "std         5.312506        17.292320  \n",
       "min         0.000000         0.000000  \n",
       "25%        11.000000        15.000000  \n",
       "50%        15.000000        29.000000  \n",
       "75%        19.000000        45.000000  \n",
       "max        23.000000        59.000000  "
      ]
     },
     "execution_count": 20,
     "metadata": {},
     "output_type": "execute_result"
    }
   ],
   "source": [
    "purchase.describe()"
   ]
  },
  {
   "cell_type": "code",
   "execution_count": 21,
   "metadata": {},
   "outputs": [
    {
     "data": {
      "text/html": [
       "<div>\n",
       "<style scoped>\n",
       "    .dataframe tbody tr th:only-of-type {\n",
       "        vertical-align: middle;\n",
       "    }\n",
       "\n",
       "    .dataframe tbody tr th {\n",
       "        vertical-align: top;\n",
       "    }\n",
       "\n",
       "    .dataframe thead th {\n",
       "        text-align: right;\n",
       "    }\n",
       "</style>\n",
       "<table border=\"1\" class=\"dataframe\">\n",
       "  <thead>\n",
       "    <tr style=\"text-align: right;\">\n",
       "      <th></th>\n",
       "      <th>order_item_id</th>\n",
       "      <th>price</th>\n",
       "      <th>freight_value</th>\n",
       "      <th>product_name_lenght</th>\n",
       "      <th>product_description_lenght</th>\n",
       "      <th>product_photos_qty</th>\n",
       "      <th>product_weight_g</th>\n",
       "      <th>product_length_cm</th>\n",
       "      <th>product_height_cm</th>\n",
       "      <th>product_width_cm</th>\n",
       "      <th>order_purchase_timestamp</th>\n",
       "      <th>purchase_month</th>\n",
       "      <th>purchase_day</th>\n",
       "      <th>purchase_year</th>\n",
       "      <th>purchase_week</th>\n",
       "      <th>purchase_hour</th>\n",
       "      <th>purchase_minute</th>\n",
       "    </tr>\n",
       "    <tr>\n",
       "      <th>product_category_name_english</th>\n",
       "      <th></th>\n",
       "      <th></th>\n",
       "      <th></th>\n",
       "      <th></th>\n",
       "      <th></th>\n",
       "      <th></th>\n",
       "      <th></th>\n",
       "      <th></th>\n",
       "      <th></th>\n",
       "      <th></th>\n",
       "      <th></th>\n",
       "      <th></th>\n",
       "      <th></th>\n",
       "      <th></th>\n",
       "      <th></th>\n",
       "      <th></th>\n",
       "      <th></th>\n",
       "    </tr>\n",
       "  </thead>\n",
       "  <tbody>\n",
       "    <tr>\n",
       "      <th>agro_industry_and_commerce</th>\n",
       "      <td>212</td>\n",
       "      <td>212</td>\n",
       "      <td>212</td>\n",
       "      <td>212</td>\n",
       "      <td>212</td>\n",
       "      <td>212</td>\n",
       "      <td>212</td>\n",
       "      <td>212</td>\n",
       "      <td>212</td>\n",
       "      <td>212</td>\n",
       "      <td>212</td>\n",
       "      <td>212</td>\n",
       "      <td>212</td>\n",
       "      <td>212</td>\n",
       "      <td>212</td>\n",
       "      <td>212</td>\n",
       "      <td>212</td>\n",
       "    </tr>\n",
       "    <tr>\n",
       "      <th>air_conditioning</th>\n",
       "      <td>297</td>\n",
       "      <td>297</td>\n",
       "      <td>297</td>\n",
       "      <td>297</td>\n",
       "      <td>297</td>\n",
       "      <td>297</td>\n",
       "      <td>297</td>\n",
       "      <td>297</td>\n",
       "      <td>297</td>\n",
       "      <td>297</td>\n",
       "      <td>297</td>\n",
       "      <td>297</td>\n",
       "      <td>297</td>\n",
       "      <td>297</td>\n",
       "      <td>297</td>\n",
       "      <td>297</td>\n",
       "      <td>297</td>\n",
       "    </tr>\n",
       "    <tr>\n",
       "      <th>art</th>\n",
       "      <td>209</td>\n",
       "      <td>209</td>\n",
       "      <td>209</td>\n",
       "      <td>209</td>\n",
       "      <td>209</td>\n",
       "      <td>209</td>\n",
       "      <td>209</td>\n",
       "      <td>209</td>\n",
       "      <td>209</td>\n",
       "      <td>209</td>\n",
       "      <td>209</td>\n",
       "      <td>209</td>\n",
       "      <td>209</td>\n",
       "      <td>209</td>\n",
       "      <td>209</td>\n",
       "      <td>209</td>\n",
       "      <td>209</td>\n",
       "    </tr>\n",
       "    <tr>\n",
       "      <th>arts_and_craftmanship</th>\n",
       "      <td>24</td>\n",
       "      <td>24</td>\n",
       "      <td>24</td>\n",
       "      <td>24</td>\n",
       "      <td>24</td>\n",
       "      <td>24</td>\n",
       "      <td>24</td>\n",
       "      <td>24</td>\n",
       "      <td>24</td>\n",
       "      <td>24</td>\n",
       "      <td>24</td>\n",
       "      <td>24</td>\n",
       "      <td>24</td>\n",
       "      <td>24</td>\n",
       "      <td>24</td>\n",
       "      <td>24</td>\n",
       "      <td>24</td>\n",
       "    </tr>\n",
       "    <tr>\n",
       "      <th>audio</th>\n",
       "      <td>364</td>\n",
       "      <td>364</td>\n",
       "      <td>364</td>\n",
       "      <td>364</td>\n",
       "      <td>364</td>\n",
       "      <td>364</td>\n",
       "      <td>364</td>\n",
       "      <td>364</td>\n",
       "      <td>364</td>\n",
       "      <td>364</td>\n",
       "      <td>364</td>\n",
       "      <td>364</td>\n",
       "      <td>364</td>\n",
       "      <td>364</td>\n",
       "      <td>364</td>\n",
       "      <td>364</td>\n",
       "      <td>364</td>\n",
       "    </tr>\n",
       "    <tr>\n",
       "      <th>...</th>\n",
       "      <td>...</td>\n",
       "      <td>...</td>\n",
       "      <td>...</td>\n",
       "      <td>...</td>\n",
       "      <td>...</td>\n",
       "      <td>...</td>\n",
       "      <td>...</td>\n",
       "      <td>...</td>\n",
       "      <td>...</td>\n",
       "      <td>...</td>\n",
       "      <td>...</td>\n",
       "      <td>...</td>\n",
       "      <td>...</td>\n",
       "      <td>...</td>\n",
       "      <td>...</td>\n",
       "      <td>...</td>\n",
       "      <td>...</td>\n",
       "    </tr>\n",
       "    <tr>\n",
       "      <th>stationery</th>\n",
       "      <td>2517</td>\n",
       "      <td>2517</td>\n",
       "      <td>2517</td>\n",
       "      <td>2517</td>\n",
       "      <td>2517</td>\n",
       "      <td>2517</td>\n",
       "      <td>2517</td>\n",
       "      <td>2517</td>\n",
       "      <td>2517</td>\n",
       "      <td>2517</td>\n",
       "      <td>2517</td>\n",
       "      <td>2517</td>\n",
       "      <td>2517</td>\n",
       "      <td>2517</td>\n",
       "      <td>2517</td>\n",
       "      <td>2517</td>\n",
       "      <td>2517</td>\n",
       "    </tr>\n",
       "    <tr>\n",
       "      <th>tablets_printing_image</th>\n",
       "      <td>83</td>\n",
       "      <td>83</td>\n",
       "      <td>83</td>\n",
       "      <td>83</td>\n",
       "      <td>83</td>\n",
       "      <td>83</td>\n",
       "      <td>83</td>\n",
       "      <td>83</td>\n",
       "      <td>83</td>\n",
       "      <td>83</td>\n",
       "      <td>83</td>\n",
       "      <td>83</td>\n",
       "      <td>83</td>\n",
       "      <td>83</td>\n",
       "      <td>83</td>\n",
       "      <td>83</td>\n",
       "      <td>83</td>\n",
       "    </tr>\n",
       "    <tr>\n",
       "      <th>telephony</th>\n",
       "      <td>4545</td>\n",
       "      <td>4545</td>\n",
       "      <td>4545</td>\n",
       "      <td>4545</td>\n",
       "      <td>4545</td>\n",
       "      <td>4545</td>\n",
       "      <td>4545</td>\n",
       "      <td>4545</td>\n",
       "      <td>4545</td>\n",
       "      <td>4545</td>\n",
       "      <td>4545</td>\n",
       "      <td>4545</td>\n",
       "      <td>4545</td>\n",
       "      <td>4545</td>\n",
       "      <td>4545</td>\n",
       "      <td>4545</td>\n",
       "      <td>4545</td>\n",
       "    </tr>\n",
       "    <tr>\n",
       "      <th>toys</th>\n",
       "      <td>4117</td>\n",
       "      <td>4117</td>\n",
       "      <td>4117</td>\n",
       "      <td>4117</td>\n",
       "      <td>4117</td>\n",
       "      <td>4117</td>\n",
       "      <td>4117</td>\n",
       "      <td>4117</td>\n",
       "      <td>4117</td>\n",
       "      <td>4117</td>\n",
       "      <td>4117</td>\n",
       "      <td>4117</td>\n",
       "      <td>4117</td>\n",
       "      <td>4117</td>\n",
       "      <td>4117</td>\n",
       "      <td>4117</td>\n",
       "      <td>4117</td>\n",
       "    </tr>\n",
       "    <tr>\n",
       "      <th>watches_gifts</th>\n",
       "      <td>5991</td>\n",
       "      <td>5991</td>\n",
       "      <td>5991</td>\n",
       "      <td>5991</td>\n",
       "      <td>5991</td>\n",
       "      <td>5991</td>\n",
       "      <td>5991</td>\n",
       "      <td>5991</td>\n",
       "      <td>5991</td>\n",
       "      <td>5991</td>\n",
       "      <td>5991</td>\n",
       "      <td>5991</td>\n",
       "      <td>5991</td>\n",
       "      <td>5991</td>\n",
       "      <td>5991</td>\n",
       "      <td>5991</td>\n",
       "      <td>5991</td>\n",
       "    </tr>\n",
       "  </tbody>\n",
       "</table>\n",
       "<p>71 rows × 17 columns</p>\n",
       "</div>"
      ],
      "text/plain": [
       "                               order_item_id  price  freight_value  \\\n",
       "product_category_name_english                                        \n",
       "agro_industry_and_commerce               212    212            212   \n",
       "air_conditioning                         297    297            297   \n",
       "art                                      209    209            209   \n",
       "arts_and_craftmanship                     24     24             24   \n",
       "audio                                    364    364            364   \n",
       "...                                      ...    ...            ...   \n",
       "stationery                              2517   2517           2517   \n",
       "tablets_printing_image                    83     83             83   \n",
       "telephony                               4545   4545           4545   \n",
       "toys                                    4117   4117           4117   \n",
       "watches_gifts                           5991   5991           5991   \n",
       "\n",
       "                               product_name_lenght  \\\n",
       "product_category_name_english                        \n",
       "agro_industry_and_commerce                     212   \n",
       "air_conditioning                               297   \n",
       "art                                            209   \n",
       "arts_and_craftmanship                           24   \n",
       "audio                                          364   \n",
       "...                                            ...   \n",
       "stationery                                    2517   \n",
       "tablets_printing_image                          83   \n",
       "telephony                                     4545   \n",
       "toys                                          4117   \n",
       "watches_gifts                                 5991   \n",
       "\n",
       "                               product_description_lenght  product_photos_qty  \\\n",
       "product_category_name_english                                                   \n",
       "agro_industry_and_commerce                            212                 212   \n",
       "air_conditioning                                      297                 297   \n",
       "art                                                   209                 209   \n",
       "arts_and_craftmanship                                  24                  24   \n",
       "audio                                                 364                 364   \n",
       "...                                                   ...                 ...   \n",
       "stationery                                           2517                2517   \n",
       "tablets_printing_image                                 83                  83   \n",
       "telephony                                            4545                4545   \n",
       "toys                                                 4117                4117   \n",
       "watches_gifts                                        5991                5991   \n",
       "\n",
       "                               product_weight_g  product_length_cm  \\\n",
       "product_category_name_english                                        \n",
       "agro_industry_and_commerce                  212                212   \n",
       "air_conditioning                            297                297   \n",
       "art                                         209                209   \n",
       "arts_and_craftmanship                        24                 24   \n",
       "audio                                       364                364   \n",
       "...                                         ...                ...   \n",
       "stationery                                 2517               2517   \n",
       "tablets_printing_image                       83                 83   \n",
       "telephony                                  4545               4545   \n",
       "toys                                       4117               4117   \n",
       "watches_gifts                              5991               5991   \n",
       "\n",
       "                               product_height_cm  product_width_cm  \\\n",
       "product_category_name_english                                        \n",
       "agro_industry_and_commerce                   212               212   \n",
       "air_conditioning                             297               297   \n",
       "art                                          209               209   \n",
       "arts_and_craftmanship                         24                24   \n",
       "audio                                        364               364   \n",
       "...                                          ...               ...   \n",
       "stationery                                  2517              2517   \n",
       "tablets_printing_image                        83                83   \n",
       "telephony                                   4545              4545   \n",
       "toys                                        4117              4117   \n",
       "watches_gifts                               5991              5991   \n",
       "\n",
       "                               order_purchase_timestamp  purchase_month  \\\n",
       "product_category_name_english                                             \n",
       "agro_industry_and_commerce                          212             212   \n",
       "air_conditioning                                    297             297   \n",
       "art                                                 209             209   \n",
       "arts_and_craftmanship                                24              24   \n",
       "audio                                               364             364   \n",
       "...                                                 ...             ...   \n",
       "stationery                                         2517            2517   \n",
       "tablets_printing_image                               83              83   \n",
       "telephony                                          4545            4545   \n",
       "toys                                               4117            4117   \n",
       "watches_gifts                                      5991            5991   \n",
       "\n",
       "                               purchase_day  purchase_year  purchase_week  \\\n",
       "product_category_name_english                                               \n",
       "agro_industry_and_commerce              212            212            212   \n",
       "air_conditioning                        297            297            297   \n",
       "art                                     209            209            209   \n",
       "arts_and_craftmanship                    24             24             24   \n",
       "audio                                   364            364            364   \n",
       "...                                     ...            ...            ...   \n",
       "stationery                             2517           2517           2517   \n",
       "tablets_printing_image                   83             83             83   \n",
       "telephony                              4545           4545           4545   \n",
       "toys                                   4117           4117           4117   \n",
       "watches_gifts                          5991           5991           5991   \n",
       "\n",
       "                               purchase_hour  purchase_minute  \n",
       "product_category_name_english                                  \n",
       "agro_industry_and_commerce               212              212  \n",
       "air_conditioning                         297              297  \n",
       "art                                      209              209  \n",
       "arts_and_craftmanship                     24               24  \n",
       "audio                                    364              364  \n",
       "...                                      ...              ...  \n",
       "stationery                              2517             2517  \n",
       "tablets_printing_image                    83               83  \n",
       "telephony                               4545             4545  \n",
       "toys                                    4117             4117  \n",
       "watches_gifts                           5991             5991  \n",
       "\n",
       "[71 rows x 17 columns]"
      ]
     },
     "execution_count": 21,
     "metadata": {},
     "output_type": "execute_result"
    }
   ],
   "source": [
    "count = data.groupby('product_category_name_english').count()\n",
    "count"
   ]
  },
  {
   "cell_type": "markdown",
   "metadata": {},
   "source": [
    "### Top 10 of the product category from customer purchase in every year"
   ]
  },
  {
   "cell_type": "code",
   "execution_count": 22,
   "metadata": {},
   "outputs": [
    {
     "data": {
      "text/html": [
       "<div>\n",
       "<style scoped>\n",
       "    .dataframe tbody tr th:only-of-type {\n",
       "        vertical-align: middle;\n",
       "    }\n",
       "\n",
       "    .dataframe tbody tr th {\n",
       "        vertical-align: top;\n",
       "    }\n",
       "\n",
       "    .dataframe thead th {\n",
       "        text-align: right;\n",
       "    }\n",
       "</style>\n",
       "<table border=\"1\" class=\"dataframe\">\n",
       "  <thead>\n",
       "    <tr style=\"text-align: right;\">\n",
       "      <th></th>\n",
       "      <th>order_item_id</th>\n",
       "      <th>price</th>\n",
       "      <th>freight_value</th>\n",
       "      <th>product_name_lenght</th>\n",
       "      <th>product_description_lenght</th>\n",
       "      <th>product_photos_qty</th>\n",
       "      <th>product_weight_g</th>\n",
       "      <th>product_length_cm</th>\n",
       "      <th>product_height_cm</th>\n",
       "      <th>product_width_cm</th>\n",
       "      <th>order_purchase_timestamp</th>\n",
       "      <th>purchase_month</th>\n",
       "      <th>purchase_day</th>\n",
       "      <th>purchase_year</th>\n",
       "      <th>purchase_week</th>\n",
       "      <th>purchase_hour</th>\n",
       "      <th>purchase_minute</th>\n",
       "    </tr>\n",
       "    <tr>\n",
       "      <th>product_category_name_english</th>\n",
       "      <th></th>\n",
       "      <th></th>\n",
       "      <th></th>\n",
       "      <th></th>\n",
       "      <th></th>\n",
       "      <th></th>\n",
       "      <th></th>\n",
       "      <th></th>\n",
       "      <th></th>\n",
       "      <th></th>\n",
       "      <th></th>\n",
       "      <th></th>\n",
       "      <th></th>\n",
       "      <th></th>\n",
       "      <th></th>\n",
       "      <th></th>\n",
       "      <th></th>\n",
       "    </tr>\n",
       "  </thead>\n",
       "  <tbody>\n",
       "    <tr>\n",
       "      <th>bed_bath_table</th>\n",
       "      <td>11115</td>\n",
       "      <td>11115</td>\n",
       "      <td>11115</td>\n",
       "      <td>11115</td>\n",
       "      <td>11115</td>\n",
       "      <td>11115</td>\n",
       "      <td>11115</td>\n",
       "      <td>11115</td>\n",
       "      <td>11115</td>\n",
       "      <td>11115</td>\n",
       "      <td>11115</td>\n",
       "      <td>11115</td>\n",
       "      <td>11115</td>\n",
       "      <td>11115</td>\n",
       "      <td>11115</td>\n",
       "      <td>11115</td>\n",
       "      <td>11115</td>\n",
       "    </tr>\n",
       "    <tr>\n",
       "      <th>health_beauty</th>\n",
       "      <td>9670</td>\n",
       "      <td>9670</td>\n",
       "      <td>9670</td>\n",
       "      <td>9670</td>\n",
       "      <td>9670</td>\n",
       "      <td>9670</td>\n",
       "      <td>9670</td>\n",
       "      <td>9670</td>\n",
       "      <td>9670</td>\n",
       "      <td>9670</td>\n",
       "      <td>9670</td>\n",
       "      <td>9670</td>\n",
       "      <td>9670</td>\n",
       "      <td>9670</td>\n",
       "      <td>9670</td>\n",
       "      <td>9670</td>\n",
       "      <td>9670</td>\n",
       "    </tr>\n",
       "    <tr>\n",
       "      <th>sports_leisure</th>\n",
       "      <td>8641</td>\n",
       "      <td>8641</td>\n",
       "      <td>8641</td>\n",
       "      <td>8641</td>\n",
       "      <td>8641</td>\n",
       "      <td>8641</td>\n",
       "      <td>8641</td>\n",
       "      <td>8641</td>\n",
       "      <td>8641</td>\n",
       "      <td>8641</td>\n",
       "      <td>8641</td>\n",
       "      <td>8641</td>\n",
       "      <td>8641</td>\n",
       "      <td>8641</td>\n",
       "      <td>8641</td>\n",
       "      <td>8641</td>\n",
       "      <td>8641</td>\n",
       "    </tr>\n",
       "    <tr>\n",
       "      <th>furniture_decor</th>\n",
       "      <td>8334</td>\n",
       "      <td>8334</td>\n",
       "      <td>8334</td>\n",
       "      <td>8334</td>\n",
       "      <td>8334</td>\n",
       "      <td>8334</td>\n",
       "      <td>8334</td>\n",
       "      <td>8334</td>\n",
       "      <td>8334</td>\n",
       "      <td>8334</td>\n",
       "      <td>8334</td>\n",
       "      <td>8334</td>\n",
       "      <td>8334</td>\n",
       "      <td>8334</td>\n",
       "      <td>8334</td>\n",
       "      <td>8334</td>\n",
       "      <td>8334</td>\n",
       "    </tr>\n",
       "    <tr>\n",
       "      <th>computers_accessories</th>\n",
       "      <td>7827</td>\n",
       "      <td>7827</td>\n",
       "      <td>7827</td>\n",
       "      <td>7827</td>\n",
       "      <td>7827</td>\n",
       "      <td>7827</td>\n",
       "      <td>7827</td>\n",
       "      <td>7827</td>\n",
       "      <td>7827</td>\n",
       "      <td>7827</td>\n",
       "      <td>7827</td>\n",
       "      <td>7827</td>\n",
       "      <td>7827</td>\n",
       "      <td>7827</td>\n",
       "      <td>7827</td>\n",
       "      <td>7827</td>\n",
       "      <td>7827</td>\n",
       "    </tr>\n",
       "    <tr>\n",
       "      <th>housewares</th>\n",
       "      <td>6964</td>\n",
       "      <td>6964</td>\n",
       "      <td>6964</td>\n",
       "      <td>6964</td>\n",
       "      <td>6964</td>\n",
       "      <td>6964</td>\n",
       "      <td>6964</td>\n",
       "      <td>6964</td>\n",
       "      <td>6964</td>\n",
       "      <td>6964</td>\n",
       "      <td>6964</td>\n",
       "      <td>6964</td>\n",
       "      <td>6964</td>\n",
       "      <td>6964</td>\n",
       "      <td>6964</td>\n",
       "      <td>6964</td>\n",
       "      <td>6964</td>\n",
       "    </tr>\n",
       "    <tr>\n",
       "      <th>watches_gifts</th>\n",
       "      <td>5991</td>\n",
       "      <td>5991</td>\n",
       "      <td>5991</td>\n",
       "      <td>5991</td>\n",
       "      <td>5991</td>\n",
       "      <td>5991</td>\n",
       "      <td>5991</td>\n",
       "      <td>5991</td>\n",
       "      <td>5991</td>\n",
       "      <td>5991</td>\n",
       "      <td>5991</td>\n",
       "      <td>5991</td>\n",
       "      <td>5991</td>\n",
       "      <td>5991</td>\n",
       "      <td>5991</td>\n",
       "      <td>5991</td>\n",
       "      <td>5991</td>\n",
       "    </tr>\n",
       "    <tr>\n",
       "      <th>telephony</th>\n",
       "      <td>4545</td>\n",
       "      <td>4545</td>\n",
       "      <td>4545</td>\n",
       "      <td>4545</td>\n",
       "      <td>4545</td>\n",
       "      <td>4545</td>\n",
       "      <td>4545</td>\n",
       "      <td>4545</td>\n",
       "      <td>4545</td>\n",
       "      <td>4545</td>\n",
       "      <td>4545</td>\n",
       "      <td>4545</td>\n",
       "      <td>4545</td>\n",
       "      <td>4545</td>\n",
       "      <td>4545</td>\n",
       "      <td>4545</td>\n",
       "      <td>4545</td>\n",
       "    </tr>\n",
       "    <tr>\n",
       "      <th>garden_tools</th>\n",
       "      <td>4347</td>\n",
       "      <td>4347</td>\n",
       "      <td>4347</td>\n",
       "      <td>4347</td>\n",
       "      <td>4347</td>\n",
       "      <td>4347</td>\n",
       "      <td>4347</td>\n",
       "      <td>4347</td>\n",
       "      <td>4347</td>\n",
       "      <td>4347</td>\n",
       "      <td>4347</td>\n",
       "      <td>4347</td>\n",
       "      <td>4347</td>\n",
       "      <td>4347</td>\n",
       "      <td>4347</td>\n",
       "      <td>4347</td>\n",
       "      <td>4347</td>\n",
       "    </tr>\n",
       "    <tr>\n",
       "      <th>auto</th>\n",
       "      <td>4235</td>\n",
       "      <td>4235</td>\n",
       "      <td>4235</td>\n",
       "      <td>4235</td>\n",
       "      <td>4235</td>\n",
       "      <td>4235</td>\n",
       "      <td>4235</td>\n",
       "      <td>4235</td>\n",
       "      <td>4235</td>\n",
       "      <td>4235</td>\n",
       "      <td>4235</td>\n",
       "      <td>4235</td>\n",
       "      <td>4235</td>\n",
       "      <td>4235</td>\n",
       "      <td>4235</td>\n",
       "      <td>4235</td>\n",
       "      <td>4235</td>\n",
       "    </tr>\n",
       "  </tbody>\n",
       "</table>\n",
       "</div>"
      ],
      "text/plain": [
       "                               order_item_id  price  freight_value  \\\n",
       "product_category_name_english                                        \n",
       "bed_bath_table                         11115  11115          11115   \n",
       "health_beauty                           9670   9670           9670   \n",
       "sports_leisure                          8641   8641           8641   \n",
       "furniture_decor                         8334   8334           8334   \n",
       "computers_accessories                   7827   7827           7827   \n",
       "housewares                              6964   6964           6964   \n",
       "watches_gifts                           5991   5991           5991   \n",
       "telephony                               4545   4545           4545   \n",
       "garden_tools                            4347   4347           4347   \n",
       "auto                                    4235   4235           4235   \n",
       "\n",
       "                               product_name_lenght  \\\n",
       "product_category_name_english                        \n",
       "bed_bath_table                               11115   \n",
       "health_beauty                                 9670   \n",
       "sports_leisure                                8641   \n",
       "furniture_decor                               8334   \n",
       "computers_accessories                         7827   \n",
       "housewares                                    6964   \n",
       "watches_gifts                                 5991   \n",
       "telephony                                     4545   \n",
       "garden_tools                                  4347   \n",
       "auto                                          4235   \n",
       "\n",
       "                               product_description_lenght  product_photos_qty  \\\n",
       "product_category_name_english                                                   \n",
       "bed_bath_table                                      11115               11115   \n",
       "health_beauty                                        9670                9670   \n",
       "sports_leisure                                       8641                8641   \n",
       "furniture_decor                                      8334                8334   \n",
       "computers_accessories                                7827                7827   \n",
       "housewares                                           6964                6964   \n",
       "watches_gifts                                        5991                5991   \n",
       "telephony                                            4545                4545   \n",
       "garden_tools                                         4347                4347   \n",
       "auto                                                 4235                4235   \n",
       "\n",
       "                               product_weight_g  product_length_cm  \\\n",
       "product_category_name_english                                        \n",
       "bed_bath_table                            11115              11115   \n",
       "health_beauty                              9670               9670   \n",
       "sports_leisure                             8641               8641   \n",
       "furniture_decor                            8334               8334   \n",
       "computers_accessories                      7827               7827   \n",
       "housewares                                 6964               6964   \n",
       "watches_gifts                              5991               5991   \n",
       "telephony                                  4545               4545   \n",
       "garden_tools                               4347               4347   \n",
       "auto                                       4235               4235   \n",
       "\n",
       "                               product_height_cm  product_width_cm  \\\n",
       "product_category_name_english                                        \n",
       "bed_bath_table                             11115             11115   \n",
       "health_beauty                               9670              9670   \n",
       "sports_leisure                              8641              8641   \n",
       "furniture_decor                             8334              8334   \n",
       "computers_accessories                       7827              7827   \n",
       "housewares                                  6964              6964   \n",
       "watches_gifts                               5991              5991   \n",
       "telephony                                   4545              4545   \n",
       "garden_tools                                4347              4347   \n",
       "auto                                        4235              4235   \n",
       "\n",
       "                               order_purchase_timestamp  purchase_month  \\\n",
       "product_category_name_english                                             \n",
       "bed_bath_table                                    11115           11115   \n",
       "health_beauty                                      9670            9670   \n",
       "sports_leisure                                     8641            8641   \n",
       "furniture_decor                                    8334            8334   \n",
       "computers_accessories                              7827            7827   \n",
       "housewares                                         6964            6964   \n",
       "watches_gifts                                      5991            5991   \n",
       "telephony                                          4545            4545   \n",
       "garden_tools                                       4347            4347   \n",
       "auto                                               4235            4235   \n",
       "\n",
       "                               purchase_day  purchase_year  purchase_week  \\\n",
       "product_category_name_english                                               \n",
       "bed_bath_table                        11115          11115          11115   \n",
       "health_beauty                          9670           9670           9670   \n",
       "sports_leisure                         8641           8641           8641   \n",
       "furniture_decor                        8334           8334           8334   \n",
       "computers_accessories                  7827           7827           7827   \n",
       "housewares                             6964           6964           6964   \n",
       "watches_gifts                          5991           5991           5991   \n",
       "telephony                              4545           4545           4545   \n",
       "garden_tools                           4347           4347           4347   \n",
       "auto                                   4235           4235           4235   \n",
       "\n",
       "                               purchase_hour  purchase_minute  \n",
       "product_category_name_english                                  \n",
       "bed_bath_table                         11115            11115  \n",
       "health_beauty                           9670             9670  \n",
       "sports_leisure                          8641             8641  \n",
       "furniture_decor                         8334             8334  \n",
       "computers_accessories                   7827             7827  \n",
       "housewares                              6964             6964  \n",
       "watches_gifts                           5991             5991  \n",
       "telephony                               4545             4545  \n",
       "garden_tools                            4347             4347  \n",
       "auto                                    4235             4235  "
      ]
     },
     "execution_count": 22,
     "metadata": {},
     "output_type": "execute_result"
    }
   ],
   "source": [
    "count_sort = count.sort_values('purchase_year', ascending=False)\n",
    "temp = count_sort.head(10)\n",
    "temp"
   ]
  },
  {
   "cell_type": "markdown",
   "metadata": {},
   "source": [
    "## Number 1 best selling product category"
   ]
  },
  {
   "cell_type": "code",
   "execution_count": 23,
   "metadata": {},
   "outputs": [
    {
     "data": {
      "text/plain": [
       "'bed_bath_table'"
      ]
     },
     "execution_count": 23,
     "metadata": {},
     "output_type": "execute_result"
    }
   ],
   "source": [
    "data['product_category_name_english'].value_counts().idxmax()"
   ]
  },
  {
   "cell_type": "code",
   "execution_count": 163,
   "metadata": {},
   "outputs": [
    {
     "data": {
      "text/plain": [
       "<matplotlib.axes._subplots.AxesSubplot at 0x7fcb79f1da60>"
      ]
     },
     "execution_count": 163,
     "metadata": {},
     "output_type": "execute_result"
    },
    {
     "data": {
      "image/png": "[encoded data removed]",
      "text/plain": [
       "<Figure size 1080x360 with 1 Axes>"
      ]
     },
     "metadata": {
      "needs_background": "light"
     },
     "output_type": "display_data"
    }
   ],
   "source": [
    "plt.xlabel('product category name')\n",
    "plt.ylabel('Frequency')\n",
    "data['product_category_name_english'].value_counts().plot(kind='bar', figsize = (15,5))"
   ]
  },
  {
   "cell_type": "markdown",
   "metadata": {},
   "source": [
    "### Finding the index of the maximum product category each year"
   ]
  },
  {
   "cell_type": "code",
   "execution_count": 158,
   "metadata": {},
   "outputs": [
    {
     "data": {
      "text/html": [
       "<div>\n",
       "<style scoped>\n",
       "    .dataframe tbody tr th:only-of-type {\n",
       "        vertical-align: middle;\n",
       "    }\n",
       "\n",
       "    .dataframe tbody tr th {\n",
       "        vertical-align: top;\n",
       "    }\n",
       "\n",
       "    .dataframe thead th {\n",
       "        text-align: right;\n",
       "    }\n",
       "</style>\n",
       "<table border=\"1\" class=\"dataframe\">\n",
       "  <thead>\n",
       "    <tr style=\"text-align: right;\">\n",
       "      <th></th>\n",
       "      <th>product_category_name</th>\n",
       "    </tr>\n",
       "    <tr>\n",
       "      <th>purchase_year</th>\n",
       "      <th></th>\n",
       "    </tr>\n",
       "  </thead>\n",
       "  <tbody>\n",
       "    <tr>\n",
       "      <th>2016</th>\n",
       "      <td>furniture_decor</td>\n",
       "    </tr>\n",
       "  </tbody>\n",
       "</table>\n",
       "</div>"
      ],
      "text/plain": [
       "              product_category_name\n",
       "purchase_year                      \n",
       "2016                furniture_decor"
      ]
     },
     "execution_count": 158,
     "metadata": {},
     "output_type": "execute_result"
    }
   ],
   "source": [
    "mask = data['purchase_year']==2016\n",
    "tw = pd.crosstab(data.loc[mask, \"product_category_name_english\"] , data.loc[mask, \"purchase_year\"]).idxmax()\n",
    "pd.DataFrame({'product_category_name': tw})"
   ]
  },
  {
   "cell_type": "code",
   "execution_count": 159,
   "metadata": {},
   "outputs": [
    {
     "data": {
      "text/html": [
       "<div>\n",
       "<style scoped>\n",
       "    .dataframe tbody tr th:only-of-type {\n",
       "        vertical-align: middle;\n",
       "    }\n",
       "\n",
       "    .dataframe tbody tr th {\n",
       "        vertical-align: top;\n",
       "    }\n",
       "\n",
       "    .dataframe thead th {\n",
       "        text-align: right;\n",
       "    }\n",
       "</style>\n",
       "<table border=\"1\" class=\"dataframe\">\n",
       "  <thead>\n",
       "    <tr style=\"text-align: right;\">\n",
       "      <th></th>\n",
       "      <th>product_category_name</th>\n",
       "    </tr>\n",
       "    <tr>\n",
       "      <th>purchase_year</th>\n",
       "      <th></th>\n",
       "    </tr>\n",
       "  </thead>\n",
       "  <tbody>\n",
       "    <tr>\n",
       "      <th>2017</th>\n",
       "      <td>bed_bath_table</td>\n",
       "    </tr>\n",
       "  </tbody>\n",
       "</table>\n",
       "</div>"
      ],
      "text/plain": [
       "              product_category_name\n",
       "purchase_year                      \n",
       "2017                 bed_bath_table"
      ]
     },
     "execution_count": 159,
     "metadata": {},
     "output_type": "execute_result"
    }
   ],
   "source": [
    "mask = data['purchase_year']==2017\n",
    "tw = pd.crosstab(data.loc[mask, \"product_category_name_english\"] , data.loc[mask, \"purchase_year\"]).idxmax()\n",
    "pd.DataFrame({'product_category_name': tw})"
   ]
  },
  {
   "cell_type": "code",
   "execution_count": 160,
   "metadata": {},
   "outputs": [
    {
     "data": {
      "text/html": [
       "<div>\n",
       "<style scoped>\n",
       "    .dataframe tbody tr th:only-of-type {\n",
       "        vertical-align: middle;\n",
       "    }\n",
       "\n",
       "    .dataframe tbody tr th {\n",
       "        vertical-align: top;\n",
       "    }\n",
       "\n",
       "    .dataframe thead th {\n",
       "        text-align: right;\n",
       "    }\n",
       "</style>\n",
       "<table border=\"1\" class=\"dataframe\">\n",
       "  <thead>\n",
       "    <tr style=\"text-align: right;\">\n",
       "      <th></th>\n",
       "      <th>product_category_name</th>\n",
       "    </tr>\n",
       "    <tr>\n",
       "      <th>purchase_year</th>\n",
       "      <th></th>\n",
       "    </tr>\n",
       "  </thead>\n",
       "  <tbody>\n",
       "    <tr>\n",
       "      <th>2018</th>\n",
       "      <td>health_beauty</td>\n",
       "    </tr>\n",
       "  </tbody>\n",
       "</table>\n",
       "</div>"
      ],
      "text/plain": [
       "              product_category_name\n",
       "purchase_year                      \n",
       "2018                  health_beauty"
      ]
     },
     "execution_count": 160,
     "metadata": {},
     "output_type": "execute_result"
    }
   ],
   "source": [
    "mask = data['purchase_year']==2018\n",
    "tw = pd.crosstab(data.loc[mask, \"product_category_name_english\"] , data.loc[mask, \"purchase_year\"]).idxmax()\n",
    "pd.DataFrame({'product_category_name': tw})"
   ]
  },
  {
   "cell_type": "markdown",
   "metadata": {},
   "source": [
    "## The most selling occur in purchase year"
   ]
  },
  {
   "cell_type": "code",
   "execution_count": 29,
   "metadata": {},
   "outputs": [
    {
     "data": {
      "text/plain": [
       "Text(0, 0.5, 'Frequency')"
      ]
     },
     "execution_count": 29,
     "metadata": {},
     "output_type": "execute_result"
    },
    {
     "data": {
      "image/png": "[encoded data removed]",
      "text/plain": [
       "<Figure size 576x360 with 1 Axes>"
      ]
     },
     "metadata": {
      "needs_background": "light"
     },
     "output_type": "display_data"
    }
   ],
   "source": [
    "import seaborn as sns\n",
    "plt.figure(figsize=(8,5))\n",
    "sns.distplot(purchase.purchase_year, bins = 15)\n",
    "plt.ticklabel_format(style='plain', axis='x',scilimits=(0,1))\n",
    "plt.xlabel(\"order-purchase in each year\")\n",
    "plt.ylabel(\"Frequency\")"
   ]
  },
  {
   "cell_type": "markdown",
   "metadata": {},
   "source": [
    "## The most selling occur each month in each year(2016,2017,2018)"
   ]
  },
  {
   "cell_type": "code",
   "execution_count": 30,
   "metadata": {},
   "outputs": [],
   "source": [
    "mask = data['purchase_year'] == 2016\n",
    "month = data.loc[mask, 'purchase_month']"
   ]
  },
  {
   "cell_type": "code",
   "execution_count": 31,
   "metadata": {},
   "outputs": [
    {
     "data": {
      "text/plain": [
       "Text(0, 0.5, 'Frequency')"
      ]
     },
     "execution_count": 31,
     "metadata": {},
     "output_type": "execute_result"
    },
    {
     "data": {
      "image/png": "[encoded data removed]",
      "text/plain": [
       "<Figure size 576x360 with 1 Axes>"
      ]
     },
     "metadata": {
      "needs_background": "light"
     },
     "output_type": "display_data"
    }
   ],
   "source": [
    "# plt.style.use('fivethirtyeight')\n",
    "plt.figure(figsize=(8,5))\n",
    "sns.distplot(month, bins = 12)\n",
    "plt.ticklabel_format(style='plain', axis='x',scilimits=(0,1))\n",
    "plt.xlabel(\"month of 2016\")\n",
    "plt.ylabel(\"Frequency\")"
   ]
  },
  {
   "cell_type": "code",
   "execution_count": 32,
   "metadata": {},
   "outputs": [],
   "source": [
    "mask = data['purchase_year'] == 2017\n",
    "month = data.loc[mask, 'purchase_month']"
   ]
  },
  {
   "cell_type": "code",
   "execution_count": 33,
   "metadata": {},
   "outputs": [
    {
     "data": {
      "text/plain": [
       "Text(0, 0.5, 'Number of sale')"
      ]
     },
     "execution_count": 33,
     "metadata": {},
     "output_type": "execute_result"
    },
    {
     "data": {
      "image/png": "[encoded data removed]",
      "text/plain": [
       "<Figure size 576x360 with 1 Axes>"
      ]
     },
     "metadata": {
      "needs_background": "light"
     },
     "output_type": "display_data"
    }
   ],
   "source": [
    "# plt.style.use('fivethirtyeight')\n",
    "plt.figure(figsize=(8,5))\n",
    "sns.distplot(month, bins = 12)\n",
    "plt.ticklabel_format(style='plain', axis='x',scilimits=(0,1))\n",
    "plt.xlabel(\"month of 2017\")\n",
    "plt.ylabel(\"Number of sale\")"
   ]
  },
  {
   "cell_type": "code",
   "execution_count": 34,
   "metadata": {},
   "outputs": [],
   "source": [
    "mask = data['purchase_year'] == 2018\n",
    "month = data.loc[mask, 'purchase_month']"
   ]
  },
  {
   "cell_type": "code",
   "execution_count": 35,
   "metadata": {},
   "outputs": [
    {
     "data": {
      "text/plain": [
       "Text(0, 0.5, 'Frequency')"
      ]
     },
     "execution_count": 35,
     "metadata": {},
     "output_type": "execute_result"
    },
    {
     "data": {
      "image/png": "[encoded data removed]",
      "text/plain": [
       "<Figure size 576x360 with 1 Axes>"
      ]
     },
     "metadata": {
      "needs_background": "light"
     },
     "output_type": "display_data"
    }
   ],
   "source": [
    "# plt.style.use('fivethirtyeight')\n",
    "plt.figure(figsize=(8,5))\n",
    "sns.distplot(month, bins = 12)\n",
    "plt.ticklabel_format(style='plain', axis='x',scilimits=(0,1))\n",
    "plt.xlabel(\"month of 2018\")\n",
    "plt.ylabel(\"Frequency\")"
   ]
  },
  {
   "cell_type": "code",
   "execution_count": 36,
   "metadata": {},
   "outputs": [
    {
     "data": {
      "text/plain": [
       "Index(['order_item_id', 'price', 'freight_value', 'product_name_lenght',\n",
       "       'product_description_lenght', 'product_photos_qty', 'product_weight_g',\n",
       "       'product_length_cm', 'product_height_cm', 'product_width_cm',\n",
       "       'product_category_name_english', 'order_purchase_timestamp',\n",
       "       'purchase_month', 'purchase_day', 'purchase_year', 'purchase_week',\n",
       "       'purchase_hour', 'purchase_minute'],\n",
       "      dtype='object')"
      ]
     },
     "execution_count": 36,
     "metadata": {},
     "output_type": "execute_result"
    }
   ],
   "source": [
    "data.columns"
   ]
  },
  {
   "cell_type": "code",
   "execution_count": 22,
   "metadata": {},
   "outputs": [],
   "source": [
    "df = data[['order_item_id','price', 'freight_value','product_description_lenght','product_photos_qty', 'product_weight_g',\n",
    "           'product_length_cm', 'product_height_cm', 'product_width_cm' ]]"
   ]
  },
  {
   "cell_type": "code",
   "execution_count": 23,
   "metadata": {},
   "outputs": [
    {
     "data": {
      "text/plain": [
       "0    58.0\n",
       "1    58.0\n",
       "2    58.0\n",
       "3    58.0\n",
       "4    58.0\n",
       "Name: product_name_lenght, dtype: float64"
      ]
     },
     "execution_count": 23,
     "metadata": {},
     "output_type": "execute_result"
    }
   ],
   "source": [
    "target = data.product_name_lenght\n",
    "target.head()"
   ]
  },
  {
   "cell_type": "code",
   "execution_count": 24,
   "metadata": {},
   "outputs": [
    {
     "data": {
      "text/plain": [
       "(111023,)"
      ]
     },
     "execution_count": 24,
     "metadata": {},
     "output_type": "execute_result"
    }
   ],
   "source": [
    "target.shape"
   ]
  },
  {
   "cell_type": "code",
   "execution_count": 25,
   "metadata": {},
   "outputs": [
    {
     "data": {
      "text/html": [
       "<div>\n",
       "<style scoped>\n",
       "    .dataframe tbody tr th:only-of-type {\n",
       "        vertical-align: middle;\n",
       "    }\n",
       "\n",
       "    .dataframe tbody tr th {\n",
       "        vertical-align: top;\n",
       "    }\n",
       "\n",
       "    .dataframe thead th {\n",
       "        text-align: right;\n",
       "    }\n",
       "</style>\n",
       "<table border=\"1\" class=\"dataframe\">\n",
       "  <thead>\n",
       "    <tr style=\"text-align: right;\">\n",
       "      <th></th>\n",
       "      <th>order_item_id</th>\n",
       "      <th>price</th>\n",
       "      <th>freight_value</th>\n",
       "      <th>product_description_lenght</th>\n",
       "      <th>product_photos_qty</th>\n",
       "      <th>product_weight_g</th>\n",
       "      <th>product_length_cm</th>\n",
       "      <th>product_height_cm</th>\n",
       "      <th>product_width_cm</th>\n",
       "    </tr>\n",
       "  </thead>\n",
       "  <tbody>\n",
       "    <tr>\n",
       "      <th>71690</th>\n",
       "      <td>2</td>\n",
       "      <td>84.9</td>\n",
       "      <td>16.32</td>\n",
       "      <td>88.0</td>\n",
       "      <td>2.0</td>\n",
       "      <td>3200.0</td>\n",
       "      <td>44.0</td>\n",
       "      <td>15.0</td>\n",
       "      <td>30.0</td>\n",
       "    </tr>\n",
       "    <tr>\n",
       "      <th>47712</th>\n",
       "      <td>1</td>\n",
       "      <td>44.9</td>\n",
       "      <td>15.10</td>\n",
       "      <td>81.0</td>\n",
       "      <td>1.0</td>\n",
       "      <td>400.0</td>\n",
       "      <td>20.0</td>\n",
       "      <td>2.0</td>\n",
       "      <td>15.0</td>\n",
       "    </tr>\n",
       "    <tr>\n",
       "      <th>51376</th>\n",
       "      <td>1</td>\n",
       "      <td>129.9</td>\n",
       "      <td>23.49</td>\n",
       "      <td>189.0</td>\n",
       "      <td>1.0</td>\n",
       "      <td>1650.0</td>\n",
       "      <td>46.0</td>\n",
       "      <td>3.0</td>\n",
       "      <td>34.0</td>\n",
       "    </tr>\n",
       "    <tr>\n",
       "      <th>29852</th>\n",
       "      <td>1</td>\n",
       "      <td>289.0</td>\n",
       "      <td>17.46</td>\n",
       "      <td>1892.0</td>\n",
       "      <td>4.0</td>\n",
       "      <td>450.0</td>\n",
       "      <td>17.0</td>\n",
       "      <td>3.0</td>\n",
       "      <td>11.0</td>\n",
       "    </tr>\n",
       "    <tr>\n",
       "      <th>98475</th>\n",
       "      <td>1</td>\n",
       "      <td>15.9</td>\n",
       "      <td>14.10</td>\n",
       "      <td>908.0</td>\n",
       "      <td>1.0</td>\n",
       "      <td>75.0</td>\n",
       "      <td>17.0</td>\n",
       "      <td>8.0</td>\n",
       "      <td>13.0</td>\n",
       "    </tr>\n",
       "  </tbody>\n",
       "</table>\n",
       "</div>"
      ],
      "text/plain": [
       "       order_item_id  price  freight_value  product_description_lenght  \\\n",
       "71690              2   84.9          16.32                        88.0   \n",
       "47712              1   44.9          15.10                        81.0   \n",
       "51376              1  129.9          23.49                       189.0   \n",
       "29852              1  289.0          17.46                      1892.0   \n",
       "98475              1   15.9          14.10                       908.0   \n",
       "\n",
       "       product_photos_qty  product_weight_g  product_length_cm  \\\n",
       "71690                 2.0            3200.0               44.0   \n",
       "47712                 1.0             400.0               20.0   \n",
       "51376                 1.0            1650.0               46.0   \n",
       "29852                 4.0             450.0               17.0   \n",
       "98475                 1.0              75.0               17.0   \n",
       "\n",
       "       product_height_cm  product_width_cm  \n",
       "71690               15.0              30.0  \n",
       "47712                2.0              15.0  \n",
       "51376                3.0              34.0  \n",
       "29852                3.0              11.0  \n",
       "98475                8.0              13.0  "
      ]
     },
     "execution_count": 25,
     "metadata": {},
     "output_type": "execute_result"
    }
   ],
   "source": [
    "from sklearn.model_selection import train_test_split\n",
    "train, test, target_train, target_test = train_test_split(df, target, test_size = 0.2, random_state=33)\n",
    "test.head()"
   ]
  },
  {
   "cell_type": "code",
   "execution_count": 26,
   "metadata": {},
   "outputs": [
    {
     "data": {
      "text/plain": [
       "((88818, 9), (22205, 9), (88818,), (22205,), (111023,))"
      ]
     },
     "execution_count": 26,
     "metadata": {},
     "output_type": "execute_result"
    }
   ],
   "source": [
    "train.shape, test.shape, target_train.shape, target_test.shape, target.shape"
   ]
  },
  {
   "cell_type": "markdown",
   "metadata": {},
   "source": [
    "## Perform standard linear Regression"
   ]
  },
  {
   "cell_type": "markdown",
   "metadata": {},
   "source": [
    "Perform standard linear regression on data using the closed form solution implementation."
   ]
  },
  {
   "cell_type": "code",
   "execution_count": 73,
   "metadata": {},
   "outputs": [],
   "source": [
    "def standRegres(xArr,yArr):\n",
    "    xMat = np.mat(xArr); yMat = np.mat(yArr).T\n",
    "    xTx = xMat.T*xMat\n",
    "    if np.linalg.det(xTx) == 0.0:\n",
    "        print(\"This matrix is singular, cannot do inverse\")\n",
    "        return\n",
    "    ws = xTx.I * (xMat.T*yMat)\n",
    "    return ws"
   ]
  },
  {
   "cell_type": "code",
   "execution_count": 74,
   "metadata": {},
   "outputs": [
    {
     "name": "stdout",
     "output_type": "stream",
     "text": [
      "(88818, 10)\n",
      "(88818,)\n"
     ]
    }
   ],
   "source": [
    "# In order to do multiple regression we need to add a column of 1s as the coefficient for x0\n",
    "x = np.array([np.concatenate((v,[1])) for v in np.array(train)])\n",
    "y = np.array(target_train)\n",
    "print(x.shape)\n",
    "print(y.shape)"
   ]
  },
  {
   "cell_type": "code",
   "execution_count": 75,
   "metadata": {},
   "outputs": [
    {
     "name": "stdout",
     "output_type": "stream",
     "text": [
      "[[-1.93088284e-01]\n",
      " [-8.04937007e-04]\n",
      " [ 6.55241672e-03]\n",
      " [ 1.33532870e-03]\n",
      " [ 7.64749564e-01]\n",
      " [-1.00960904e-05]\n",
      " [ 1.86373986e-02]\n",
      " [-3.92637571e-02]\n",
      " [ 5.88344142e-02]\n",
      " [ 4.49707767e+01]]\n"
     ]
    }
   ],
   "source": [
    "w = standRegres(x, y)\n",
    "print(w)"
   ]
  },
  {
   "cell_type": "code",
   "execution_count": 76,
   "metadata": {},
   "outputs": [],
   "source": [
    "xMat=np.mat(x)\n",
    "yMat=np.mat(y)\n",
    "yHat = xMat*w"
   ]
  },
  {
   "cell_type": "code",
   "execution_count": 77,
   "metadata": {},
   "outputs": [
    {
     "data": {
      "text/plain": [
       "(88818, 1)"
      ]
     },
     "execution_count": 77,
     "metadata": {},
     "output_type": "execute_result"
    }
   ],
   "source": [
    "yHat.shape"
   ]
  },
  {
   "cell_type": "code",
   "execution_count": 78,
   "metadata": {},
   "outputs": [
    {
     "name": "stdout",
     "output_type": "stream",
     "text": [
      "[[11.69805299 10.42799166  8.436773   ...  5.981001   16.06643415\n",
      "   5.78855091]]\n"
     ]
    }
   ],
   "source": [
    "# Now we can constuct an array of errors\n",
    "err = abs(yHat.T-y)\n",
    "# Dot product of error vector with itself gives us the sum of squared errors\n",
    "total_error = np.dot(err,err.T)\n",
    "\n",
    "# Let's see the error on the first 10 predictions\n",
    "print(err[:10])"
   ]
  },
  {
   "cell_type": "code",
   "execution_count": 79,
   "metadata": {},
   "outputs": [
    {
     "name": "stdout",
     "output_type": "stream",
     "text": [
      "RMSE on Training Data:  [[9.84608356]]\n"
     ]
    }
   ],
   "source": [
    "# Finally compute RMSE\n",
    "rmse_train = np.sqrt(total_error/len(yHat))\n",
    "print(\"RMSE on Training Data: \", rmse_train)"
   ]
  },
  {
   "cell_type": "code",
   "execution_count": 80,
   "metadata": {},
   "outputs": [
    {
     "name": "stdout",
     "output_type": "stream",
     "text": [
      "order_item_id   -0.19\n",
      "  price   -0.00\n",
      "freight_value   0.01\n",
      "product_description_lenght   0.00\n",
      "product_photos_qty   0.76\n",
      "product_weight_g   -0.00\n",
      "product_length_cm   0.02\n",
      "product_height_cm   -0.04\n",
      "product_width_cm   0.06\n"
     ]
    }
   ],
   "source": [
    "# Let's put some names to the faces\n",
    "for i in range(len(train.columns.values)):\n",
    "    print(\"%7s   %2.2f\" % (train.columns.values[i], w[i]))"
   ]
  },
  {
   "cell_type": "code",
   "execution_count": 81,
   "metadata": {},
   "outputs": [],
   "source": [
    "def cross_validate(model, X, y, n, verbose=False):\n",
    "    # model: regression model to be trained\n",
    "    # X: the data matrix\n",
    "    # y: the target variable array\n",
    "    # n: the number of fold for x-validation\n",
    "    # Returns mean RMSE across all folds\n",
    "    \n",
    "    from sklearn.model_selection import KFold\n",
    "    kf = KFold(n_splits=n, random_state = None)\n",
    "    xval_err = 0\n",
    "    f = 1\n",
    "    for train,test in kf.split(x):\n",
    "        \n",
    "        w = model(X[train], y[train])\n",
    "        xMat=np.mat(X[train])        \n",
    "        yMat=np.mat(y[train])\n",
    "        p = (x[test])* w      \n",
    "        \n",
    "        e = abs(p.T - y[test])\n",
    "        rmse = np.sqrt(np.dot(e,e.T)/len(x[test]))\n",
    "        if verbose:\n",
    "            print(\"Fold %2d RMSE: %.4f\" % (f, rmse))\n",
    "        xval_err += rmse\n",
    "        f += 1\n",
    "    return xval_err/n"
   ]
  },
  {
   "cell_type": "code",
   "execution_count": 82,
   "metadata": {},
   "outputs": [
    {
     "name": "stdout",
     "output_type": "stream",
     "text": [
      "Fold  1 RMSE: 9.7686\n",
      "Fold  2 RMSE: 9.9771\n",
      "Fold  3 RMSE: 9.8626\n",
      "Fold  4 RMSE: 9.9005\n",
      "Fold  5 RMSE: 9.8216\n",
      "Fold  6 RMSE: 9.8843\n",
      "Fold  7 RMSE: 9.7329\n",
      "Fold  8 RMSE: 9.8845\n",
      "Fold  9 RMSE: 9.8262\n",
      "Fold 10 RMSE: 9.8103\n"
     ]
    }
   ],
   "source": [
    "rmse_10cv = cross_validate(standRegres, x, y, 10, verbose=True)"
   ]
  },
  {
   "cell_type": "code",
   "execution_count": 83,
   "metadata": {},
   "outputs": [
    {
     "name": "stdout",
     "output_type": "stream",
     "text": [
      "RMSE on training: 9.8461\n",
      "RMSE on 10-fold CV: 9.8469\n"
     ]
    }
   ],
   "source": [
    "print('RMSE on training: %.4f' %rmse_train)\n",
    "print('RMSE on 10-fold CV: %.4f' %rmse_10cv)"
   ]
  },
  {
   "cell_type": "markdown",
   "metadata": {},
   "source": [
    "#### Using the scikit-learn regression model from sklearn.linear_model with a subset of features to perform linear regression."
   ]
  },
  {
   "cell_type": "code",
   "execution_count": 84,
   "metadata": {},
   "outputs": [
    {
     "name": "stdout",
     "output_type": "stream",
     "text": [
      " 1  8.1508\n",
      " 6  8.1508\n",
      "11  8.1508\n",
      "16  8.1181\n",
      "21  8.1181\n",
      "26  8.0862\n",
      "31  8.0862\n",
      "36  8.0862\n",
      "41  8.0843\n",
      "46  8.0843\n",
      "51  8.0637\n",
      "56  8.0637\n",
      "61  8.0637\n",
      "66  8.0636\n",
      "71  8.0636\n",
      "76  8.0635\n",
      "81  8.0635\n",
      "86  8.0635\n",
      "91  8.0624\n",
      "96  8.0624\n"
     ]
    }
   ],
   "source": [
    "from sklearn.linear_model import LinearRegression\n",
    "from sklearn.model_selection import cross_val_score\n",
    "from sklearn import feature_selection\n",
    "from sklearn.metrics import mean_absolute_error\n",
    "\n",
    "# Create linear regression object\n",
    "linreg = LinearRegression()\n",
    "percentiles = range(1, 100, 5)\n",
    "results = []\n",
    "for i in range(1, 100, 5):\n",
    "    fs = feature_selection.SelectPercentile(feature_selection.f_regression, percentile=i)\n",
    "    X_train_fs = fs.fit_transform(train, target_train)\n",
    "    scores = abs(cross_val_score(linreg, X_train_fs, target_train, cv=5, scoring = 'neg_mean_absolute_error'))\n",
    "    print(\"%2d  %0.4f\" % (i, scores.mean()))\n",
    "    results = np.append(results, scores.mean())"
   ]
  },
  {
   "cell_type": "code",
   "execution_count": 85,
   "metadata": {},
   "outputs": [
    {
     "name": "stdout",
     "output_type": "stream",
     "text": [
      "Optimal percentile of features:91 \n",
      "\n",
      "Optimal number of features:8 \n",
      "\n"
     ]
    }
   ],
   "source": [
    "optimal_percentile_ind = np.where(results == results.min())[0][0]\n",
    "print(\"Optimal percentile of features:{0}\".format(percentiles[optimal_percentile_ind]), \"\\n\")\n",
    "optimal_num_features = int(percentiles[optimal_percentile_ind]*len(train.columns)/100)\n",
    "print(\"Optimal number of features:{0}\".format(optimal_num_features), \"\\n\")"
   ]
  },
  {
   "cell_type": "code",
   "execution_count": 86,
   "metadata": {},
   "outputs": [
    {
     "data": {
      "text/plain": [
       "Text(0, 0.5, 'The mean absolute error on CV')"
      ]
     },
     "execution_count": 86,
     "metadata": {},
     "output_type": "execute_result"
    },
    {
     "data": {
      "image/png": "[encoded data removed]",
      "text/plain": [
       "<Figure size 432x288 with 1 Axes>"
      ]
     },
     "metadata": {
      "needs_background": "light"
     },
     "output_type": "display_data"
    }
   ],
   "source": [
    "#plot the training and testing scores in a log scale\n",
    "plt.plot(percentiles,results)\n",
    "plt.xlabel(\"values\")\n",
    "plt.ylabel(\"The mean absolute error on CV\")"
   ]
  },
  {
   "cell_type": "markdown",
   "metadata": {},
   "source": [
    "#### train model on the full 80% training data and evaluate it using the set-aside 20% test partition"
   ]
  },
  {
   "cell_type": "code",
   "execution_count": 87,
   "metadata": {},
   "outputs": [
    {
     "name": "stdout",
     "output_type": "stream",
     "text": [
      "RMSE on Testing Data:  9.861479445959116\n"
     ]
    }
   ],
   "source": [
    "fs = feature_selection.SelectPercentile(feature_selection.f_regression, percentile = 91)\n",
    "X_train_fs = fs.fit_transform(train, target_train)\n",
    "\n",
    "# Train the model using the training set\n",
    "linreg.fit(X_train_fs, target_train)\n",
    "p = linreg.predict(fs.transform(test))\n",
    "\n",
    "# Now we can constuct an array of errors\n",
    "err = abs(p - target_test)\n",
    "\n",
    "# Finally compute RMSE\n",
    "rmse_test = np.sqrt(np.dot(err,err)/len(p))\n",
    "print(\"RMSE on Testing Data: \", rmse_test)"
   ]
  },
  {
   "cell_type": "markdown",
   "metadata": {},
   "source": [
    "#### Perform Ridge Regression and Lasso Regression using the modules from sklearn.linear_model."
   ]
  },
  {
   "cell_type": "code",
   "execution_count": 88,
   "metadata": {},
   "outputs": [],
   "source": [
    "from sklearn.linear_model import Lasso, Ridge\n",
    "from sklearn.model_selection import KFold"
   ]
  },
  {
   "cell_type": "code",
   "execution_count": 107,
   "metadata": {},
   "outputs": [],
   "source": [
    "# Let's create an evenly spaced range of numbers in a specified interval\n",
    "alpha = np.linspace(.001, 10, 50)\n",
    "\n",
    "lasso = Lasso()\n",
    "ridge = Ridge()"
   ]
  },
  {
   "cell_type": "code",
   "execution_count": 108,
   "metadata": {},
   "outputs": [],
   "source": [
    "def calc_params(X, y, tempName, param_values, param_name, K):\n",
    "    print('alpha\\t training\\t testing\\n')\n",
    "    # Convert input to Numpy arrays\n",
    "    X = np.array(X)\n",
    "    y = np.array(y)\n",
    "    verbose = True\n",
    "    # initialize training and testing score arrays with zeros\n",
    "    train_scores = np.zeros(len(param_values))\n",
    "    test_scores = np.zeros(len(param_values))\n",
    "    \n",
    "    # iterate over the different parameter values\n",
    "    for i, param_value in enumerate(param_values):\n",
    "        \n",
    "        # set classifier parameters\n",
    "        tempName.set_params(**{param_name:param_value})\n",
    "        # initialize the K scores obtained for each fold\n",
    "        k_train_scores = np.zeros(K)\n",
    "        k_test_scores = np.zeros(K)\n",
    "        \n",
    "        # create KFold cross validation\n",
    "\n",
    "        cv = KFold(n_splits=K, shuffle=True, random_state=0)\n",
    "\n",
    "        # iterate over the K folds\n",
    "        j = 0\n",
    "        for  train, test in cv.split(X):\n",
    "        \n",
    "            # fit the classifier in the corresponding fold\n",
    "            # and obtain the corresponding accuracy scores on train and test sets\n",
    "            tempName.fit(X[train], y[train])\n",
    "           \n",
    "            train_p = tempName.predict(X[train])\n",
    "            test_p = tempName.predict(X[test])\n",
    "            \n",
    "            k_train_scores[j] = mean_absolute_error(y[train], train_p)\n",
    "            k_test_scores[j] = mean_absolute_error(y[test], test_p)\n",
    "            j += 1\n",
    "        \n",
    "        # store the mean of the K fold scores\n",
    "        train_scores[i] = np.mean(k_train_scores)\n",
    "        test_scores[i] = np.mean(k_test_scores)\n",
    "        if verbose:\n",
    "            print('{:.3f}\\t {:.4f}\\t\\t {:.4f}'.format(param_value, train_scores[i], test_scores[i]))\n",
    "        \n",
    "    val_min = np.where(test_scores == test_scores.min())\n",
    "    alpha_min = param_values[val_min] \n",
    "    # plot the training and testing scores in a log scale\n",
    "    plt.plot(param_values, train_scores, label='Training', alpha=0.4, lw=2, c='b')\n",
    "    plt.plot(param_values, test_scores, label='cross-val', alpha=0.4, lw=2, c='g')\n",
    "    plt.legend(loc=7)\n",
    "    plt.xlabel(param_name + \" values\")\n",
    "    plt.ylabel(\"Mean cross validation accuracy\")\n",
    "    print(\"Minimun Error :\", test_scores[val_min][0])\n",
    "    print(\"The optimal alpha parameter:\", alpha_min[0])\n",
    "    # return the training and testing scores on each parameter value\n",
    "    return train_scores, test_scores"
   ]
  },
  {
   "cell_type": "code",
   "execution_count": 109,
   "metadata": {},
   "outputs": [
    {
     "name": "stdout",
     "output_type": "stream",
     "text": [
      "Ridge Regression\n",
      "alpha\t training\t testing\n",
      "\n",
      "0.001\t 8.0596\t\t 8.0609\n",
      "0.205\t 8.0596\t\t 8.0609\n",
      "0.409\t 8.0596\t\t 8.0609\n",
      "0.613\t 8.0596\t\t 8.0609\n",
      "0.817\t 8.0596\t\t 8.0609\n",
      "1.021\t 8.0596\t\t 8.0609\n",
      "1.225\t 8.0596\t\t 8.0609\n",
      "1.429\t 8.0596\t\t 8.0609\n",
      "1.633\t 8.0596\t\t 8.0609\n",
      "1.838\t 8.0596\t\t 8.0609\n",
      "2.042\t 8.0596\t\t 8.0609\n",
      "2.246\t 8.0596\t\t 8.0609\n",
      "2.450\t 8.0596\t\t 8.0609\n",
      "2.654\t 8.0596\t\t 8.0609\n",
      "2.858\t 8.0596\t\t 8.0609\n",
      "3.062\t 8.0596\t\t 8.0609\n",
      "3.266\t 8.0596\t\t 8.0609\n",
      "3.470\t 8.0596\t\t 8.0609\n",
      "3.674\t 8.0596\t\t 8.0609\n",
      "3.878\t 8.0596\t\t 8.0609\n",
      "4.082\t 8.0596\t\t 8.0609\n",
      "4.286\t 8.0596\t\t 8.0609\n",
      "4.490\t 8.0596\t\t 8.0609\n",
      "4.694\t 8.0596\t\t 8.0609\n",
      "4.898\t 8.0596\t\t 8.0609\n",
      "5.103\t 8.0596\t\t 8.0609\n",
      "5.307\t 8.0596\t\t 8.0609\n",
      "5.511\t 8.0596\t\t 8.0609\n",
      "5.715\t 8.0596\t\t 8.0609\n",
      "5.919\t 8.0596\t\t 8.0609\n",
      "6.123\t 8.0596\t\t 8.0609\n",
      "6.327\t 8.0596\t\t 8.0609\n",
      "6.531\t 8.0596\t\t 8.0609\n",
      "6.735\t 8.0596\t\t 8.0609\n",
      "6.939\t 8.0596\t\t 8.0609\n",
      "7.143\t 8.0596\t\t 8.0609\n",
      "7.347\t 8.0596\t\t 8.0609\n",
      "7.551\t 8.0596\t\t 8.0609\n",
      "7.755\t 8.0596\t\t 8.0609\n",
      "7.959\t 8.0596\t\t 8.0609\n",
      "8.163\t 8.0596\t\t 8.0609\n",
      "8.368\t 8.0596\t\t 8.0609\n",
      "8.572\t 8.0596\t\t 8.0609\n",
      "8.776\t 8.0596\t\t 8.0609\n",
      "8.980\t 8.0596\t\t 8.0609\n",
      "9.184\t 8.0596\t\t 8.0609\n",
      "9.388\t 8.0596\t\t 8.0609\n",
      "9.592\t 8.0596\t\t 8.0609\n",
      "9.796\t 8.0596\t\t 8.0609\n",
      "10.000\t 8.0596\t\t 8.0609\n",
      "Minimun Error : 8.060903748085625\n",
      "The optimal alpha parameter: 0.001\n"
     ]
    },
    {
     "data": {
      "image/png": "[encoded data removed]",
      "text/plain": [
       "<Figure size 432x288 with 1 Axes>"
      ]
     },
     "metadata": {
      "needs_background": "light"
     },
     "output_type": "display_data"
    }
   ],
   "source": [
    "print('Ridge Regression')\n",
    "tempName = ridge\n",
    "train_scores, test_scores = calc_params(train, target_train, ridge, alpha, 'alpha', 5)"
   ]
  },
  {
   "cell_type": "code",
   "execution_count": 105,
   "metadata": {},
   "outputs": [
    {
     "name": "stdout",
     "output_type": "stream",
     "text": [
      "Lasso Regression\n",
      "alpha\t training\t testing\n",
      "\n",
      "0.001\t 8.0596\t\t 8.0609\n",
      "0.205\t 8.0652\t\t 8.0664\n",
      "0.409\t 8.0703\t\t 8.0715\n",
      "0.613\t 8.0763\t\t 8.0775\n",
      "0.817\t 8.0831\t\t 8.0843\n",
      "1.021\t 8.0908\t\t 8.0919\n",
      "1.225\t 8.0997\t\t 8.1008\n",
      "1.429\t 8.1092\t\t 8.1103\n",
      "1.633\t 8.1198\t\t 8.1209\n",
      "1.838\t 8.1311\t\t 8.1322\n",
      "2.042\t 8.1432\t\t 8.1442\n",
      "2.246\t 8.1557\t\t 8.1566\n",
      "2.450\t 8.1587\t\t 8.1595\n",
      "2.654\t 8.1604\t\t 8.1612\n",
      "2.858\t 8.1622\t\t 8.1630\n",
      "3.062\t 8.1640\t\t 8.1647\n",
      "3.266\t 8.1658\t\t 8.1666\n",
      "3.470\t 8.1677\t\t 8.1685\n",
      "3.674\t 8.1696\t\t 8.1704\n",
      "3.878\t 8.1716\t\t 8.1724\n",
      "4.082\t 8.1736\t\t 8.1744\n",
      "4.286\t 8.1757\t\t 8.1765\n",
      "4.490\t 8.1778\t\t 8.1786\n",
      "4.694\t 8.1800\t\t 8.1807\n",
      "4.898\t 8.1821\t\t 8.1829\n",
      "5.103\t 8.1844\t\t 8.1851\n",
      "5.307\t 8.1866\t\t 8.1874\n",
      "5.511\t 8.1889\t\t 8.1897\n",
      "5.715\t 8.1912\t\t 8.1920\n",
      "5.919\t 8.1931\t\t 8.1938\n",
      "6.123\t 8.1946\t\t 8.1954\n",
      "6.327\t 8.1961\t\t 8.1969\n",
      "6.531\t 8.1975\t\t 8.1982\n",
      "6.735\t 8.1985\t\t 8.1992\n",
      "6.939\t 8.1995\t\t 8.2002\n",
      "7.143\t 8.2004\t\t 8.2010\n",
      "7.347\t 8.2012\t\t 8.2018\n",
      "7.551\t 8.2019\t\t 8.2025\n",
      "7.755\t 8.2027\t\t 8.2032\n",
      "7.959\t 8.2034\t\t 8.2040\n",
      "8.163\t 8.2041\t\t 8.2047\n",
      "8.368\t 8.2049\t\t 8.2055\n",
      "8.572\t 8.2055\t\t 8.2061\n",
      "8.776\t 8.2061\t\t 8.2066\n",
      "8.980\t 8.2063\t\t 8.2067\n",
      "9.184\t 8.2063\t\t 8.2068\n",
      "9.388\t 8.2063\t\t 8.2068\n",
      "9.592\t 8.2063\t\t 8.2068\n",
      "9.796\t 8.2063\t\t 8.2068\n",
      "10.000\t 8.2064\t\t 8.2068\n",
      "Minimun Error : 8.060930597981578\n",
      "The optimal alpha parameter: 0.001\n"
     ]
    },
    {
     "data": {
      "image/png": "[encoded data removed]",
      "text/plain": [
       "<Figure size 432x288 with 1 Axes>"
      ]
     },
     "metadata": {
      "needs_background": "light"
     },
     "output_type": "display_data"
    }
   ],
   "source": [
    "alpha = np.linspace(0.001, 10, 50)\n",
    "alpha = np.array([float(e) for e in alpha])\n",
    "print('Lasso Regression')\n",
    "tempName = lasso\n",
    "train_scores, test_scores = calc_params(train, target_train, tempName, alpha, 'alpha', 5)"
   ]
  },
  {
   "cell_type": "code",
   "execution_count": 110,
   "metadata": {},
   "outputs": [
    {
     "name": "stdout",
     "output_type": "stream",
     "text": [
      "Ridge Regression\n",
      "RMSE on testing: 9.860387795708471\n"
     ]
    }
   ],
   "source": [
    "ridge = Ridge(alpha=4.490571428571429)\n",
    "ridge.fit(train,target_train)\n",
    "p = ridge.predict(test)\n",
    "e = abs(p-target_test)\n",
    "rmse = np.sqrt(np.dot(e,e)/len(p))\n",
    "print(\"Ridge Regression\")\n",
    "print(\"RMSE on testing:\",rmse)"
   ]
  },
  {
   "cell_type": "code",
   "execution_count": 111,
   "metadata": {},
   "outputs": [
    {
     "name": "stdout",
     "output_type": "stream",
     "text": [
      "Lasso Regression\n",
      "RMSE on testing: 9.860380713047629\n"
     ]
    }
   ],
   "source": [
    "lasso = Lasso(alpha=0.001)\n",
    "lasso.fit(train,target_train)\n",
    "p = lasso.predict(test)\n",
    "e = abs(p-target_test)\n",
    "\n",
    "rmse = np.sqrt(np.dot(e,e)/len(p))\n",
    "print(\"Lasso Regression\")\n",
    "print(\"RMSE on testing:\",rmse)"
   ]
  },
  {
   "cell_type": "markdown",
   "metadata": {},
   "source": [
    "## Perform Classification"
   ]
  },
  {
   "cell_type": "markdown",
   "metadata": {},
   "source": [
    "#### Use KNN classifier"
   ]
  },
  {
   "cell_type": "code",
   "execution_count": 112,
   "metadata": {},
   "outputs": [],
   "source": [
    "from sklearn import preprocessing\n",
    "from sklearn.cluster import KMeans "
   ]
  },
  {
   "cell_type": "code",
   "execution_count": 113,
   "metadata": {},
   "outputs": [],
   "source": [
    "df2 = data[['order_item_id','price', 'freight_value','product_description_lenght','product_photos_qty', 'product_weight_g',\n",
    "           'product_length_cm', 'product_height_cm', 'product_width_cm']]"
   ]
  },
  {
   "cell_type": "code",
   "execution_count": 114,
   "metadata": {},
   "outputs": [
    {
     "data": {
      "text/plain": [
       "0    cool_stuff\n",
       "1    cool_stuff\n",
       "2    cool_stuff\n",
       "3    cool_stuff\n",
       "4    cool_stuff\n",
       "Name: product_category_name_english, dtype: object"
      ]
     },
     "execution_count": 114,
     "metadata": {},
     "output_type": "execute_result"
    }
   ],
   "source": [
    "target2 = data.product_category_name_english\n",
    "target2.head()"
   ]
  },
  {
   "cell_type": "code",
   "execution_count": 115,
   "metadata": {},
   "outputs": [
    {
     "data": {
      "text/html": [
       "<div>\n",
       "<style scoped>\n",
       "    .dataframe tbody tr th:only-of-type {\n",
       "        vertical-align: middle;\n",
       "    }\n",
       "\n",
       "    .dataframe tbody tr th {\n",
       "        vertical-align: top;\n",
       "    }\n",
       "\n",
       "    .dataframe thead th {\n",
       "        text-align: right;\n",
       "    }\n",
       "</style>\n",
       "<table border=\"1\" class=\"dataframe\">\n",
       "  <thead>\n",
       "    <tr style=\"text-align: right;\">\n",
       "      <th></th>\n",
       "      <th>order_item_id</th>\n",
       "      <th>price</th>\n",
       "      <th>freight_value</th>\n",
       "      <th>product_description_lenght</th>\n",
       "      <th>product_photos_qty</th>\n",
       "      <th>product_weight_g</th>\n",
       "      <th>product_length_cm</th>\n",
       "      <th>product_height_cm</th>\n",
       "      <th>product_width_cm</th>\n",
       "    </tr>\n",
       "  </thead>\n",
       "  <tbody>\n",
       "    <tr>\n",
       "      <th>71690</th>\n",
       "      <td>2</td>\n",
       "      <td>84.9</td>\n",
       "      <td>16.32</td>\n",
       "      <td>88.0</td>\n",
       "      <td>2.0</td>\n",
       "      <td>3200.0</td>\n",
       "      <td>44.0</td>\n",
       "      <td>15.0</td>\n",
       "      <td>30.0</td>\n",
       "    </tr>\n",
       "    <tr>\n",
       "      <th>47712</th>\n",
       "      <td>1</td>\n",
       "      <td>44.9</td>\n",
       "      <td>15.10</td>\n",
       "      <td>81.0</td>\n",
       "      <td>1.0</td>\n",
       "      <td>400.0</td>\n",
       "      <td>20.0</td>\n",
       "      <td>2.0</td>\n",
       "      <td>15.0</td>\n",
       "    </tr>\n",
       "    <tr>\n",
       "      <th>51376</th>\n",
       "      <td>1</td>\n",
       "      <td>129.9</td>\n",
       "      <td>23.49</td>\n",
       "      <td>189.0</td>\n",
       "      <td>1.0</td>\n",
       "      <td>1650.0</td>\n",
       "      <td>46.0</td>\n",
       "      <td>3.0</td>\n",
       "      <td>34.0</td>\n",
       "    </tr>\n",
       "    <tr>\n",
       "      <th>29852</th>\n",
       "      <td>1</td>\n",
       "      <td>289.0</td>\n",
       "      <td>17.46</td>\n",
       "      <td>1892.0</td>\n",
       "      <td>4.0</td>\n",
       "      <td>450.0</td>\n",
       "      <td>17.0</td>\n",
       "      <td>3.0</td>\n",
       "      <td>11.0</td>\n",
       "    </tr>\n",
       "    <tr>\n",
       "      <th>98475</th>\n",
       "      <td>1</td>\n",
       "      <td>15.9</td>\n",
       "      <td>14.10</td>\n",
       "      <td>908.0</td>\n",
       "      <td>1.0</td>\n",
       "      <td>75.0</td>\n",
       "      <td>17.0</td>\n",
       "      <td>8.0</td>\n",
       "      <td>13.0</td>\n",
       "    </tr>\n",
       "  </tbody>\n",
       "</table>\n",
       "</div>"
      ],
      "text/plain": [
       "       order_item_id  price  freight_value  product_description_lenght  \\\n",
       "71690              2   84.9          16.32                        88.0   \n",
       "47712              1   44.9          15.10                        81.0   \n",
       "51376              1  129.9          23.49                       189.0   \n",
       "29852              1  289.0          17.46                      1892.0   \n",
       "98475              1   15.9          14.10                       908.0   \n",
       "\n",
       "       product_photos_qty  product_weight_g  product_length_cm  \\\n",
       "71690                 2.0            3200.0               44.0   \n",
       "47712                 1.0             400.0               20.0   \n",
       "51376                 1.0            1650.0               46.0   \n",
       "29852                 4.0             450.0               17.0   \n",
       "98475                 1.0              75.0               17.0   \n",
       "\n",
       "       product_height_cm  product_width_cm  \n",
       "71690               15.0              30.0  \n",
       "47712                2.0              15.0  \n",
       "51376                3.0              34.0  \n",
       "29852                3.0              11.0  \n",
       "98475                8.0              13.0  "
      ]
     },
     "execution_count": 115,
     "metadata": {},
     "output_type": "execute_result"
    }
   ],
   "source": [
    "from sklearn.model_selection import train_test_split\n",
    "train2, test2, target_train2, target_test2 = train_test_split(df2, target2, test_size = 0.2, random_state=33)\n",
    "test.head()"
   ]
  },
  {
   "cell_type": "code",
   "execution_count": 116,
   "metadata": {},
   "outputs": [],
   "source": [
    "min_max_scaler = preprocessing.MinMaxScaler().fit(train2)\n",
    "\n",
    "train_norm = min_max_scaler.transform(train2)\n",
    "train_norm = pd.DataFrame(train_norm, columns=train.columns, index=train.index)\n",
    "\n",
    "test_norm = min_max_scaler.transform(test)\n",
    "test_norm = pd.DataFrame(test_norm, columns=test.columns, index=test.index)"
   ]
  },
  {
   "cell_type": "code",
   "execution_count": 117,
   "metadata": {},
   "outputs": [],
   "source": [
    "from sklearn.metrics import classification_report\n",
    "from sklearn.metrics import confusion_matrix"
   ]
  },
  {
   "cell_type": "code",
   "execution_count": 118,
   "metadata": {},
   "outputs": [
    {
     "data": {
      "text/plain": [
       "KNeighborsClassifier(n_neighbors=10, weights='distance')"
      ]
     },
     "execution_count": 118,
     "metadata": {},
     "output_type": "execute_result"
    }
   ],
   "source": [
    "n_neighbors = 10\n",
    "\n",
    "knnclf = neighbors.KNeighborsClassifier(n_neighbors, weights='distance')\n",
    "knnclf.fit(train_norm, target_train2)"
   ]
  },
  {
   "cell_type": "code",
   "execution_count": 119,
   "metadata": {},
   "outputs": [
    {
     "name": "stdout",
     "output_type": "stream",
     "text": [
      "['bed_bath_table' 'bed_bath_table' 'bed_bath_table' ... 'furniture_decor'\n",
      " 'housewares' 'office_furniture']\n"
     ]
    }
   ],
   "source": [
    "knnpreds_test = knnclf.predict(test_norm)\n",
    "print(knnpreds_test)"
   ]
  },
  {
   "cell_type": "code",
   "execution_count": 120,
   "metadata": {},
   "outputs": [
    {
     "name": "stdout",
     "output_type": "stream",
     "text": [
      "                                         precision    recall  f1-score   support\n",
      "\n",
      "             agro_industry_and_commerce       0.97      0.67      0.79        45\n",
      "                       air_conditioning       0.91      0.59      0.72        69\n",
      "                                    art       0.90      0.73      0.80        48\n",
      "                  arts_and_craftmanship       0.00      0.00      0.00         2\n",
      "                                  audio       0.79      0.81      0.80        79\n",
      "                                   auto       0.78      0.71      0.74       849\n",
      "                                   baby       0.79      0.75      0.77       651\n",
      "                         bed_bath_table       0.84      0.93      0.89      2176\n",
      "                 books_general_interest       0.74      0.64      0.69       107\n",
      "                         books_imported       0.92      0.85      0.88        13\n",
      "                        books_technical       0.83      0.72      0.77        60\n",
      "                      cds_dvds_musicals       0.80      1.00      0.89         4\n",
      "                     christmas_supplies       0.65      0.68      0.67        25\n",
      "                             cine_photo       0.63      0.80      0.71        15\n",
      "                              computers       0.95      0.95      0.95        39\n",
      "                  computers_accessories       0.79      0.85      0.82      1528\n",
      "                         consoles_games       0.83      0.75      0.78       228\n",
      "        construction_tools_construction       0.71      0.59      0.64       168\n",
      "              construction_tools_lights       0.92      0.74      0.82        66\n",
      "              construction_tools_safety       0.64      0.40      0.49        35\n",
      "                             cool_stuff       0.86      0.86      0.86       808\n",
      "               costruction_tools_garden       0.71      0.73      0.72        37\n",
      "                costruction_tools_tools       0.71      0.71      0.71        17\n",
      "                    diapers_and_hygiene       0.45      0.62      0.53         8\n",
      "                                 drinks       0.86      0.75      0.80        80\n",
      "                           dvds_blu_ray       0.70      0.50      0.58        14\n",
      "                            electronics       0.81      0.85      0.83       549\n",
      "                 fashio_female_clothing       0.45      0.62      0.53         8\n",
      "               fashion_bags_accessories       0.81      0.79      0.80       403\n",
      "              fashion_childrens_clothes       0.00      0.00      0.00         1\n",
      "                  fashion_male_clothing       0.59      0.53      0.56        19\n",
      "                          fashion_shoes       0.82      0.90      0.86        51\n",
      "                          fashion_sport       0.67      1.00      0.80         2\n",
      "                fashion_underwear_beach       0.81      0.76      0.79        34\n",
      "                        fixed_telephony       0.54      0.34      0.42        44\n",
      "                                flowers       0.17      1.00      0.29         1\n",
      "                                   food       0.80      0.79      0.79       104\n",
      "                             food_drink       0.71      0.62      0.66        52\n",
      "                      furniture_bedroom       0.72      0.75      0.73        24\n",
      "                        furniture_decor       0.81      0.81      0.81      1690\n",
      "                  furniture_living_room       0.79      0.81      0.80       109\n",
      "      furniture_mattress_and_upholstery       0.71      1.00      0.83         5\n",
      "                           garden_tools       0.88      0.85      0.86       893\n",
      "                          health_beauty       0.81      0.81      0.81      1890\n",
      "                        home_appliances       0.80      0.79      0.80       150\n",
      "                      home_appliances_2       0.95      0.72      0.82        54\n",
      "                         home_comfort_2       0.67      0.50      0.57         4\n",
      "                           home_confort       0.78      0.84      0.81        76\n",
      "                      home_construction       0.74      0.58      0.65       126\n",
      "                             housewares       0.75      0.73      0.74      1393\n",
      "         industry_commerce_and_business       0.74      0.88      0.80        49\n",
      "kitchen_dining_laundry_garden_furniture       0.72      0.77      0.75        57\n",
      "                             la_cuisine       1.00      0.20      0.33         5\n",
      "                    luggage_accessories       0.84      0.78      0.81       223\n",
      "                           market_place       0.83      0.69      0.75        71\n",
      "                                  music       1.00      0.50      0.67         8\n",
      "                    musical_instruments       0.72      0.61      0.66       136\n",
      "                       office_furniture       0.90      0.98      0.94       348\n",
      "                         party_supplies       0.40      0.29      0.33         7\n",
      "                              perfumery       0.79      0.78      0.79       705\n",
      "                               pet_shop       0.77      0.67      0.71       374\n",
      "                  security_and_services       0.00      0.00      0.00         2\n",
      "                 signaling_and_security       0.71      0.41      0.52        41\n",
      "                       small_appliances       0.75      0.81      0.78       123\n",
      "  small_appliances_home_oven_and_coffee       0.71      0.77      0.74        13\n",
      "                         sports_leisure       0.77      0.77      0.77      1785\n",
      "                             stationery       0.80      0.78      0.79       497\n",
      "                 tablets_printing_image       0.85      1.00      0.92        17\n",
      "                              telephony       0.81      0.89      0.85       924\n",
      "                                   toys       0.79      0.73      0.76       787\n",
      "                          watches_gifts       0.86      0.91      0.88      1180\n",
      "\n",
      "                               accuracy                           0.81     22205\n",
      "                              macro avg       0.73      0.70      0.70     22205\n",
      "                           weighted avg       0.81      0.81      0.81     22205\n",
      "\n"
     ]
    }
   ],
   "source": [
    "print(classification_report(target_test2, knnpreds_test))"
   ]
  },
  {
   "cell_type": "markdown",
   "metadata": {},
   "source": [
    "#### with weights distance"
   ]
  },
  {
   "cell_type": "code",
   "execution_count": 121,
   "metadata": {},
   "outputs": [
    {
     "name": "stdout",
     "output_type": "stream",
     "text": [
      "Range of values K: 1 =>  0.8423328079261427 \n",
      "Range of values K: 2 =>  0.8423328079261427 \n",
      "Range of values K: 3 =>  0.8356676424228777 \n",
      "Range of values K: 4 =>  0.8304435937851835 \n",
      "Range of values K: 5 =>  0.8249493357351948 \n",
      "Range of values K: 6 =>  0.8212114388651205 \n",
      "Range of values K: 7 =>  0.8177887863093898 \n",
      "Range of values K: 8 =>  0.8141409592434137 \n",
      "Range of values K: 9 =>  0.8108984462958793 \n",
      "Range of values K: 10 =>  0.8070254447196578 \n",
      "Range of values K: 11 =>  0.8037829317721233 \n"
     ]
    }
   ],
   "source": [
    "for n_neighbors in range(1,12):\n",
    "    knnclf_D = neighbors.KNeighborsClassifier(n_neighbors, weights='distance')\n",
    "    knnclf_D.fit(train_norm, target_train2)\n",
    "    print('Range of values K: %s =>  %s ' %(n_neighbors, knnclf_D.score(test_norm, target_test2)))"
   ]
  },
  {
   "cell_type": "code",
   "execution_count": 122,
   "metadata": {},
   "outputs": [
    {
     "name": "stdout",
     "output_type": "stream",
     "text": [
      "                                         precision    recall  f1-score   support\n",
      "\n",
      "             agro_industry_and_commerce       0.97      0.64      0.77        45\n",
      "                       air_conditioning       0.91      0.57      0.70        69\n",
      "                                    art       0.90      0.73      0.80        48\n",
      "                  arts_and_craftmanship       0.00      0.00      0.00         2\n",
      "                                  audio       0.78      0.80      0.79        79\n",
      "                                   auto       0.78      0.71      0.74       849\n",
      "                                   baby       0.78      0.75      0.76       651\n",
      "                         bed_bath_table       0.84      0.93      0.88      2176\n",
      "                 books_general_interest       0.75      0.64      0.69       107\n",
      "                         books_imported       0.92      0.85      0.88        13\n",
      "                        books_technical       0.84      0.72      0.77        60\n",
      "                      cds_dvds_musicals       0.80      1.00      0.89         4\n",
      "                     christmas_supplies       0.63      0.68      0.65        25\n",
      "                             cine_photo       0.63      0.80      0.71        15\n",
      "                              computers       0.95      0.95      0.95        39\n",
      "                  computers_accessories       0.78      0.85      0.81      1528\n",
      "                         consoles_games       0.83      0.74      0.78       228\n",
      "        construction_tools_construction       0.71      0.58      0.64       168\n",
      "              construction_tools_lights       0.94      0.74      0.83        66\n",
      "              construction_tools_safety       0.64      0.40      0.49        35\n",
      "                             cool_stuff       0.86      0.85      0.85       808\n",
      "               costruction_tools_garden       0.69      0.73      0.71        37\n",
      "                costruction_tools_tools       0.67      0.71      0.69        17\n",
      "                    diapers_and_hygiene       0.45      0.62      0.53         8\n",
      "                                 drinks       0.85      0.72      0.78        80\n",
      "                           dvds_blu_ray       0.70      0.50      0.58        14\n",
      "                            electronics       0.81      0.84      0.83       549\n",
      "                 fashio_female_clothing       0.42      0.62      0.50         8\n",
      "               fashion_bags_accessories       0.80      0.79      0.79       403\n",
      "              fashion_childrens_clothes       0.00      0.00      0.00         1\n",
      "                  fashion_male_clothing       0.59      0.53      0.56        19\n",
      "                          fashion_shoes       0.82      0.90      0.86        51\n",
      "                          fashion_sport       0.67      1.00      0.80         2\n",
      "                fashion_underwear_beach       0.79      0.76      0.78        34\n",
      "                        fixed_telephony       0.52      0.32      0.39        44\n",
      "                                flowers       0.17      1.00      0.29         1\n",
      "                                   food       0.82      0.79      0.80       104\n",
      "                             food_drink       0.73      0.62      0.67        52\n",
      "                      furniture_bedroom       0.70      0.67      0.68        24\n",
      "                        furniture_decor       0.80      0.81      0.81      1690\n",
      "                  furniture_living_room       0.83      0.80      0.81       109\n",
      "      furniture_mattress_and_upholstery       0.71      1.00      0.83         5\n",
      "                           garden_tools       0.88      0.84      0.86       893\n",
      "                          health_beauty       0.80      0.81      0.81      1890\n",
      "                        home_appliances       0.80      0.79      0.80       150\n",
      "                      home_appliances_2       0.89      0.72      0.80        54\n",
      "                         home_comfort_2       0.67      0.50      0.57         4\n",
      "                           home_confort       0.77      0.84      0.81        76\n",
      "                      home_construction       0.73      0.57      0.64       126\n",
      "                             housewares       0.74      0.72      0.73      1393\n",
      "         industry_commerce_and_business       0.75      0.88      0.81        49\n",
      "kitchen_dining_laundry_garden_furniture       0.75      0.77      0.76        57\n",
      "                             la_cuisine       1.00      0.20      0.33         5\n",
      "                    luggage_accessories       0.83      0.77      0.80       223\n",
      "                           market_place       0.84      0.65      0.73        71\n",
      "                                  music       1.00      0.50      0.67         8\n",
      "                    musical_instruments       0.74      0.61      0.67       136\n",
      "                       office_furniture       0.89      0.98      0.93       348\n",
      "                         party_supplies       0.50      0.29      0.36         7\n",
      "                              perfumery       0.79      0.77      0.78       705\n",
      "                               pet_shop       0.77      0.65      0.71       374\n",
      "                  security_and_services       0.00      0.00      0.00         2\n",
      "                 signaling_and_security       0.70      0.39      0.50        41\n",
      "                       small_appliances       0.74      0.81      0.78       123\n",
      "  small_appliances_home_oven_and_coffee       0.71      0.77      0.74        13\n",
      "                         sports_leisure       0.77      0.77      0.77      1785\n",
      "                             stationery       0.80      0.78      0.79       497\n",
      "                 tablets_printing_image       0.89      1.00      0.94        17\n",
      "                              telephony       0.81      0.89      0.85       924\n",
      "                                   toys       0.78      0.73      0.75       787\n",
      "                          watches_gifts       0.85      0.91      0.88      1180\n",
      "\n",
      "                               accuracy                           0.80     22205\n",
      "                              macro avg       0.73      0.70      0.70     22205\n",
      "                           weighted avg       0.80      0.80      0.80     22205\n",
      "\n"
     ]
    }
   ],
   "source": [
    "knnpreds_test = knnclf_D.predict(test_norm)\n",
    "print(classification_report(target_test2, knnpreds_test))"
   ]
  },
  {
   "cell_type": "markdown",
   "metadata": {},
   "source": [
    "#### without weights distance"
   ]
  },
  {
   "cell_type": "code",
   "execution_count": 123,
   "metadata": {},
   "outputs": [
    {
     "name": "stdout",
     "output_type": "stream",
     "text": [
      "Range of values K: 1 =>  0.8423328079261427 \n",
      "Range of values K: 2 =>  0.8021166403963071 \n",
      "Range of values K: 3 =>  0.7896870074307588 \n",
      "Range of values K: 4 =>  0.7761765368160324 \n",
      "Range of values K: 5 =>  0.7654131952263004 \n",
      "Range of values K: 6 =>  0.7502814681378068 \n",
      "Range of values K: 7 =>  0.741184417923891 \n",
      "Range of values K: 8 =>  0.731456879081288 \n",
      "Range of values K: 9 =>  0.7224498986714704 \n",
      "Range of values K: 10 =>  0.7131276739473091 \n",
      "Range of values K: 11 =>  0.7072731366809277 \n"
     ]
    }
   ],
   "source": [
    "for n_neighbors in range(1,12):\n",
    "    knnclf1 = neighbors.KNeighborsClassifier(n_neighbors)\n",
    "    knnclf1.fit(train_norm, target_train2)\n",
    "    print('Range of values K: %s =>  %s ' %(n_neighbors, knnclf1.score(test_norm, target_test2)))"
   ]
  },
  {
   "cell_type": "code",
   "execution_count": 124,
   "metadata": {},
   "outputs": [
    {
     "name": "stdout",
     "output_type": "stream",
     "text": [
      "                                         precision    recall  f1-score   support\n",
      "\n",
      "             agro_industry_and_commerce       0.74      0.56      0.63        45\n",
      "                       air_conditioning       0.68      0.41      0.51        69\n",
      "                                    art       0.74      0.65      0.69        48\n",
      "                  arts_and_craftmanship       0.00      0.00      0.00         2\n",
      "                                  audio       0.63      0.72      0.67        79\n",
      "                                   auto       0.59      0.60      0.60       849\n",
      "                                   baby       0.63      0.65      0.64       651\n",
      "                         bed_bath_table       0.75      0.90      0.82      2176\n",
      "                 books_general_interest       0.51      0.46      0.48       107\n",
      "                         books_imported       0.62      0.62      0.62        13\n",
      "                        books_technical       0.66      0.52      0.58        60\n",
      "                      cds_dvds_musicals       0.80      1.00      0.89         4\n",
      "                     christmas_supplies       0.43      0.52      0.47        25\n",
      "                             cine_photo       0.47      0.53      0.50        15\n",
      "                              computers       0.85      0.90      0.88        39\n",
      "                  computers_accessories       0.68      0.78      0.73      1528\n",
      "                         consoles_games       0.63      0.56      0.59       228\n",
      "        construction_tools_construction       0.51      0.39      0.44       168\n",
      "              construction_tools_lights       0.74      0.64      0.68        66\n",
      "              construction_tools_safety       0.50      0.31      0.39        35\n",
      "                             cool_stuff       0.76      0.77      0.76       808\n",
      "               costruction_tools_garden       0.50      0.43      0.46        37\n",
      "                costruction_tools_tools       0.53      0.53      0.53        17\n",
      "                    diapers_and_hygiene       0.17      0.25      0.20         8\n",
      "                                 drinks       0.70      0.57      0.63        80\n",
      "                           dvds_blu_ray       0.50      0.29      0.36        14\n",
      "                            electronics       0.72      0.77      0.74       549\n",
      "                 fashio_female_clothing       0.30      0.38      0.33         8\n",
      "               fashion_bags_accessories       0.70      0.68      0.69       403\n",
      "              fashion_childrens_clothes       0.00      0.00      0.00         1\n",
      "                  fashion_male_clothing       0.38      0.32      0.34        19\n",
      "                          fashion_shoes       0.71      0.86      0.78        51\n",
      "                          fashion_sport       0.33      0.50      0.40         2\n",
      "                fashion_underwear_beach       0.70      0.68      0.69        34\n",
      "                        fixed_telephony       0.39      0.27      0.32        44\n",
      "                                flowers       0.17      1.00      0.29         1\n",
      "                                   food       0.68      0.64      0.66       104\n",
      "                             food_drink       0.58      0.42      0.49        52\n",
      "                      furniture_bedroom       0.53      0.42      0.47        24\n",
      "                        furniture_decor       0.72      0.74      0.73      1690\n",
      "                  furniture_living_room       0.75      0.71      0.73       109\n",
      "      furniture_mattress_and_upholstery       0.44      0.80      0.57         5\n",
      "                           garden_tools       0.83      0.77      0.80       893\n",
      "                          health_beauty       0.71      0.73      0.72      1890\n",
      "                        home_appliances       0.66      0.60      0.63       150\n",
      "                      home_appliances_2       0.71      0.44      0.55        54\n",
      "                         home_comfort_2       0.50      0.50      0.50         4\n",
      "                           home_confort       0.66      0.67      0.67        76\n",
      "                      home_construction       0.62      0.44      0.52       126\n",
      "                             housewares       0.63      0.59      0.61      1393\n",
      "         industry_commerce_and_business       0.67      0.71      0.69        49\n",
      "kitchen_dining_laundry_garden_furniture       0.64      0.60      0.62        57\n",
      "                             la_cuisine       0.00      0.00      0.00         5\n",
      "                    luggage_accessories       0.75      0.62      0.68       223\n",
      "                           market_place       0.60      0.38      0.47        71\n",
      "                                  music       0.00      0.00      0.00         8\n",
      "                    musical_instruments       0.63      0.44      0.52       136\n",
      "                       office_furniture       0.87      0.97      0.91       348\n",
      "                         party_supplies       0.40      0.29      0.33         7\n",
      "                              perfumery       0.69      0.66      0.68       705\n",
      "                               pet_shop       0.65      0.49      0.56       374\n",
      "                  security_and_services       0.00      0.00      0.00         2\n",
      "                 signaling_and_security       0.48      0.24      0.32        41\n",
      "                       small_appliances       0.55      0.50      0.53       123\n",
      "  small_appliances_home_oven_and_coffee       0.90      0.69      0.78        13\n",
      "                         sports_leisure       0.69      0.64      0.67      1785\n",
      "                             stationery       0.72      0.64      0.68       497\n",
      "                 tablets_printing_image       0.83      0.88      0.86        17\n",
      "                              telephony       0.73      0.81      0.77       924\n",
      "                                   toys       0.69      0.57      0.62       787\n",
      "                          watches_gifts       0.81      0.86      0.83      1180\n",
      "\n",
      "                               accuracy                           0.71     22205\n",
      "                              macro avg       0.58      0.56      0.56     22205\n",
      "                           weighted avg       0.70      0.71      0.70     22205\n",
      "\n"
     ]
    }
   ],
   "source": [
    "knnpreds_test = knnclf1.predict(test_norm)\n",
    "print(classification_report(target_test2, knnpreds_test))"
   ]
  },
  {
   "cell_type": "markdown",
   "metadata": {},
   "source": [
    "According to the experiment with and without weights distance. It shows that with weights distance gives me the better accuracy results than witout weight diatance"
   ]
  },
  {
   "cell_type": "markdown",
   "metadata": {},
   "source": [
    "#### Using scikit-learn's dicision tree"
   ]
  },
  {
   "cell_type": "code",
   "execution_count": 125,
   "metadata": {},
   "outputs": [
    {
     "name": "stdout",
     "output_type": "stream",
     "text": [
      "['computers_accessories' 'bed_bath_table' 'bed_bath_table' ...\n",
      " 'construction_tools_lights' 'housewares' 'office_furniture']\n"
     ]
    }
   ],
   "source": [
    "treeclf = tree.DecisionTreeClassifier()\n",
    "treeclf = treeclf.fit(train2, target_train2)\n",
    "treepreds_test = treeclf.predict(test2)\n",
    "print(treepreds_test)"
   ]
  },
  {
   "cell_type": "code",
   "execution_count": 126,
   "metadata": {},
   "outputs": [
    {
     "name": "stdout",
     "output_type": "stream",
     "text": [
      "                                         precision    recall  f1-score   support\n",
      "\n",
      "             agro_industry_and_commerce       0.81      0.76      0.78        45\n",
      "                       air_conditioning       0.80      0.71      0.75        69\n",
      "                                    art       0.83      0.73      0.78        48\n",
      "                  arts_and_craftmanship       0.00      0.00      0.00         2\n",
      "                                  audio       0.86      0.89      0.87        79\n",
      "                                   auto       0.80      0.78      0.79       849\n",
      "                                   baby       0.84      0.84      0.84       651\n",
      "                         bed_bath_table       0.92      0.93      0.93      2176\n",
      "                 books_general_interest       0.72      0.74      0.73       107\n",
      "                         books_imported       0.65      0.85      0.73        13\n",
      "                        books_technical       0.81      0.83      0.82        60\n",
      "                      cds_dvds_musicals       1.00      0.75      0.86         4\n",
      "                     christmas_supplies       0.73      0.76      0.75        25\n",
      "                             cine_photo       0.75      0.60      0.67        15\n",
      "                              computers       1.00      0.95      0.97        39\n",
      "                  computers_accessories       0.89      0.90      0.90      1528\n",
      "                         consoles_games       0.86      0.85      0.85       228\n",
      "        construction_tools_construction       0.70      0.74      0.72       168\n",
      "              construction_tools_lights       0.86      0.83      0.85        66\n",
      "              construction_tools_safety       0.69      0.63      0.66        35\n",
      "                             cool_stuff       0.89      0.90      0.89       808\n",
      "               costruction_tools_garden       0.69      0.92      0.79        37\n",
      "                costruction_tools_tools       0.80      0.71      0.75        17\n",
      "                    diapers_and_hygiene       1.00      0.88      0.93         8\n",
      "                                 drinks       0.85      0.94      0.89        80\n",
      "                           dvds_blu_ray       0.83      0.71      0.77        14\n",
      "                            electronics       0.91      0.90      0.91       549\n",
      "                 fashio_female_clothing       0.71      0.62      0.67         8\n",
      "               fashion_bags_accessories       0.86      0.87      0.87       403\n",
      "              fashion_childrens_clothes       0.00      0.00      0.00         1\n",
      "                  fashion_male_clothing       0.67      0.84      0.74        19\n",
      "                          fashion_shoes       0.89      0.92      0.90        51\n",
      "                          fashion_sport       0.40      1.00      0.57         2\n",
      "                fashion_underwear_beach       0.90      0.82      0.86        34\n",
      "                        fixed_telephony       0.71      0.66      0.68        44\n",
      "                                flowers       1.00      1.00      1.00         1\n",
      "                                   food       0.89      0.94      0.92       104\n",
      "                             food_drink       0.78      0.81      0.79        52\n",
      "                      furniture_bedroom       0.80      0.67      0.73        24\n",
      "                        furniture_decor       0.89      0.87      0.88      1690\n",
      "                  furniture_living_room       0.81      0.82      0.81       109\n",
      "      furniture_mattress_and_upholstery       0.83      1.00      0.91         5\n",
      "                           garden_tools       0.89      0.89      0.89       893\n",
      "                          health_beauty       0.87      0.87      0.87      1890\n",
      "                        home_appliances       0.81      0.81      0.81       150\n",
      "                      home_appliances_2       0.82      0.76      0.79        54\n",
      "                         home_comfort_2       1.00      0.50      0.67         4\n",
      "                           home_confort       0.83      0.92      0.88        76\n",
      "                      home_construction       0.80      0.79      0.79       126\n",
      "                             housewares       0.84      0.84      0.84      1393\n",
      "         industry_commerce_and_business       0.84      0.84      0.84        49\n",
      "kitchen_dining_laundry_garden_furniture       0.75      0.77      0.76        57\n",
      "                             la_cuisine       0.33      0.40      0.36         5\n",
      "                    luggage_accessories       0.85      0.82      0.83       223\n",
      "                           market_place       0.86      0.77      0.81        71\n",
      "                                  music       0.56      0.62      0.59         8\n",
      "                    musical_instruments       0.73      0.65      0.68       136\n",
      "                       office_furniture       0.94      0.99      0.96       348\n",
      "                         party_supplies       0.43      0.43      0.43         7\n",
      "                              perfumery       0.87      0.84      0.86       705\n",
      "                               pet_shop       0.79      0.80      0.79       374\n",
      "                  security_and_services       0.00      0.00      0.00         2\n",
      "                 signaling_and_security       0.67      0.78      0.72        41\n",
      "                       small_appliances       0.76      0.83      0.79       123\n",
      "  small_appliances_home_oven_and_coffee       0.83      0.77      0.80        13\n",
      "                         sports_leisure       0.84      0.84      0.84      1785\n",
      "                             stationery       0.82      0.86      0.84       497\n",
      "                 tablets_printing_image       0.85      1.00      0.92        17\n",
      "                              telephony       0.92      0.92      0.92       924\n",
      "                                   toys       0.82      0.79      0.80       787\n",
      "                          watches_gifts       0.93      0.93      0.93      1180\n",
      "\n",
      "                               accuracy                           0.87     22205\n",
      "                              macro avg       0.77      0.77      0.77     22205\n",
      "                           weighted avg       0.87      0.87      0.87     22205\n",
      "\n"
     ]
    }
   ],
   "source": [
    "print(classification_report(target_test2, treepreds_test))"
   ]
  },
  {
   "cell_type": "code",
   "execution_count": 127,
   "metadata": {},
   "outputs": [
    {
     "name": "stdout",
     "output_type": "stream",
     "text": [
      "Average accuracy score on test data: 0.8655708173834722 \n"
     ]
    }
   ],
   "source": [
    "print('Average accuracy score on test data: %s ' %(treeclf.score(test2, target_test2)))"
   ]
  },
  {
   "cell_type": "code",
   "execution_count": 128,
   "metadata": {},
   "outputs": [
    {
     "name": "stdout",
     "output_type": "stream",
     "text": [
      "Average accuracy score on train data: 0.9999437051048211 \n"
     ]
    }
   ],
   "source": [
    "print('Average accuracy score on train data: %s ' %(treeclf.score(train2, target_train2)))"
   ]
  },
  {
   "cell_type": "markdown",
   "metadata": {},
   "source": [
    "## PCA for reduced Dimensionality in Clustering"
   ]
  },
  {
   "cell_type": "code",
   "execution_count": 129,
   "metadata": {},
   "outputs": [],
   "source": [
    "min_max_scaler = preprocessing.MinMaxScaler().fit(df)\n",
    "\n",
    "data_norm = min_max_scaler.transform(df)"
   ]
  },
  {
   "cell_type": "code",
   "execution_count": 130,
   "metadata": {},
   "outputs": [
    {
     "data": {
      "text/plain": [
       "array([[0.        , 0.00862024, 0.03243995, 0.14894684, 0.15789474,\n",
       "        0.01607916, 0.21428571, 0.06796117, 0.07142857],\n",
       "       [0.        , 0.00817475, 0.04383909, 0.14894684, 0.15789474,\n",
       "        0.01607916, 0.21428571, 0.06796117, 0.07142857],\n",
       "       [0.        , 0.00951122, 0.04474224, 0.14894684, 0.15789474,\n",
       "        0.01607916, 0.21428571, 0.06796117, 0.07142857],\n",
       "       [0.        , 0.00862024, 0.03946983, 0.14894684, 0.15789474,\n",
       "        0.01607916, 0.21428571, 0.06796117, 0.07142857],\n",
       "       [0.        , 0.00862024, 0.03243995, 0.14894684, 0.15789474,\n",
       "        0.01607916, 0.21428571, 0.06796117, 0.07142857],\n",
       "       [0.        , 0.00817475, 0.06573423, 0.14894684, 0.15789474,\n",
       "        0.01607916, 0.21428571, 0.06796117, 0.07142857],\n",
       "       [0.        , 0.00951122, 0.09397579, 0.14894684, 0.15789474,\n",
       "        0.01607916, 0.21428571, 0.06796117, 0.07142857],\n",
       "       [0.05      , 0.00862024, 0.04422964, 0.14894684, 0.15789474,\n",
       "        0.01607916, 0.21428571, 0.06796117, 0.07142857],\n",
       "       [0.        , 0.00862024, 0.04352177, 0.14919759, 0.26315789,\n",
       "        0.0131107 , 0.23469388, 0.06796117, 0.07142857],\n",
       "       [0.        , 0.00817475, 0.08716559, 0.14894684, 0.15789474,\n",
       "        0.01607916, 0.21428571, 0.06796117, 0.07142857]])"
      ]
     },
     "execution_count": 130,
     "metadata": {},
     "output_type": "execute_result"
    }
   ],
   "source": [
    "data_norm[:10]"
   ]
  },
  {
   "cell_type": "code",
   "execution_count": 131,
   "metadata": {},
   "outputs": [],
   "source": [
    "from sklearn.metrics import classification_report"
   ]
  },
  {
   "cell_type": "code",
   "execution_count": 132,
   "metadata": {},
   "outputs": [
    {
     "name": "stdout",
     "output_type": "stream",
     "text": [
      "Initialization complete\n",
      "Iteration 0, inertia 6604.328680870633\n",
      "Iteration 1, inertia 5175.081867895968\n",
      "Iteration 2, inertia 4975.092812277061\n",
      "Iteration 3, inertia 4903.710386558835\n",
      "Iteration 4, inertia 4872.920238652683\n",
      "Iteration 5, inertia 4857.163335928288\n",
      "Iteration 6, inertia 4848.274132726113\n",
      "Iteration 7, inertia 4844.536333428934\n",
      "Iteration 8, inertia 4842.113961152457\n",
      "Iteration 9, inertia 4841.141005281726\n",
      "Iteration 10, inertia 4840.182661840531\n",
      "Iteration 11, inertia 4839.572468085826\n",
      "Iteration 12, inertia 4839.049377827678\n",
      "Iteration 13, inertia 4838.542909227053\n",
      "Iteration 14, inertia 4838.327092402594\n",
      "Iteration 15, inertia 4838.246853081786\n",
      "Iteration 16, inertia 4838.226138809137\n",
      "Converged at iteration 16: center shift 2.964964256220539e-07 within tolerance 1.137801549375911e-06.\n",
      "Initialization complete\n",
      "Iteration 0, inertia 6929.354795121164\n",
      "Iteration 1, inertia 5164.83040805237\n",
      "Iteration 2, inertia 4997.380885029033\n",
      "Iteration 3, inertia 4933.7751873632515\n",
      "Iteration 4, inertia 4899.707034403968\n",
      "Iteration 5, inertia 4873.042681912653\n",
      "Iteration 6, inertia 4851.486981856532\n",
      "Iteration 7, inertia 4836.803556995024\n",
      "Iteration 8, inertia 4827.242956715588\n",
      "Iteration 9, inertia 4820.389117233121\n",
      "Iteration 10, inertia 4816.739523742442\n",
      "Iteration 11, inertia 4813.966751637087\n",
      "Iteration 12, inertia 4811.9423307808975\n",
      "Iteration 13, inertia 4806.16629044304\n",
      "Iteration 14, inertia 4801.209587442973\n",
      "Iteration 15, inertia 4799.632144682748\n",
      "Iteration 16, inertia 4798.645225348805\n",
      "Iteration 17, inertia 4798.441256548523\n",
      "Iteration 18, inertia 4798.385812979927\n",
      "Iteration 19, inertia 4798.255004297104\n",
      "Iteration 20, inertia 4798.172627262226\n",
      "Iteration 21, inertia 4798.103903355999\n",
      "Iteration 22, inertia 4798.0472574655005\n",
      "Converged at iteration 22: center shift 9.696043918345112e-07 within tolerance 1.137801549375911e-06.\n",
      "Initialization complete\n",
      "Iteration 0, inertia 7108.482224852405\n",
      "Iteration 1, inertia 5318.593738009728\n",
      "Iteration 2, inertia 5072.100831366086\n",
      "Iteration 3, inertia 4956.972980145803\n",
      "Iteration 4, inertia 4905.469500940993\n",
      "Iteration 5, inertia 4883.228112734484\n",
      "Iteration 6, inertia 4868.298918549837\n",
      "Iteration 7, inertia 4857.309804361175\n",
      "Iteration 8, inertia 4853.158284775965\n",
      "Iteration 9, inertia 4849.008327028908\n",
      "Iteration 10, inertia 4846.634600157261\n",
      "Iteration 11, inertia 4845.854321536856\n",
      "Iteration 12, inertia 4845.654912837095\n",
      "Iteration 13, inertia 4845.561261861273\n",
      "Iteration 14, inertia 4845.502211581846\n",
      "Iteration 15, inertia 4845.254267581668\n",
      "Iteration 16, inertia 4842.298282666294\n",
      "Iteration 17, inertia 4839.839806139223\n",
      "Iteration 18, inertia 4838.689123027947\n",
      "Iteration 19, inertia 4838.332108915977\n",
      "Iteration 20, inertia 4838.192385164818\n",
      "Iteration 21, inertia 4838.153641470579\n",
      "Converged at iteration 21: center shift 6.962516779454956e-07 within tolerance 1.137801549375911e-06.\n",
      "Initialization complete\n",
      "Iteration 0, inertia 6874.332456065917\n",
      "Iteration 1, inertia 5233.133848162762\n",
      "Iteration 2, inertia 5083.438717385132\n",
      "Iteration 3, inertia 5022.714557956082\n",
      "Iteration 4, inertia 4977.047281835816\n",
      "Iteration 5, inertia 4957.789223860778\n",
      "Iteration 6, inertia 4950.269185466411\n",
      "Iteration 7, inertia 4947.761052035062\n",
      "Iteration 8, inertia 4946.410829662424\n",
      "Iteration 9, inertia 4945.298562597947\n",
      "Iteration 10, inertia 4939.661760934471\n",
      "Iteration 11, inertia 4934.06369707063\n",
      "Iteration 12, inertia 4929.8465793167115\n",
      "Iteration 13, inertia 4924.794946697124\n",
      "Iteration 14, inertia 4918.314162559524\n",
      "Iteration 15, inertia 4904.745878831457\n",
      "Iteration 16, inertia 4886.425472879647\n",
      "Iteration 17, inertia 4866.584081942384\n",
      "Iteration 18, inertia 4845.204505747303\n",
      "Iteration 19, inertia 4823.7811789278085\n",
      "Iteration 20, inertia 4809.541857364853\n",
      "Iteration 21, inertia 4803.766718975635\n",
      "Iteration 22, inertia 4801.902471800144\n",
      "Iteration 23, inertia 4801.329073716667\n",
      "Iteration 24, inertia 4801.213086052363\n",
      "Converged at iteration 24: center shift 9.017311009634073e-07 within tolerance 1.137801549375911e-06.\n",
      "Initialization complete\n",
      "Iteration 0, inertia 7477.802825722988\n",
      "Iteration 1, inertia 5612.822569103067\n",
      "Iteration 2, inertia 5393.391234110677\n",
      "Iteration 3, inertia 5289.272461627596\n",
      "Iteration 4, inertia 5240.148888833856\n",
      "Iteration 5, inertia 5216.799816417975\n",
      "Iteration 6, inertia 5202.595220213213\n",
      "Iteration 7, inertia 5192.431031046837\n",
      "Iteration 8, inertia 5186.10404231427\n",
      "Iteration 9, inertia 5180.48066352384\n",
      "Iteration 10, inertia 5176.237123826498\n",
      "Iteration 11, inertia 5172.815052833712\n",
      "Iteration 12, inertia 5168.6262865049675\n",
      "Iteration 13, inertia 5163.09165503957\n",
      "Iteration 14, inertia 5151.305145453554\n",
      "Iteration 15, inertia 5128.736980474173\n",
      "Iteration 16, inertia 5086.040913937684\n",
      "Iteration 17, inertia 4994.93096443911\n",
      "Iteration 18, inertia 4901.621934537065\n",
      "Iteration 19, inertia 4855.858417937895\n",
      "Iteration 20, inertia 4829.340749555135\n",
      "Iteration 21, inertia 4817.711611007953\n",
      "Iteration 22, inertia 4810.345936424611\n",
      "Iteration 23, inertia 4802.232378930709\n",
      "Iteration 24, inertia 4800.149003636184\n",
      "Iteration 25, inertia 4798.808283313284\n",
      "Iteration 26, inertia 4798.480933599498\n",
      "Iteration 27, inertia 4798.393428515921\n",
      "Iteration 28, inertia 4798.344405888684\n",
      "Iteration 29, inertia 4798.245344955744\n",
      "Iteration 30, inertia 4798.182243456793\n",
      "Iteration 31, inertia 4798.134137931931\n",
      "Converged at iteration 31: center shift 1.05244693316669e-06 within tolerance 1.137801549375911e-06.\n",
      "Initialization complete\n",
      "Iteration 0, inertia 5980.4896919494\n",
      "Iteration 1, inertia 4991.547667672368\n",
      "Iteration 2, inertia 4881.723483100496\n",
      "Iteration 3, inertia 4839.5530032136485\n",
      "Iteration 4, inertia 4811.802912029373\n",
      "Iteration 5, inertia 4805.050987899285\n",
      "Iteration 6, inertia 4802.939656288026\n",
      "Iteration 7, inertia 4802.286428447711\n",
      "Iteration 8, inertia 4801.947724590827\n",
      "Iteration 9, inertia 4801.732053625332\n",
      "Iteration 10, inertia 4801.648120803909\n",
      "Iteration 11, inertia 4801.180078223765\n",
      "Iteration 12, inertia 4800.906530843039\n",
      "Iteration 13, inertia 4800.255096782814\n",
      "Iteration 14, inertia 4799.429410454031\n",
      "Iteration 15, inertia 4799.157702020847\n",
      "Iteration 16, inertia 4798.720210537702\n",
      "Iteration 17, inertia 4798.153764167606\n",
      "Iteration 18, inertia 4797.910073396926\n",
      "Iteration 19, inertia 4797.803186313397\n",
      "Iteration 20, inertia 4797.701620456234\n",
      "Iteration 21, inertia 4797.672156760782\n",
      "Converged at iteration 21: center shift 7.127897860644834e-07 within tolerance 1.137801549375911e-06.\n",
      "Initialization complete\n",
      "Iteration 0, inertia 6790.648456248368\n",
      "Iteration 1, inertia 5177.577703613032\n",
      "Iteration 2, inertia 5035.205184832584\n",
      "Iteration 3, inertia 4992.073964379127\n",
      "Iteration 4, inertia 4978.166904340495\n",
      "Iteration 5, inertia 4963.8881899060225\n",
      "Iteration 6, inertia 4953.498184546002\n",
      "Iteration 7, inertia 4946.6715197896265\n",
      "Iteration 8, inertia 4942.684124858723\n",
      "Iteration 9, inertia 4941.007050779988\n",
      "Iteration 10, inertia 4940.238138626839\n",
      "Iteration 11, inertia 4939.809586096212\n",
      "Iteration 12, inertia 4939.021273365428\n",
      "Iteration 13, inertia 4938.274316649371\n",
      "Iteration 14, inertia 4937.569359026852\n",
      "Iteration 15, inertia 4937.248412173937\n",
      "Iteration 16, inertia 4937.051092346035\n",
      "Iteration 17, inertia 4936.879134864185\n",
      "Iteration 18, inertia 4936.641768988378\n",
      "Iteration 19, inertia 4936.443553967762\n",
      "Iteration 20, inertia 4936.363968795778\n",
      "Iteration 21, inertia 4936.3304610533805\n",
      "Converged at iteration 21: center shift 3.8173902530439875e-07 within tolerance 1.137801549375911e-06.\n",
      "Initialization complete\n",
      "Iteration 0, inertia 7354.155328509837\n",
      "Iteration 1, inertia 5388.332190239585\n",
      "Iteration 2, inertia 5156.37763418306\n",
      "Iteration 3, inertia 5064.412678085466\n",
      "Iteration 4, inertia 5013.331593729416\n",
      "Iteration 5, inertia 4975.985551184713\n",
      "Iteration 6, inertia 4950.091899070193\n",
      "Iteration 7, inertia 4930.1021251031225\n",
      "Iteration 8, inertia 4913.107855349639\n",
      "Iteration 9, inertia 4899.086758208165\n",
      "Iteration 10, inertia 4883.687875223988\n",
      "Iteration 11, inertia 4867.771897434008\n",
      "Iteration 12, inertia 4858.146784812395\n",
      "Iteration 13, inertia 4854.213076640199\n",
      "Iteration 14, inertia 4850.935184184792\n",
      "Iteration 15, inertia 4847.3460042391325\n",
      "Iteration 16, inertia 4846.045231498174\n",
      "Iteration 17, inertia 4845.690475891852\n",
      "Iteration 18, inertia 4845.575502804808\n",
      "Iteration 19, inertia 4845.526593935307\n",
      "Converged at iteration 19: center shift 9.481088439903404e-07 within tolerance 1.137801549375911e-06.\n",
      "Initialization complete\n",
      "Iteration 0, inertia 8153.077821932702\n",
      "Iteration 1, inertia 5674.910807153862\n",
      "Iteration 2, inertia 5489.473053024027\n",
      "Iteration 3, inertia 5428.096712093192\n",
      "Iteration 4, inertia 5400.4186248823025\n"
     ]
    },
    {
     "name": "stdout",
     "output_type": "stream",
     "text": [
      "Iteration 5, inertia 5370.050301127596\n",
      "Iteration 6, inertia 5160.201547921085\n",
      "Iteration 7, inertia 5005.789396056461\n",
      "Iteration 8, inertia 4953.354055898511\n",
      "Iteration 9, inertia 4937.958337254532\n",
      "Iteration 10, inertia 4932.453438072682\n",
      "Iteration 11, inertia 4930.327111682335\n",
      "Iteration 12, inertia 4928.657881434474\n",
      "Iteration 13, inertia 4925.953582719318\n",
      "Iteration 14, inertia 4922.67282018845\n",
      "Iteration 15, inertia 4916.618935343613\n",
      "Iteration 16, inertia 4902.424524031187\n",
      "Iteration 17, inertia 4884.398401862694\n",
      "Iteration 18, inertia 4864.879826366082\n",
      "Iteration 19, inertia 4843.253694890533\n",
      "Iteration 20, inertia 4822.648548336746\n",
      "Iteration 21, inertia 4809.223686510333\n",
      "Iteration 22, inertia 4803.607486842583\n",
      "Iteration 23, inertia 4801.864058857333\n",
      "Iteration 24, inertia 4801.325559952958\n",
      "Iteration 25, inertia 4801.214248870412\n",
      "Converged at iteration 25: center shift 9.962435385469157e-07 within tolerance 1.137801549375911e-06.\n",
      "Initialization complete\n",
      "Iteration 0, inertia 6988.200593103999\n",
      "Iteration 1, inertia 5262.152548105756\n",
      "Iteration 2, inertia 4965.9762608359815\n",
      "Iteration 3, inertia 4885.084089803956\n",
      "Iteration 4, inertia 4848.683084295486\n",
      "Iteration 5, inertia 4826.8937393947235\n",
      "Iteration 6, inertia 4811.390720006471\n",
      "Iteration 7, inertia 4802.230078538458\n",
      "Iteration 8, inertia 4799.391127154002\n",
      "Iteration 9, inertia 4798.424736380198\n",
      "Iteration 10, inertia 4798.106971448911\n",
      "Iteration 11, inertia 4797.894583751404\n",
      "Iteration 12, inertia 4797.786465702473\n",
      "Iteration 13, inertia 4797.7363926552125\n",
      "Iteration 14, inertia 4797.708196972582\n",
      "Converged at iteration 14: center shift 6.507462432047199e-07 within tolerance 1.137801549375911e-06.\n"
     ]
    },
    {
     "data": {
      "text/plain": [
       "KMeans(max_iter=500, n_clusters=6, verbose=1)"
      ]
     },
     "execution_count": 132,
     "metadata": {},
     "output_type": "execute_result"
    }
   ],
   "source": [
    "kmeans = KMeans(n_clusters=6, max_iter=500, verbose=1) # initialization\n",
    "kmeans.fit(data_norm)"
   ]
  },
  {
   "cell_type": "code",
   "execution_count": 133,
   "metadata": {},
   "outputs": [
    {
     "data": {
      "text/html": [
       "<div>\n",
       "<style scoped>\n",
       "    .dataframe tbody tr th:only-of-type {\n",
       "        vertical-align: middle;\n",
       "    }\n",
       "\n",
       "    .dataframe tbody tr th {\n",
       "        vertical-align: top;\n",
       "    }\n",
       "\n",
       "    .dataframe thead th {\n",
       "        text-align: right;\n",
       "    }\n",
       "</style>\n",
       "<table border=\"1\" class=\"dataframe\">\n",
       "  <thead>\n",
       "    <tr style=\"text-align: right;\">\n",
       "      <th></th>\n",
       "      <th>Cluster</th>\n",
       "    </tr>\n",
       "  </thead>\n",
       "  <tbody>\n",
       "    <tr>\n",
       "      <th>0</th>\n",
       "      <td>0</td>\n",
       "    </tr>\n",
       "    <tr>\n",
       "      <th>1</th>\n",
       "      <td>0</td>\n",
       "    </tr>\n",
       "    <tr>\n",
       "      <th>2</th>\n",
       "      <td>0</td>\n",
       "    </tr>\n",
       "    <tr>\n",
       "      <th>3</th>\n",
       "      <td>0</td>\n",
       "    </tr>\n",
       "    <tr>\n",
       "      <th>4</th>\n",
       "      <td>0</td>\n",
       "    </tr>\n",
       "    <tr>\n",
       "      <th>...</th>\n",
       "      <td>...</td>\n",
       "    </tr>\n",
       "    <tr>\n",
       "      <th>111018</th>\n",
       "      <td>2</td>\n",
       "    </tr>\n",
       "    <tr>\n",
       "      <th>111019</th>\n",
       "      <td>0</td>\n",
       "    </tr>\n",
       "    <tr>\n",
       "      <th>111020</th>\n",
       "      <td>2</td>\n",
       "    </tr>\n",
       "    <tr>\n",
       "      <th>111021</th>\n",
       "      <td>0</td>\n",
       "    </tr>\n",
       "    <tr>\n",
       "      <th>111022</th>\n",
       "      <td>2</td>\n",
       "    </tr>\n",
       "  </tbody>\n",
       "</table>\n",
       "<p>111023 rows × 1 columns</p>\n",
       "</div>"
      ],
      "text/plain": [
       "        Cluster\n",
       "0             0\n",
       "1             0\n",
       "2             0\n",
       "3             0\n",
       "4             0\n",
       "...         ...\n",
       "111018        2\n",
       "111019        0\n",
       "111020        2\n",
       "111021        0\n",
       "111022        2\n",
       "\n",
       "[111023 rows x 1 columns]"
      ]
     },
     "execution_count": 133,
     "metadata": {},
     "output_type": "execute_result"
    }
   ],
   "source": [
    "clusters = kmeans.predict(data_norm)\n",
    "pd.DataFrame(clusters, columns=[\"Cluster\"])"
   ]
  },
  {
   "cell_type": "code",
   "execution_count": 134,
   "metadata": {},
   "outputs": [],
   "source": [
    "columns_name = [\"cluster:1\",\"cluster:2\",\"cluster:3\",\"cluster:4\",\"cluster:5\",\"cluster:6\"]"
   ]
  },
  {
   "cell_type": "code",
   "execution_count": 135,
   "metadata": {},
   "outputs": [
    {
     "data": {
      "text/html": [
       "<div>\n",
       "<style scoped>\n",
       "    .dataframe tbody tr th:only-of-type {\n",
       "        vertical-align: middle;\n",
       "    }\n",
       "\n",
       "    .dataframe tbody tr th {\n",
       "        vertical-align: top;\n",
       "    }\n",
       "\n",
       "    .dataframe thead th {\n",
       "        text-align: right;\n",
       "    }\n",
       "</style>\n",
       "<table border=\"1\" class=\"dataframe\">\n",
       "  <thead>\n",
       "    <tr style=\"text-align: right;\">\n",
       "      <th></th>\n",
       "      <th>cluster:1</th>\n",
       "      <th>cluster:2</th>\n",
       "      <th>cluster:3</th>\n",
       "      <th>cluster:4</th>\n",
       "      <th>cluster:5</th>\n",
       "      <th>cluster:6</th>\n",
       "    </tr>\n",
       "  </thead>\n",
       "  <tbody>\n",
       "    <tr>\n",
       "      <th>0</th>\n",
       "      <td>0.01</td>\n",
       "      <td>0.01</td>\n",
       "      <td>0.01</td>\n",
       "      <td>0.01</td>\n",
       "      <td>0.01</td>\n",
       "      <td>0.01</td>\n",
       "    </tr>\n",
       "    <tr>\n",
       "      <th>1</th>\n",
       "      <td>0.01</td>\n",
       "      <td>0.04</td>\n",
       "      <td>0.02</td>\n",
       "      <td>0.03</td>\n",
       "      <td>0.02</td>\n",
       "      <td>0.02</td>\n",
       "    </tr>\n",
       "    <tr>\n",
       "      <th>2</th>\n",
       "      <td>0.04</td>\n",
       "      <td>0.11</td>\n",
       "      <td>0.05</td>\n",
       "      <td>0.05</td>\n",
       "      <td>0.05</td>\n",
       "      <td>0.07</td>\n",
       "    </tr>\n",
       "    <tr>\n",
       "      <th>3</th>\n",
       "      <td>0.12</td>\n",
       "      <td>0.22</td>\n",
       "      <td>0.12</td>\n",
       "      <td>0.71</td>\n",
       "      <td>0.33</td>\n",
       "      <td>0.21</td>\n",
       "    </tr>\n",
       "    <tr>\n",
       "      <th>4</th>\n",
       "      <td>0.06</td>\n",
       "      <td>0.06</td>\n",
       "      <td>0.06</td>\n",
       "      <td>0.09</td>\n",
       "      <td>0.07</td>\n",
       "      <td>0.09</td>\n",
       "    </tr>\n",
       "    <tr>\n",
       "      <th>5</th>\n",
       "      <td>0.01</td>\n",
       "      <td>0.30</td>\n",
       "      <td>0.05</td>\n",
       "      <td>0.04</td>\n",
       "      <td>0.03</td>\n",
       "      <td>0.12</td>\n",
       "    </tr>\n",
       "    <tr>\n",
       "      <th>6</th>\n",
       "      <td>0.13</td>\n",
       "      <td>0.37</td>\n",
       "      <td>0.32</td>\n",
       "      <td>0.21</td>\n",
       "      <td>0.16</td>\n",
       "      <td>0.66</td>\n",
       "    </tr>\n",
       "    <tr>\n",
       "      <th>7</th>\n",
       "      <td>0.08</td>\n",
       "      <td>0.51</td>\n",
       "      <td>0.15</td>\n",
       "      <td>0.14</td>\n",
       "      <td>0.14</td>\n",
       "      <td>0.11</td>\n",
       "    </tr>\n",
       "    <tr>\n",
       "      <th>8</th>\n",
       "      <td>0.09</td>\n",
       "      <td>0.26</td>\n",
       "      <td>0.22</td>\n",
       "      <td>0.13</td>\n",
       "      <td>0.11</td>\n",
       "      <td>0.28</td>\n",
       "    </tr>\n",
       "  </tbody>\n",
       "</table>\n",
       "</div>"
      ],
      "text/plain": [
       "   cluster:1  cluster:2  cluster:3  cluster:4  cluster:5  cluster:6\n",
       "0       0.01       0.01       0.01       0.01       0.01       0.01\n",
       "1       0.01       0.04       0.02       0.03       0.02       0.02\n",
       "2       0.04       0.11       0.05       0.05       0.05       0.07\n",
       "3       0.12       0.22       0.12       0.71       0.33       0.21\n",
       "4       0.06       0.06       0.06       0.09       0.07       0.09\n",
       "5       0.01       0.30       0.05       0.04       0.03       0.12\n",
       "6       0.13       0.37       0.32       0.21       0.16       0.66\n",
       "7       0.08       0.51       0.15       0.14       0.14       0.11\n",
       "8       0.09       0.26       0.22       0.13       0.11       0.28"
      ]
     },
     "execution_count": 135,
     "metadata": {},
     "output_type": "execute_result"
    }
   ],
   "source": [
    "pd.options.display.float_format='{:,.2f}'.format\n",
    "\n",
    "centroids = pd.DataFrame(kmeans.cluster_centers_.T, columns = columns_name)\n",
    "centroids"
   ]
  },
  {
   "cell_type": "code",
   "execution_count": 136,
   "metadata": {},
   "outputs": [],
   "source": [
    "from sklearn import metrics"
   ]
  },
  {
   "cell_type": "code",
   "execution_count": 137,
   "metadata": {},
   "outputs": [
    {
     "name": "stdout",
     "output_type": "stream",
     "text": [
      "[0.31916821 0.31847286 0.31834323 0.31889874 0.31916821 0.31337736\n",
      " 0.30026672 0.30973964 0.19832245 0.30403459 0.23579645 0.21707834\n",
      " 0.23578316 0.23472047 0.23269651 0.22455407 0.31905445 0.23579645\n",
      " 0.22986106 0.23470165]\n"
     ]
    }
   ],
   "source": [
    "silhouettes = metrics.silhouette_samples(data_norm, clusters)\n",
    "print(silhouettes[:20])"
   ]
  },
  {
   "cell_type": "code",
   "execution_count": 138,
   "metadata": {},
   "outputs": [
    {
     "name": "stdout",
     "output_type": "stream",
     "text": [
      "Over all mean silhouettes: 0.24161738098425942 \n"
     ]
    }
   ],
   "source": [
    "print(\"Over all mean silhouettes: %s \" %(silhouettes.mean()))"
   ]
  },
  {
   "cell_type": "code",
   "execution_count": 139,
   "metadata": {},
   "outputs": [],
   "source": [
    "def plot_silhouettes(data, clusters, metric='euclidean'):\n",
    "    \n",
    "    from matplotlib import cm\n",
    "    from sklearn.metrics import silhouette_samples\n",
    "\n",
    "    cluster_labels = np.unique(clusters)\n",
    "    n_clusters = cluster_labels.shape[0]\n",
    "    silhouette_vals = metrics.silhouette_samples(data, clusters, metric='euclidean')\n",
    "    c_ax_lower, c_ax_upper = 0, 0\n",
    "    cticks = []\n",
    "    for i, k in enumerate(cluster_labels):\n",
    "        c_silhouette_vals = silhouette_vals[clusters == k]\n",
    "        c_silhouette_vals.sort()\n",
    "        c_ax_upper += len(c_silhouette_vals)\n",
    "        color = cm.jet(float(i) / n_clusters)\n",
    "        pl.barh(range(c_ax_lower, c_ax_upper), c_silhouette_vals, height=1.0, \n",
    "                      edgecolor='none', color=color)\n",
    "\n",
    "        cticks.append((c_ax_lower + c_ax_upper) / 2)\n",
    "        c_ax_lower += len(c_silhouette_vals)\n",
    "    \n",
    "    silhouette_avg = np.mean(silhouette_vals)\n",
    "    pl.axvline(silhouette_avg, color=\"red\", linestyle=\"--\") \n",
    "\n",
    "    pl.yticks(cticks, cluster_labels)\n",
    "    pl.ylabel('Cluster')\n",
    "    pl.xlabel('Silhouette coefficient')\n",
    "\n",
    "    pl.tight_layout()\n",
    "    #pl.savefig('images/11_04.png', dpi=300)\n",
    "    pl.show()\n",
    "    \n",
    "    return"
   ]
  },
  {
   "cell_type": "code",
   "execution_count": 140,
   "metadata": {},
   "outputs": [
    {
     "data": {
      "image/png": "[encoded data removed]",
      "text/plain": [
       "<Figure size 432x288 with 1 Axes>"
      ]
     },
     "metadata": {
      "needs_background": "light"
     },
     "output_type": "display_data"
    }
   ],
   "source": [
    "plot_silhouettes(data_norm, clusters)"
   ]
  },
  {
   "cell_type": "code",
   "execution_count": 141,
   "metadata": {},
   "outputs": [],
   "source": [
    "from sklearn.metrics import completeness_score, homogeneity_score"
   ]
  },
  {
   "cell_type": "code",
   "execution_count": 142,
   "metadata": {},
   "outputs": [
    {
     "data": {
      "text/plain": [
       "(111023,)"
      ]
     },
     "execution_count": 142,
     "metadata": {},
     "output_type": "execute_result"
    }
   ],
   "source": [
    "clusters.shape"
   ]
  },
  {
   "cell_type": "code",
   "execution_count": 143,
   "metadata": {},
   "outputs": [
    {
     "name": "stdout",
     "output_type": "stream",
     "text": [
      "completeness_score: 0.024503756787998543 \n"
     ]
    }
   ],
   "source": [
    "print(\"completeness_score: %s \" %(completeness_score(target ,clusters)))"
   ]
  },
  {
   "cell_type": "code",
   "execution_count": 144,
   "metadata": {},
   "outputs": [
    {
     "name": "stdout",
     "output_type": "stream",
     "text": [
      "homogeneity_score:  0.010632049248690894\n"
     ]
    }
   ],
   "source": [
    "print(\"homogeneity_score:  %s\" %(homogeneity_score(target ,clusters)))"
   ]
  },
  {
   "cell_type": "markdown",
   "metadata": {},
   "source": [
    "#### Using Decomposition module to perform PCA"
   ]
  },
  {
   "cell_type": "code",
   "execution_count": 145,
   "metadata": {},
   "outputs": [],
   "source": [
    "pca = decomposition.PCA(n_components=8)\n",
    "DTtrans = pca.fit(data_norm).transform(data_norm)"
   ]
  },
  {
   "cell_type": "code",
   "execution_count": 146,
   "metadata": {},
   "outputs": [
    {
     "name": "stdout",
     "output_type": "stream",
     "text": [
      "[0.36585926 0.26571043 0.16464256 0.07801066 0.0633909  0.03579274\n",
      " 0.01222756 0.00925239]\n"
     ]
    }
   ],
   "source": [
    "print(pca.explained_variance_ratio_)"
   ]
  },
  {
   "cell_type": "code",
   "execution_count": 147,
   "metadata": {},
   "outputs": [
    {
     "name": "stdout",
     "output_type": "stream",
     "text": [
      "PC 1 : 36.58592571123896 \n",
      "PC 2 : 63.15696845472364 \n",
      "PC 3 : 79.62122474905806 \n",
      "PC 4 : 87.42229026656182 \n",
      "PC 5 : 93.76138015039402 \n",
      "PC 6 : 97.34065436478336 \n",
      "PC 7 : 98.56341015640683 \n",
      "PC 8 : 99.48864909704906 \n"
     ]
    }
   ],
   "source": [
    "num = 0\n",
    "res = 0\n",
    "val = pca.explained_variance_ratio_\n",
    "for i in range(len(val)):\n",
    "    res = res + (val[i]*100) \n",
    "    num = num + 1\n",
    "    count = i + 1\n",
    "    print(\"PC %s : %s \" %(count, res))"
   ]
  },
  {
   "cell_type": "markdown",
   "metadata": {},
   "source": [
    "Therefore, PC from 1 until 6 can capture 95% of variance in the data."
   ]
  },
  {
   "cell_type": "code",
   "execution_count": 148,
   "metadata": {},
   "outputs": [
    {
     "data": {
      "image/png": "[encoded data removed]",
      "text/plain": [
       "<Figure size 432x288 with 1 Axes>"
      ]
     },
     "metadata": {
      "needs_background": "light"
     },
     "output_type": "display_data"
    }
   ],
   "source": [
    "fig = plt.figure()\n",
    "ax = fig.add_subplot(111)\n",
    "ax.plot(range(1, 9), val*100, marker='^')\n",
    "plt.xlabel('Principal Component Number')\n",
    "plt.ylabel('Percentage of Variance')\n",
    "plt.show()"
   ]
  },
  {
   "cell_type": "markdown",
   "metadata": {},
   "source": [
    "#### Using 6 componants as features to transform the data into a reduce dimension space"
   ]
  },
  {
   "cell_type": "code",
   "execution_count": 108,
   "metadata": {},
   "outputs": [],
   "source": [
    "pca_95percent = decomposition.PCA(n_components=6)\n",
    "datatrans = pca_95percent.fit(data_norm).transform(data_norm)"
   ]
  },
  {
   "cell_type": "code",
   "execution_count": 109,
   "metadata": {},
   "outputs": [
    {
     "name": "stdout",
     "output_type": "stream",
     "text": [
      "[[-0.09 -0.04 -0.06  0.09 -0.05  0.02]\n",
      " [-0.09 -0.04 -0.06  0.09 -0.05  0.02]\n",
      " [-0.09 -0.04 -0.06  0.09 -0.05  0.02]\n",
      " ...\n",
      " [-0.02 -0.11  0.03  0.05 -0.05 -0.04]\n",
      " [-0.03 -0.11  0.02  0.05 -0.05 -0.05]\n",
      " [ 0.01 -0.08 -0.09  0.09  0.   -0.03]]\n"
     ]
    }
   ],
   "source": [
    "np.set_printoptions(precision=2,suppress=True)\n",
    "print(datatrans)"
   ]
  },
  {
   "cell_type": "code",
   "execution_count": 110,
   "metadata": {},
   "outputs": [
    {
     "name": "stdout",
     "output_type": "stream",
     "text": [
      "Initialization complete\n",
      "Iteration 0, inertia 6841.653630528504\n",
      "Iteration 1, inertia 4831.369032739414\n",
      "Iteration 2, inertia 4673.035910759561\n",
      "Iteration 3, inertia 4582.051885135073\n",
      "Iteration 4, inertia 4554.670349347771\n",
      "Iteration 5, inertia 4547.599542913725\n",
      "Iteration 6, inertia 4543.289777213312\n",
      "Iteration 7, inertia 4539.9939609577\n",
      "Iteration 8, inertia 4538.572493617657\n",
      "Iteration 9, inertia 4537.344938151363\n",
      "Iteration 10, inertia 4536.828257352953\n",
      "Iteration 11, inertia 4536.412200405653\n",
      "Iteration 12, inertia 4536.335770354847\n",
      "Converged at iteration 12: center shift 1.382463123322205e-06 within tolerance 1.6613152103029398e-06.\n",
      "Initialization complete\n",
      "Iteration 0, inertia 6242.165887070469\n",
      "Iteration 1, inertia 5125.930159670853\n",
      "Iteration 2, inertia 4895.703656256772\n",
      "Iteration 3, inertia 4820.667944570865\n",
      "Iteration 4, inertia 4804.4543827404\n",
      "Iteration 5, inertia 4798.234621768524\n",
      "Iteration 6, inertia 4795.848785287484\n",
      "Iteration 7, inertia 4794.998299558338\n",
      "Iteration 8, inertia 4794.696289558772\n",
      "Iteration 9, inertia 4794.503065568968\n",
      "Iteration 10, inertia 4794.359473962362\n",
      "Iteration 11, inertia 4794.305071657008\n",
      "Iteration 12, inertia 4794.267435820964\n",
      "Converged at iteration 12: center shift 6.974679693624282e-07 within tolerance 1.6613152103029398e-06.\n",
      "Initialization complete\n",
      "Iteration 0, inertia 6587.0394044117365\n",
      "Iteration 1, inertia 5017.184244752447\n",
      "Iteration 2, inertia 4703.645581384138\n",
      "Iteration 3, inertia 4579.252621111653\n",
      "Iteration 4, inertia 4537.622832508081\n",
      "Iteration 5, inertia 4519.925688890695\n",
      "Iteration 6, inertia 4508.17920800315\n",
      "Iteration 7, inertia 4502.255368574697\n",
      "Iteration 8, inertia 4500.445079872664\n",
      "Iteration 9, inertia 4499.996307167611\n",
      "Iteration 10, inertia 4499.759319837793\n",
      "Iteration 11, inertia 4499.311321844508\n",
      "Iteration 12, inertia 4498.848268372403\n",
      "Iteration 13, inertia 4497.7349303205165\n",
      "Iteration 14, inertia 4497.394396199759\n",
      "Iteration 15, inertia 4497.021518804563\n",
      "Iteration 16, inertia 4496.443250965704\n",
      "Iteration 17, inertia 4496.166708852356\n",
      "Iteration 18, inertia 4496.035144404365\n",
      "Iteration 19, inertia 4495.928455671026\n",
      "Iteration 20, inertia 4495.881984228229\n",
      "Converged at iteration 20: center shift 4.167624444044925e-07 within tolerance 1.6613152103029398e-06.\n",
      "Initialization complete\n",
      "Iteration 0, inertia 5896.656651772637\n",
      "Iteration 1, inertia 4663.619380829572\n",
      "Iteration 2, inertia 4553.950546913538\n",
      "Iteration 3, inertia 4528.8832646707315\n",
      "Iteration 4, inertia 4517.617277674625\n",
      "Iteration 5, inertia 4514.167724412895\n",
      "Iteration 6, inertia 4511.153348521493\n",
      "Iteration 7, inertia 4505.64151296112\n",
      "Iteration 8, inertia 4499.623003193622\n",
      "Iteration 9, inertia 4497.886628944577\n",
      "Iteration 10, inertia 4496.906542380792\n",
      "Iteration 11, inertia 4496.650115449697\n",
      "Iteration 12, inertia 4496.586982476224\n",
      "Iteration 13, inertia 4496.4624400372695\n",
      "Iteration 14, inertia 4496.368272925582\n",
      "Iteration 15, inertia 4496.301392214987\n",
      "Converged at iteration 15: center shift 1.3227867365876382e-06 within tolerance 1.6613152103029398e-06.\n",
      "Initialization complete\n",
      "Iteration 0, inertia 6716.448223689431\n",
      "Iteration 1, inertia 5323.4080336995\n",
      "Iteration 2, inertia 4978.753926540628\n",
      "Iteration 3, inertia 4724.2571911040795\n",
      "Iteration 4, inertia 4616.140591654882\n",
      "Iteration 5, inertia 4587.300087268255\n",
      "Iteration 6, inertia 4576.333519861614\n",
      "Iteration 7, inertia 4568.325331895527\n",
      "Iteration 8, inertia 4567.228164920234\n",
      "Iteration 9, inertia 4567.127438173071\n",
      "Converged at iteration 9: center shift 6.519945551817419e-07 within tolerance 1.6613152103029398e-06.\n",
      "Initialization complete\n",
      "Iteration 0, inertia 6507.097581348807\n",
      "Iteration 1, inertia 5033.459642754868\n",
      "Iteration 2, inertia 4693.460888504165\n",
      "Iteration 3, inertia 4579.2854997162085\n",
      "Iteration 4, inertia 4547.430799100085\n",
      "Iteration 5, inertia 4524.682961037003\n",
      "Iteration 6, inertia 4509.597322334772\n",
      "Iteration 7, inertia 4501.381641270102\n",
      "Iteration 8, inertia 4498.279915873794\n",
      "Iteration 9, inertia 4497.291013905298\n",
      "Iteration 10, inertia 4496.951268874719\n",
      "Iteration 11, inertia 4496.659541843276\n",
      "Iteration 12, inertia 4496.464949440578\n",
      "Iteration 13, inertia 4496.356186457699\n",
      "Iteration 14, inertia 4496.274754422615\n",
      "Iteration 15, inertia 4496.227136735362\n",
      "Iteration 16, inertia 4496.166590129116\n",
      "Iteration 17, inertia 4496.074412319641\n",
      "Iteration 18, inertia 4495.990888872885\n",
      "Converged at iteration 18: center shift 1.3414997603200692e-06 within tolerance 1.6613152103029398e-06.\n",
      "Initialization complete\n",
      "Iteration 0, inertia 5976.615255752235\n",
      "Iteration 1, inertia 4737.88820014129\n",
      "Iteration 2, inertia 4655.914339042547\n",
      "Iteration 3, inertia 4613.1944393927215\n",
      "Iteration 4, inertia 4571.9549299309865\n",
      "Iteration 5, inertia 4548.1367711601615\n",
      "Iteration 6, inertia 4531.480361911346\n",
      "Iteration 7, inertia 4520.867131339248\n",
      "Iteration 8, inertia 4515.684748618442\n",
      "Iteration 9, inertia 4512.485566748593\n",
      "Iteration 10, inertia 4510.071624839563\n",
      "Iteration 11, inertia 4503.28976499525\n",
      "Iteration 12, inertia 4498.9692325952865\n",
      "Iteration 13, inertia 4497.611274949106\n",
      "Iteration 14, inertia 4496.784031000764\n",
      "Iteration 15, inertia 4496.6327879213895\n",
      "Iteration 16, inertia 4496.551966401459\n",
      "Iteration 17, inertia 4496.439348760118\n",
      "Iteration 18, inertia 4496.355874447592\n",
      "Converged at iteration 18: center shift 1.5935653720586005e-06 within tolerance 1.6613152103029398e-06.\n",
      "Initialization complete\n",
      "Iteration 0, inertia 7152.253136645744\n",
      "Iteration 1, inertia 5299.616391234062\n",
      "Iteration 2, inertia 4895.704628330786\n",
      "Iteration 3, inertia 4616.898358779068\n",
      "Iteration 4, inertia 4526.183570322792\n",
      "Iteration 5, inertia 4507.269908829896\n",
      "Iteration 6, inertia 4502.8586827682275\n",
      "Iteration 7, inertia 4501.348076548243\n",
      "Iteration 8, inertia 4500.607679259401\n",
      "Iteration 9, inertia 4500.253401905447\n",
      "Iteration 10, inertia 4499.977398523747\n",
      "Iteration 11, inertia 4499.820244313967\n",
      "Iteration 12, inertia 4499.370422044595\n",
      "Iteration 13, inertia 4499.096630936749\n",
      "Iteration 14, inertia 4498.370073402997\n",
      "Iteration 15, inertia 4497.602037245819\n",
      "Iteration 16, inertia 4497.327615159698\n",
      "Iteration 17, inertia 4496.839550680477\n",
      "Iteration 18, inertia 4496.285387733682\n",
      "Iteration 19, inertia 4496.0882544439555\n",
      "Iteration 20, inertia 4495.991098168311\n",
      "Iteration 21, inertia 4495.893548245739\n",
      "Converged at iteration 21: center shift 1.2612986418363014e-06 within tolerance 1.6613152103029398e-06.\n",
      "Initialization complete\n",
      "Iteration 0, inertia 6682.90252569464\n",
      "Iteration 1, inertia 4897.426599967548\n",
      "Iteration 2, inertia 4754.733678519327\n",
      "Iteration 3, inertia 4726.3644137592155\n",
      "Iteration 4, inertia 4709.154512143147\n",
      "Iteration 5, inertia 4701.912911853909\n",
      "Iteration 6, inertia 4698.680542734466\n",
      "Iteration 7, inertia 4694.767065603717\n",
      "Iteration 8, inertia 4684.841712619911\n",
      "Iteration 9, inertia 4673.749920975957\n",
      "Iteration 10, inertia 4666.571296144362\n",
      "Iteration 11, inertia 4659.198072032101\n",
      "Iteration 12, inertia 4652.990801348934\n",
      "Iteration 13, inertia 4646.799122172087\n",
      "Iteration 14, inertia 4638.133418699471\n",
      "Iteration 15, inertia 4624.135634362337\n",
      "Iteration 16, inertia 4605.109880081987\n",
      "Iteration 17, inertia 4588.169825346894\n",
      "Iteration 18, inertia 4575.30571002612\n",
      "Iteration 19, inertia 4564.928403994319\n",
      "Iteration 20, inertia 4555.936614083134\n",
      "Iteration 21, inertia 4552.240637635566\n",
      "Iteration 22, inertia 4549.155517206656\n",
      "Iteration 23, inertia 4545.528609244489\n",
      "Iteration 24, inertia 4544.206268229108\n",
      "Iteration 25, inertia 4543.800015956048\n",
      "Iteration 26, inertia 4543.653076072041\n",
      "Iteration 27, inertia 4543.31151717691\n",
      "Iteration 28, inertia 4540.426672639702\n",
      "Iteration 29, inertia 4537.974206775532\n",
      "Iteration 30, inertia 4536.801457987373\n",
      "Iteration 31, inertia 4536.434626944569\n",
      "Iteration 32, inertia 4536.288400073804\n",
      "Iteration 33, inertia 4536.237107806794\n",
      "Converged at iteration 33: center shift 9.578818456715073e-07 within tolerance 1.6613152103029398e-06.\n",
      "Initialization complete\n",
      "Iteration 0, inertia 6370.660735849857\n",
      "Iteration 1, inertia 4824.281394642041\n",
      "Iteration 2, inertia 4579.7004776610975\n",
      "Iteration 3, inertia 4529.741775866312\n",
      "Iteration 4, inertia 4512.8553541122665\n",
      "Iteration 5, inertia 4502.625049324828\n",
      "Iteration 6, inertia 4497.926836434676\n",
      "Iteration 7, inertia 4496.939910319414\n",
      "Iteration 8, inertia 4496.687557607526\n",
      "Iteration 9, inertia 4496.577576127305\n",
      "Iteration 10, inertia 4496.4476033257815\n",
      "Iteration 11, inertia 4496.355206696208\n",
      "Converged at iteration 11: center shift 1.563538976528303e-06 within tolerance 1.6613152103029398e-06.\n"
     ]
    },
    {
     "data": {
      "text/plain": [
       "KMeans(max_iter=500, n_clusters=6, verbose=1)"
      ]
     },
     "execution_count": 110,
     "metadata": {},
     "output_type": "execute_result"
    }
   ],
   "source": [
    "kmeansD = KMeans(n_clusters=6, max_iter=500, verbose=1) # initialization\n",
    "kmeansD.fit(datatrans)"
   ]
  },
  {
   "cell_type": "code",
   "execution_count": 111,
   "metadata": {},
   "outputs": [
    {
     "data": {
      "text/html": [
       "<div>\n",
       "<style scoped>\n",
       "    .dataframe tbody tr th:only-of-type {\n",
       "        vertical-align: middle;\n",
       "    }\n",
       "\n",
       "    .dataframe tbody tr th {\n",
       "        vertical-align: top;\n",
       "    }\n",
       "\n",
       "    .dataframe thead th {\n",
       "        text-align: right;\n",
       "    }\n",
       "</style>\n",
       "<table border=\"1\" class=\"dataframe\">\n",
       "  <thead>\n",
       "    <tr style=\"text-align: right;\">\n",
       "      <th></th>\n",
       "      <th>Cluster</th>\n",
       "    </tr>\n",
       "  </thead>\n",
       "  <tbody>\n",
       "    <tr>\n",
       "      <th>0</th>\n",
       "      <td>0</td>\n",
       "    </tr>\n",
       "    <tr>\n",
       "      <th>1</th>\n",
       "      <td>0</td>\n",
       "    </tr>\n",
       "    <tr>\n",
       "      <th>2</th>\n",
       "      <td>0</td>\n",
       "    </tr>\n",
       "    <tr>\n",
       "      <th>3</th>\n",
       "      <td>0</td>\n",
       "    </tr>\n",
       "    <tr>\n",
       "      <th>4</th>\n",
       "      <td>0</td>\n",
       "    </tr>\n",
       "    <tr>\n",
       "      <th>...</th>\n",
       "      <td>...</td>\n",
       "    </tr>\n",
       "    <tr>\n",
       "      <th>111018</th>\n",
       "      <td>3</td>\n",
       "    </tr>\n",
       "    <tr>\n",
       "      <th>111019</th>\n",
       "      <td>0</td>\n",
       "    </tr>\n",
       "    <tr>\n",
       "      <th>111020</th>\n",
       "      <td>3</td>\n",
       "    </tr>\n",
       "    <tr>\n",
       "      <th>111021</th>\n",
       "      <td>0</td>\n",
       "    </tr>\n",
       "    <tr>\n",
       "      <th>111022</th>\n",
       "      <td>3</td>\n",
       "    </tr>\n",
       "  </tbody>\n",
       "</table>\n",
       "<p>111023 rows × 1 columns</p>\n",
       "</div>"
      ],
      "text/plain": [
       "        Cluster\n",
       "0             0\n",
       "1             0\n",
       "2             0\n",
       "3             0\n",
       "4             0\n",
       "...         ...\n",
       "111018        3\n",
       "111019        0\n",
       "111020        3\n",
       "111021        0\n",
       "111022        3\n",
       "\n",
       "[111023 rows x 1 columns]"
      ]
     },
     "execution_count": 111,
     "metadata": {},
     "output_type": "execute_result"
    }
   ],
   "source": [
    "clustersD = kmeansD.predict(datatrans)\n",
    "pd.DataFrame(clustersD, columns=[\"Cluster\"])"
   ]
  },
  {
   "cell_type": "code",
   "execution_count": 112,
   "metadata": {},
   "outputs": [],
   "source": [
    "columns_name = [\"cluster:1\",\"cluster:2\",\"cluster:3\",\"cluster:4\",\"cluster:5\",\"cluster:6\"]"
   ]
  },
  {
   "cell_type": "code",
   "execution_count": 113,
   "metadata": {},
   "outputs": [
    {
     "data": {
      "text/html": [
       "<div>\n",
       "<style scoped>\n",
       "    .dataframe tbody tr th:only-of-type {\n",
       "        vertical-align: middle;\n",
       "    }\n",
       "\n",
       "    .dataframe tbody tr th {\n",
       "        vertical-align: top;\n",
       "    }\n",
       "\n",
       "    .dataframe thead th {\n",
       "        text-align: right;\n",
       "    }\n",
       "</style>\n",
       "<table border=\"1\" class=\"dataframe\">\n",
       "  <thead>\n",
       "    <tr style=\"text-align: right;\">\n",
       "      <th></th>\n",
       "      <th>cluster:1</th>\n",
       "      <th>cluster:2</th>\n",
       "      <th>cluster:3</th>\n",
       "      <th>cluster:4</th>\n",
       "      <th>cluster:5</th>\n",
       "      <th>cluster:6</th>\n",
       "    </tr>\n",
       "  </thead>\n",
       "  <tbody>\n",
       "    <tr>\n",
       "      <th>0</th>\n",
       "      <td>-0.15</td>\n",
       "      <td>-0.07</td>\n",
       "      <td>0.01</td>\n",
       "      <td>0.00</td>\n",
       "      <td>-0.01</td>\n",
       "      <td>0.02</td>\n",
       "    </tr>\n",
       "    <tr>\n",
       "      <th>1</th>\n",
       "      <td>0.38</td>\n",
       "      <td>0.04</td>\n",
       "      <td>0.30</td>\n",
       "      <td>0.02</td>\n",
       "      <td>-0.02</td>\n",
       "      <td>0.04</td>\n",
       "    </tr>\n",
       "    <tr>\n",
       "      <th>2</th>\n",
       "      <td>0.00</td>\n",
       "      <td>0.51</td>\n",
       "      <td>-0.07</td>\n",
       "      <td>-0.02</td>\n",
       "      <td>0.02</td>\n",
       "      <td>-0.01</td>\n",
       "    </tr>\n",
       "    <tr>\n",
       "      <th>3</th>\n",
       "      <td>0.09</td>\n",
       "      <td>-0.09</td>\n",
       "      <td>-0.02</td>\n",
       "      <td>-0.00</td>\n",
       "      <td>0.02</td>\n",
       "      <td>-0.03</td>\n",
       "    </tr>\n",
       "    <tr>\n",
       "      <th>4</th>\n",
       "      <td>-0.08</td>\n",
       "      <td>0.14</td>\n",
       "      <td>0.01</td>\n",
       "      <td>-0.00</td>\n",
       "      <td>0.00</td>\n",
       "      <td>-0.00</td>\n",
       "    </tr>\n",
       "    <tr>\n",
       "      <th>5</th>\n",
       "      <td>0.39</td>\n",
       "      <td>-0.04</td>\n",
       "      <td>-0.22</td>\n",
       "      <td>-0.01</td>\n",
       "      <td>-0.03</td>\n",
       "      <td>-0.00</td>\n",
       "    </tr>\n",
       "  </tbody>\n",
       "</table>\n",
       "</div>"
      ],
      "text/plain": [
       "   cluster:1  cluster:2  cluster:3  cluster:4  cluster:5  cluster:6\n",
       "0      -0.15      -0.07       0.01       0.00      -0.01       0.02\n",
       "1       0.38       0.04       0.30       0.02      -0.02       0.04\n",
       "2       0.00       0.51      -0.07      -0.02       0.02      -0.01\n",
       "3       0.09      -0.09      -0.02      -0.00       0.02      -0.03\n",
       "4      -0.08       0.14       0.01      -0.00       0.00      -0.00\n",
       "5       0.39      -0.04      -0.22      -0.01      -0.03      -0.00"
      ]
     },
     "execution_count": 113,
     "metadata": {},
     "output_type": "execute_result"
    }
   ],
   "source": [
    "pd.options.display.float_format='{:,.2f}'.format\n",
    "centroids = pd.DataFrame(kmeansD.cluster_centers_, columns = columns_name)\n",
    "centroids"
   ]
  },
  {
   "cell_type": "code",
   "execution_count": 114,
   "metadata": {},
   "outputs": [
    {
     "name": "stdout",
     "output_type": "stream",
     "text": [
      "[0.33 0.33 0.33 0.33 0.33 0.32 0.32 0.33 0.2  0.32 0.24 0.24 0.24 0.24\n",
      " 0.24 0.24 0.39 0.24 0.24 0.24]\n"
     ]
    }
   ],
   "source": [
    "silhouettesD = metrics.silhouette_samples(datatrans, clustersD)\n",
    "print(silhouettesD[:20])"
   ]
  },
  {
   "cell_type": "code",
   "execution_count": 115,
   "metadata": {},
   "outputs": [
    {
     "name": "stdout",
     "output_type": "stream",
     "text": [
      "Over all mean silhouettes: 0.25394330819802063 \n"
     ]
    }
   ],
   "source": [
    "print(\"Over all mean silhouettes: %s \" %(silhouettesD.mean()))"
   ]
  },
  {
   "cell_type": "code",
   "execution_count": 116,
   "metadata": {},
   "outputs": [
    {
     "data": {
      "image/png": "[encoded data removed]",
      "text/plain": [
       "<Figure size 432x288 with 1 Axes>"
      ]
     },
     "metadata": {
      "needs_background": "light"
     },
     "output_type": "display_data"
    }
   ],
   "source": [
    "plot_silhouettes(datatrans, clustersD)"
   ]
  },
  {
   "cell_type": "code",
   "execution_count": 117,
   "metadata": {},
   "outputs": [
    {
     "name": "stdout",
     "output_type": "stream",
     "text": [
      "completeness_score: 0.02447060904776455 \n"
     ]
    }
   ],
   "source": [
    "print(\"completeness_score: %s \" %(completeness_score(target,clustersD)))"
   ]
  },
  {
   "cell_type": "code",
   "execution_count": 118,
   "metadata": {},
   "outputs": [
    {
     "name": "stdout",
     "output_type": "stream",
     "text": [
      "homogeneity_score:  0.010618304631575795\n"
     ]
    }
   ],
   "source": [
    "print(\"homogeneity_score:  %s\" %(homogeneity_score(target,clustersD)))"
   ]
  },
  {
   "cell_type": "markdown",
   "metadata": {},
   "source": [
    "## Peform Random Forest"
   ]
  },
  {
   "cell_type": "code",
   "execution_count": 27,
   "metadata": {},
   "outputs": [],
   "source": [
    "from sklearn import metrics\n",
    "\n",
    "def measure_performance(X, y, clf, show_accuracy=True, show_classification_report=True, show_confussion_matrix=True):\n",
    "    y_pred = clf.predict(X)   \n",
    "    if show_accuracy:\n",
    "         print(\"Accuracy:{0:.3f}\".format(metrics.accuracy_score(y, y_pred)),\"\\n\")\n",
    "    if show_classification_report:\n",
    "        print(\"Classification report\")\n",
    "        print(metrics.classification_report(y, y_pred),\"\\n\")\n",
    "      \n",
    "    if show_confussion_matrix:\n",
    "        print(\"Confussion matrix\")\n",
    "        print(metrics.confusion_matrix(y, y_pred),\"\\n\")"
   ]
  },
  {
   "cell_type": "markdown",
   "metadata": {},
   "source": [
    "#### Decision Tree Classifier"
   ]
  },
  {
   "cell_type": "code",
   "execution_count": 28,
   "metadata": {},
   "outputs": [],
   "source": [
    "from sklearn import tree\n",
    "dt = tree.DecisionTreeClassifier(criterion='gini')\n",
    "dt = dt.fit(train, target_train)"
   ]
  },
  {
   "cell_type": "code",
   "execution_count": 29,
   "metadata": {},
   "outputs": [
    {
     "name": "stdout",
     "output_type": "stream",
     "text": [
      "Accuracy:0.791 \n",
      "\n"
     ]
    }
   ],
   "source": [
    "from sklearn import metrics\n",
    "measure_performance(test, target_test, dt, show_confussion_matrix=False, show_classification_report=False)"
   ]
  },
  {
   "cell_type": "markdown",
   "metadata": {},
   "source": [
    "#### RandomForest Classifier"
   ]
  },
  {
   "cell_type": "code",
   "execution_count": 64,
   "metadata": {},
   "outputs": [],
   "source": [
    "from sklearn.ensemble import RandomForestClassifier\n",
    "rf = RandomForestClassifier(n_estimators=10, random_state=33)\n",
    "rf = rf.fit(train, target_train)"
   ]
  },
  {
   "cell_type": "code",
   "execution_count": 65,
   "metadata": {},
   "outputs": [
    {
     "name": "stdout",
     "output_type": "stream",
     "text": [
      "Accuracy:0.811 \n",
      "\n"
     ]
    }
   ],
   "source": [
    "measure_performance(test, target_test, rf, show_confussion_matrix=False, show_classification_report=False)"
   ]
  },
  {
   "cell_type": "markdown",
   "metadata": {},
   "source": [
    "#### Exploring and comparing model parameters"
   ]
  },
  {
   "cell_type": "code",
   "execution_count": 66,
   "metadata": {},
   "outputs": [
    {
     "name": "stdout",
     "output_type": "stream",
     "text": [
      "{'bootstrap': True, 'ccp_alpha': 0.0, 'class_weight': None, 'criterion': 'gini', 'max_depth': None, 'max_features': 'auto', 'max_leaf_nodes': None, 'max_samples': None, 'min_impurity_decrease': 0.0, 'min_impurity_split': None, 'min_samples_leaf': 1, 'min_samples_split': 2, 'min_weight_fraction_leaf': 0.0, 'n_estimators': 10, 'n_jobs': None, 'oob_score': False, 'random_state': 33, 'verbose': 0, 'warm_start': False}\n"
     ]
    }
   ],
   "source": [
    "print(rf.get_params())"
   ]
  },
  {
   "cell_type": "code",
   "execution_count": 67,
   "metadata": {},
   "outputs": [],
   "source": [
    "from sklearn.model_selection import KFold\n",
    "\n",
    "def calc_params(X, y, clf, param_values, param_name, K):\n",
    "    \n",
    "    # Convert input to Numpy arrays\n",
    "    X = np.array(X)\n",
    "    y = np.array(y)\n",
    "\n",
    "    # initialize training and testing score arrays with zeros\n",
    "    train_scores = np.zeros(len(param_values))\n",
    "    test_scores = np.zeros(len(param_values))\n",
    "    \n",
    "    # iterate over the different parameter values\n",
    "    for i, param_value in enumerate(param_values):\n",
    "\n",
    "        # set classifier parameters\n",
    "        clf.set_params(**{param_name:param_value})\n",
    "        \n",
    "        # initialize the K scores obtained for each fold\n",
    "        k_train_scores = np.zeros(K)\n",
    "        k_test_scores = np.zeros(K)\n",
    "        \n",
    "        # create KFold cross validation\n",
    "        cv = KFold(n_splits=K, shuffle=True, random_state=0)\n",
    "        \n",
    "        # iterate over the K folds\n",
    "        j = 0\n",
    "        for train, test in cv.split(X):\n",
    "            # fit the classifier in the corresponding fold\n",
    "            # and obtain the corresponding accuracy scores on train and test sets\n",
    "            clf.fit(X[train], y[train])\n",
    "            k_train_scores[j] = clf.score(X[train], y[train])\n",
    "            k_test_scores[j] = clf.score(X[test], y[test])\n",
    "            j += 1\n",
    "            \n",
    "        # store the mean of the K fold scores\n",
    "        train_scores[i] = np.mean(k_train_scores)\n",
    "        test_scores[i] = np.mean(k_test_scores)\n",
    "        print(param_name, '=', param_value, \"Train =\", train_scores[i], \"Test =\", test_scores[i])\n",
    "       \n",
    "    # plot the training and testing scores in a log scale\n",
    "    plt.plot(param_values, train_scores, label='Train', alpha=0.4, lw=2, c='b')\n",
    "    plt.plot(param_values, test_scores, label='X-Val', alpha=0.4, lw=2, c='g')\n",
    "    plt.legend(loc=7)\n",
    "    plt.xlabel(param_name + \" values\")\n",
    "    plt.ylabel(\"Mean cross validation accuracy\")\n",
    "\n",
    "    # return the training and testing scores on each parameter value\n",
    "    return train_scores, test_scores"
   ]
  },
  {
   "cell_type": "code",
   "execution_count": 75,
   "metadata": {},
   "outputs": [
    {
     "name": "stdout",
     "output_type": "stream",
     "text": [
      "range(1, 20)\n"
     ]
    }
   ],
   "source": [
    "msl = range(1,20)\n",
    "print(msl)"
   ]
  },
  {
   "cell_type": "code",
   "execution_count": 76,
   "metadata": {},
   "outputs": [
    {
     "name": "stdout",
     "output_type": "stream",
     "text": [
      "min_samples_leaf = 1 Train = 0.9945506540495165 Test = 0.7974847505183817\n",
      "min_samples_leaf = 2 Train = 0.9657101550362224 Test = 0.7775450823786023\n",
      "min_samples_leaf = 3 Train = 0.9280326074162305 Test = 0.7544754796722893\n",
      "min_samples_leaf = 4 Train = 0.8925030196574287 Test = 0.7345133435230229\n",
      "min_samples_leaf = 5 Train = 0.8626567183948441 Test = 0.7180301091864381\n",
      "min_samples_leaf = 6 Train = 0.8360967920883363 Test = 0.701839677777076\n",
      "min_samples_leaf = 7 Train = 0.8133023565949848 Test = 0.6897926411773314\n",
      "min_samples_leaf = 8 Train = 0.793582879175978 Test = 0.6758990480881325\n",
      "min_samples_leaf = 9 Train = 0.7757649270429015 Test = 0.6657659580612538\n",
      "min_samples_leaf = 10 Train = 0.7605678021813727 Test = 0.656477318086138\n",
      "min_samples_leaf = 11 Train = 0.745632143513953 Test = 0.645983908275451\n",
      "min_samples_leaf = 12 Train = 0.7310517647076116 Test = 0.6371005786155817\n",
      "min_samples_leaf = 13 Train = 0.7191510234189077 Test = 0.629219278061768\n",
      "min_samples_leaf = 14 Train = 0.7085775896603292 Test = 0.6219460463009605\n",
      "min_samples_leaf = 15 Train = 0.6965204781542937 Test = 0.6131527446100421\n",
      "min_samples_leaf = 16 Train = 0.6867952212014179 Test = 0.6070165515815574\n",
      "min_samples_leaf = 17 Train = 0.6767584595560907 Test = 0.5983359385643003\n",
      "min_samples_leaf = 18 Train = 0.668259186095264 Test = 0.5936746892871928\n",
      "min_samples_leaf = 19 Train = 0.6606919037237622 Test = 0.5885855374476417\n"
     ]
    },
    {
     "data": {
      "image/png": "[encoded data removed]",
      "text/plain": [
       "<Figure size 432x288 with 1 Axes>"
      ]
     },
     "metadata": {
      "needs_background": "light"
     },
     "output_type": "display_data"
    }
   ],
   "source": [
    "rf = RandomForestClassifier(n_estimators=10, random_state=33)\n",
    "train_scores, test_scores = calc_params(train, target_train, rf, msl, 'min_samples_leaf', 10)"
   ]
  },
  {
   "cell_type": "markdown",
   "metadata": {},
   "source": [
    "#### Looks like min_sample = 1 is works well"
   ]
  },
  {
   "cell_type": "code",
   "execution_count": 73,
   "metadata": {},
   "outputs": [
    {
     "name": "stdout",
     "output_type": "stream",
     "text": [
      "max_depth = 1 Train = 0.08069685494946367 Test = 0.0807155780219029\n",
      "max_depth = 2 Train = 0.08436227727944642 Test = 0.0840032196836345\n",
      "max_depth = 3 Train = 0.10321231292926807 Test = 0.1028282232884297\n",
      "max_depth = 4 Train = 0.1251448134876792 Test = 0.12363475117379914\n",
      "max_depth = 5 Train = 0.1553976900574214 Test = 0.1538088416732629\n",
      "max_depth = 6 Train = 0.18437327501266934 Test = 0.18051525358906897\n",
      "max_depth = 7 Train = 0.22597770555411265 Test = 0.22056349357048305\n",
      "max_depth = 8 Train = 0.277306168120255 Test = 0.26727675073054946\n",
      "max_depth = 9 Train = 0.33712760939264186 Test = 0.3186628480389496\n",
      "max_depth = 10 Train = 0.3977659643132899 Test = 0.3703191256018144\n",
      "max_depth = 11 Train = 0.46714006599402386 Test = 0.42546543946516324\n",
      "max_depth = 12 Train = 0.5344887607422592 Test = 0.4797788130131445\n",
      "max_depth = 13 Train = 0.6004250824568483 Test = 0.5285753920441365\n",
      "max_depth = 14 Train = 0.6613887074137585 Test = 0.5729919452636034\n",
      "max_depth = 15 Train = 0.7296018607735557 Test = 0.6209777033624885\n",
      "max_depth = 16 Train = 0.7839176416692858 Test = 0.6573444148975618\n",
      "max_depth = 17 Train = 0.8306311702319811 Test = 0.6897813292070862\n",
      "max_depth = 18 Train = 0.8668976051933782 Test = 0.7124006602245443\n",
      "max_depth = 19 Train = 0.8983176611438143 Test = 0.7326105010123978\n",
      "max_depth = 20 Train = 0.9239618570395803 Test = 0.7480915997534617\n"
     ]
    },
    {
     "data": {
      "image/png": "[encoded data removed]",
      "text/plain": [
       "<Figure size 432x288 with 1 Axes>"
      ]
     },
     "metadata": {
      "needs_background": "light"
     },
     "output_type": "display_data"
    }
   ],
   "source": [
    "m_depth = [1,2,3,4,5,6, 7, 8,9,10,11,12,13,14,15,16,17,18,19,20]\n",
    "\n",
    "rf = RandomForestClassifier(n_estimators=10, random_state=33)\n",
    "train_scores, test_scores = calc_params(train, target_train, rf, m_depth, 'max_depth', 10)"
   ]
  },
  {
   "cell_type": "markdown",
   "metadata": {},
   "source": [
    "#### Looks like max depth 20 works well."
   ]
  },
  {
   "cell_type": "code",
   "execution_count": 37,
   "metadata": {},
   "outputs": [
    {
     "name": "stdout",
     "output_type": "stream",
     "text": [
      "range(5, 101, 5)\n"
     ]
    }
   ],
   "source": [
    "nest = range(5, 101, 5)\n",
    "print(nest)"
   ]
  },
  {
   "cell_type": "code",
   "execution_count": 77,
   "metadata": {},
   "outputs": [
    {
     "name": "stdout",
     "output_type": "stream",
     "text": [
      "n_estimators = 5 Train = 0.9806270510547573 Test = 0.774854206413754\n",
      "n_estimators = 10 Train = 0.9945506540495165 Test = 0.7974847505183817\n",
      "n_estimators = 15 Train = 0.9963370786700292 Test = 0.8035083131888647\n",
      "n_estimators = 20 Train = 0.9968087046885842 Test = 0.8051633864065844\n",
      "n_estimators = 25 Train = 0.9969863463014803 Test = 0.80680720723745\n",
      "n_estimators = 30 Train = 0.9970714140742271 Test = 0.8086086312095115\n",
      "n_estimators = 35 Train = 0.9971177010569011 Test = 0.809205367748565\n",
      "n_estimators = 40 Train = 0.9971389680079128 Test = 0.8098921614143991\n",
      "n_estimators = 45 Train = 0.9971627369761753 Test = 0.8100948197413519\n",
      "n_estimators = 50 Train = 0.9971739959833812 Test = 0.8101961596805479\n",
      "n_estimators = 55 Train = 0.9971827529889856 Test = 0.8105339011622081\n",
      "n_estimators = 60 Train = 0.9971865059757377 Test = 0.810725313440966\n",
      "n_estimators = 65 Train = 0.9971902589781397 Test = 0.8109730180795532\n",
      "n_estimators = 70 Train = 0.9971977649672936 Test = 0.8110518278904074\n",
      "n_estimators = 75 Train = 0.9971990159837439 Test = 0.811153156420018\n",
      "n_estimators = 80 Train = 0.9972002669845448 Test = 0.8111531551522863\n",
      "n_estimators = 85 Train = 0.9971965139821428 Test = 0.811209451315311\n",
      "n_estimators = 90 Train = 0.9972015179696957 Test = 0.8110180479106754\n",
      "n_estimators = 95 Train = 0.9972027689704962 Test = 0.8114121096422636\n",
      "n_estimators = 100 Train = 0.9972015179696957 Test = 0.8112207138440184\n"
     ]
    },
    {
     "data": {
      "image/png": "[encoded data removed]",
      "text/plain": [
       "<Figure size 432x288 with 1 Axes>"
      ]
     },
     "metadata": {
      "needs_background": "light"
     },
     "output_type": "display_data"
    }
   ],
   "source": [
    "rf = RandomForestClassifier(n_estimators=10, random_state=33)\n",
    "train_scores, test_scores = calc_params(train, target_train, rf, nest, 'n_estimators', 10)"
   ]
  },
  {
   "cell_type": "markdown",
   "metadata": {},
   "source": [
    "#### Looks like n_estimator = 95 is the best one"
   ]
  },
  {
   "cell_type": "code",
   "execution_count": 78,
   "metadata": {},
   "outputs": [
    {
     "name": "stdout",
     "output_type": "stream",
     "text": [
      "Accuracy:0.810 \n",
      "\n"
     ]
    }
   ],
   "source": [
    "rf = RandomForestClassifier(n_estimators=95, min_samples_leaf=1, max_depth=20)\n",
    "rf = rf.fit(train, target_train)\n",
    "\n",
    "measure_performance(test, target_test, rf, show_confussion_matrix=False, show_classification_report=False)"
   ]
  },
  {
   "cell_type": "code",
   "execution_count": null,
   "metadata": {},
   "outputs": [],
   "source": []
  }
 ],
 "metadata": {
  "kernelspec": {
   "display_name": "Python 3",
   "language": "python",
   "name": "python3"
  },
  "language_info": {
   "codemirror_mode": {
    "name": "ipython",
    "version": 3
   },
   "file_extension": ".py",
   "mimetype": "text/x-python",
   "name": "python",
   "nbconvert_exporter": "python",
   "pygments_lexer": "ipython3",
   "version": "3.8.3"
  }
 },
 "nbformat": 4,
 "nbformat_minor": 4
}
